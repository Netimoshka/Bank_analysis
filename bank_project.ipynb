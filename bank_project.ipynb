{
 "cells": [
  {
   "cell_type": "markdown",
   "id": "4dad7b5a",
   "metadata": {},
   "source": [
    "# Проект по анализу факторов оттока клиентов для банка \"Метанпром\""
   ]
  },
  {
   "cell_type": "markdown",
   "id": "1d605466",
   "metadata": {},
   "source": [
    "\n",
    "Перед банком \"Метанпром\" встала задача уменьшить отток клиентов. Уровень оттока клиентов, как мы увидим, позднее порядка 18%. Как мы увидим в дальнейшем, две группы - \"отточные\" и \"неотточные\" клиенты довольно заметно отличаются друг от друга. Так например, если в группе \"отточные\" вероятность встретить мужчину равна примерно 0.65%, то среди неотточных она не сильно отличается от среднестатистических показателей, будучи равна примерно 0.5. Довольно серьезно отличаются и такие показатели как имущество, количество продуктов, активность. Ниже будут даны более подробные количественные сравнения между двумя группами.   "
   ]
  },
  {
   "cell_type": "markdown",
   "id": "68151fb2",
   "metadata": {},
   "source": [
    "План проекта:"
   ]
  },
  {
   "cell_type": "markdown",
   "id": "dce9c985",
   "metadata": {},
   "source": [
    "I. Выгрузка и общий анализ датасета:\n",
    "\n",
    "- импорт библиотек для работы\n",
    "- загрузка датасета и составление общего представления об имеющихся данных"
   ]
  },
  {
   "cell_type": "markdown",
   "id": "de3d3dc5",
   "metadata": {},
   "source": [
    "II. Предобработка данных\n",
    "\n",
    "- приведение данных к единому формату\n",
    "- проверка и обработка, если требуется, пропущенных значений\n",
    "- проверка соответствия типов данных самим данным\n",
    "- проверка на наличие дубликатов;\n",
    "- проверка на наличие выбросов и аномалий;\n",
    "- общий вывод по шагу \"Предобработка данных\"."
   ]
  },
  {
   "cell_type": "markdown",
   "id": "d69130ca",
   "metadata": {},
   "source": [
    "III. Исследовательский анализ данных:\n",
    "\n",
    "- анализ распределения признаков в генеральной совокупности\n",
    "- сравнение признаков в двух группах — уходящих и остающихся\n",
    "- сегментация\n",
    "- выводы и рекомендации"
   ]
  },
  {
   "cell_type": "code",
   "execution_count": 1,
   "id": "93d0c8b5",
   "metadata": {},
   "outputs": [],
   "source": [
    "#Импортируем стандартные библиотеки\n",
    "import pandas as pd\n",
    "import numpy as np\n",
    "import matplotlib.pyplot as plt\n",
    "import datetime as dt\n",
    "from datetime import datetime, date, timedelta\n",
    "import scipy.stats as st\n",
    "import plotly.express as px\n",
    "from matplotlib.pyplot import figure\n",
    "from plotly import graph_objects as go\n",
    "from itertools import combinations\n",
    "import seaborn as sns\n",
    "import matplotlib.pyplot as plt\n",
    "import matplotlib.ticker as ticker"
   ]
  },
  {
   "cell_type": "code",
   "execution_count": 2,
   "id": "9b2766d9",
   "metadata": {},
   "outputs": [],
   "source": [
    "# зададим настройки pandas, регулирующие \n",
    "# формат вывода \n",
    "pd.set_option('display.notebook_repr_html', False) \n",
    "pd.set_option('display.max_columns', 15) \n",
    "pd.set_option('display.max_rows', 15) \n",
    "pd.set_option('display.width', 80) \n",
    "pd.options.display.max_colwidth = 130\n",
    "pd.set_option('display.notebook_repr_html', True)\n",
    "pd.set_option('display.float_format', lambda x: '%.3f' % x)"
   ]
  },
  {
   "cell_type": "code",
   "execution_count": 3,
   "id": "8d5d7ead",
   "metadata": {},
   "outputs": [],
   "source": [
    "#Загрузим датафрейм\n",
    "path = \"https://drive.google.com/uc?export=download&id=1-U61mhTz_N1ARjy2XSAZ7IlQqGjeqP0F\"\n",
    "banks = pd.read_csv(path)\n",
    "try:\n",
    "    df = pd.read_csv(path)\n",
    "    \n",
    "except FileNotFoundError:\n",
    "    print(\"File not found.\")\n",
    "except pd.errors.EmptyDataError:\n",
    "    print(\"No data\")\n",
    "except pd.errors.ParserError:\n",
    "    print(\"Parse error\")\n",
    "except Exception:\n",
    "    print(\"Other exceptions\")\n"
   ]
  },
  {
   "cell_type": "code",
   "execution_count": 4,
   "id": "9c7b5c47",
   "metadata": {},
   "outputs": [
    {
     "data": {
      "text/html": [
       "<div>\n",
       "<style scoped>\n",
       "    .dataframe tbody tr th:only-of-type {\n",
       "        vertical-align: middle;\n",
       "    }\n",
       "\n",
       "    .dataframe tbody tr th {\n",
       "        vertical-align: top;\n",
       "    }\n",
       "\n",
       "    .dataframe thead th {\n",
       "        text-align: right;\n",
       "    }\n",
       "</style>\n",
       "<table border=\"1\" class=\"dataframe\">\n",
       "  <thead>\n",
       "    <tr style=\"text-align: right;\">\n",
       "      <th></th>\n",
       "      <th>USERID</th>\n",
       "      <th>score</th>\n",
       "      <th>city</th>\n",
       "      <th>gender</th>\n",
       "      <th>age</th>\n",
       "      <th>equity</th>\n",
       "      <th>balance</th>\n",
       "      <th>products</th>\n",
       "      <th>credit_card</th>\n",
       "      <th>last_activity</th>\n",
       "      <th>EST_SALARY</th>\n",
       "      <th>churn</th>\n",
       "    </tr>\n",
       "  </thead>\n",
       "  <tbody>\n",
       "    <tr>\n",
       "      <th>0</th>\n",
       "      <td>183012</td>\n",
       "      <td>850.000</td>\n",
       "      <td>Рыбинск</td>\n",
       "      <td>Ж</td>\n",
       "      <td>25.000</td>\n",
       "      <td>1</td>\n",
       "      <td>59214.820</td>\n",
       "      <td>2</td>\n",
       "      <td>0</td>\n",
       "      <td>1</td>\n",
       "      <td>75719.140</td>\n",
       "      <td>1</td>\n",
       "    </tr>\n",
       "    <tr>\n",
       "      <th>1</th>\n",
       "      <td>146556</td>\n",
       "      <td>861.000</td>\n",
       "      <td>Рыбинск</td>\n",
       "      <td>Ж</td>\n",
       "      <td>37.000</td>\n",
       "      <td>5</td>\n",
       "      <td>850594.330</td>\n",
       "      <td>3</td>\n",
       "      <td>1</td>\n",
       "      <td>0</td>\n",
       "      <td>86621.770</td>\n",
       "      <td>0</td>\n",
       "    </tr>\n",
       "    <tr>\n",
       "      <th>2</th>\n",
       "      <td>120722</td>\n",
       "      <td>892.000</td>\n",
       "      <td>Рыбинск</td>\n",
       "      <td>Ж</td>\n",
       "      <td>30.000</td>\n",
       "      <td>0</td>\n",
       "      <td>NaN</td>\n",
       "      <td>1</td>\n",
       "      <td>1</td>\n",
       "      <td>1</td>\n",
       "      <td>107683.340</td>\n",
       "      <td>0</td>\n",
       "    </tr>\n",
       "    <tr>\n",
       "      <th>3</th>\n",
       "      <td>225363</td>\n",
       "      <td>866.000</td>\n",
       "      <td>Ярославль</td>\n",
       "      <td>Ж</td>\n",
       "      <td>51.000</td>\n",
       "      <td>5</td>\n",
       "      <td>1524746.260</td>\n",
       "      <td>2</td>\n",
       "      <td>0</td>\n",
       "      <td>1</td>\n",
       "      <td>174423.530</td>\n",
       "      <td>1</td>\n",
       "    </tr>\n",
       "    <tr>\n",
       "      <th>4</th>\n",
       "      <td>157978</td>\n",
       "      <td>730.000</td>\n",
       "      <td>Ярославль</td>\n",
       "      <td>М</td>\n",
       "      <td>34.000</td>\n",
       "      <td>5</td>\n",
       "      <td>174.000</td>\n",
       "      <td>1</td>\n",
       "      <td>1</td>\n",
       "      <td>0</td>\n",
       "      <td>67353.160</td>\n",
       "      <td>1</td>\n",
       "    </tr>\n",
       "  </tbody>\n",
       "</table>\n",
       "</div>"
      ],
      "text/plain": [
       "   USERID   score       city gender    age  equity     balance  products  \\\n",
       "0  183012 850.000    Рыбинск      Ж 25.000       1   59214.820         2   \n",
       "1  146556 861.000    Рыбинск      Ж 37.000       5  850594.330         3   \n",
       "2  120722 892.000    Рыбинск      Ж 30.000       0         NaN         1   \n",
       "3  225363 866.000  Ярославль      Ж 51.000       5 1524746.260         2   \n",
       "4  157978 730.000  Ярославль      М 34.000       5     174.000         1   \n",
       "\n",
       "   credit_card  last_activity  EST_SALARY  churn  \n",
       "0            0              1   75719.140      1  \n",
       "1            1              0   86621.770      0  \n",
       "2            1              1  107683.340      0  \n",
       "3            0              1  174423.530      1  \n",
       "4            1              0   67353.160      1  "
      ]
     },
     "execution_count": 4,
     "metadata": {},
     "output_type": "execute_result"
    }
   ],
   "source": [
    "banks.head()"
   ]
  },
  {
   "cell_type": "code",
   "execution_count": 5,
   "id": "246cb3f7",
   "metadata": {},
   "outputs": [
    {
     "name": "stdout",
     "output_type": "stream",
     "text": [
      "<class 'pandas.core.frame.DataFrame'>\n",
      "RangeIndex: 10000 entries, 0 to 9999\n",
      "Data columns (total 12 columns):\n",
      " #   Column         Non-Null Count  Dtype  \n",
      "---  ------         --------------  -----  \n",
      " 0   USERID         10000 non-null  int64  \n",
      " 1   score          10000 non-null  float64\n",
      " 2   city           10000 non-null  object \n",
      " 3   gender         10000 non-null  object \n",
      " 4   age            9974 non-null   float64\n",
      " 5   equity         10000 non-null  int64  \n",
      " 6   balance        7705 non-null   float64\n",
      " 7   products       10000 non-null  int64  \n",
      " 8   credit_card    10000 non-null  int64  \n",
      " 9   last_activity  10000 non-null  int64  \n",
      " 10  EST_SALARY     10000 non-null  float64\n",
      " 11  churn          10000 non-null  int64  \n",
      "dtypes: float64(4), int64(6), object(2)\n",
      "memory usage: 937.6+ KB\n"
     ]
    }
   ],
   "source": [
    "banks.info()"
   ]
  },
  {
   "cell_type": "markdown",
   "id": "d14e4ccb",
   "metadata": {},
   "source": [
    "Есть довольно много пропусков в столбце balance. "
   ]
  },
  {
   "cell_type": "markdown",
   "id": "a417ad76",
   "metadata": {},
   "source": [
    "## Предобработка данных"
   ]
  },
  {
   "cell_type": "markdown",
   "id": "fd86dff3",
   "metadata": {},
   "source": [
    "### Приведение названий к единому стандарту"
   ]
  },
  {
   "cell_type": "code",
   "execution_count": 6,
   "id": "fc4acc2f",
   "metadata": {},
   "outputs": [],
   "source": [
    "banks.columns = banks.columns.str.lower()"
   ]
  },
  {
   "cell_type": "markdown",
   "id": "626f817f",
   "metadata": {},
   "source": [
    "### Обработка пропусков"
   ]
  },
  {
   "cell_type": "code",
   "execution_count": 7,
   "id": "7f17e2f6",
   "metadata": {},
   "outputs": [
    {
     "name": "stdout",
     "output_type": "stream",
     "text": [
      "Несложно видеть, что единственной колонкой с пропусками является баланс.\n",
      " При этом отсутствует практически четверть значений(22.95%)\n"
     ]
    }
   ],
   "source": [
    "print('Несложно видеть, что единственной колонкой с пропусками является баланс.\\n При этом отсутствует практически четверть значений({0}%)'.format(100*len(banks[banks['balance'].isna()])/len(banks)))  "
   ]
  },
  {
   "cell_type": "markdown",
   "id": "4fc03e77",
   "metadata": {},
   "source": [
    "Проверим, есть ли какие-либо интересные особенности у строк с пропуском баланса. "
   ]
  },
  {
   "cell_type": "code",
   "execution_count": 9,
   "id": "8b247340",
   "metadata": {},
   "outputs": [
    {
     "data": {
      "text/html": [
       "<div>\n",
       "<style scoped>\n",
       "    .dataframe tbody tr th:only-of-type {\n",
       "        vertical-align: middle;\n",
       "    }\n",
       "\n",
       "    .dataframe tbody tr th {\n",
       "        vertical-align: top;\n",
       "    }\n",
       "\n",
       "    .dataframe thead th {\n",
       "        text-align: right;\n",
       "    }\n",
       "</style>\n",
       "<table border=\"1\" class=\"dataframe\">\n",
       "  <thead>\n",
       "    <tr style=\"text-align: right;\">\n",
       "      <th></th>\n",
       "      <th>userid</th>\n",
       "      <th>score</th>\n",
       "      <th>city</th>\n",
       "      <th>gender</th>\n",
       "      <th>age</th>\n",
       "      <th>equity</th>\n",
       "      <th>balance</th>\n",
       "      <th>products</th>\n",
       "      <th>credit_card</th>\n",
       "      <th>last_activity</th>\n",
       "      <th>est_salary</th>\n",
       "      <th>churn</th>\n",
       "    </tr>\n",
       "  </thead>\n",
       "  <tbody>\n",
       "    <tr>\n",
       "      <th>2</th>\n",
       "      <td>120722</td>\n",
       "      <td>892.000</td>\n",
       "      <td>Рыбинск</td>\n",
       "      <td>Ж</td>\n",
       "      <td>30.000</td>\n",
       "      <td>0</td>\n",
       "      <td>NaN</td>\n",
       "      <td>1</td>\n",
       "      <td>1</td>\n",
       "      <td>1</td>\n",
       "      <td>107683.340</td>\n",
       "      <td>0</td>\n",
       "    </tr>\n",
       "    <tr>\n",
       "      <th>9</th>\n",
       "      <td>133130</td>\n",
       "      <td>906.000</td>\n",
       "      <td>Ярославль</td>\n",
       "      <td>Ж</td>\n",
       "      <td>67.000</td>\n",
       "      <td>0</td>\n",
       "      <td>NaN</td>\n",
       "      <td>1</td>\n",
       "      <td>0</td>\n",
       "      <td>1</td>\n",
       "      <td>238055.530</td>\n",
       "      <td>0</td>\n",
       "    </tr>\n",
       "    <tr>\n",
       "      <th>10</th>\n",
       "      <td>148929</td>\n",
       "      <td>927.000</td>\n",
       "      <td>Ростов</td>\n",
       "      <td>М</td>\n",
       "      <td>52.000</td>\n",
       "      <td>0</td>\n",
       "      <td>NaN</td>\n",
       "      <td>1</td>\n",
       "      <td>1</td>\n",
       "      <td>1</td>\n",
       "      <td>196820.070</td>\n",
       "      <td>0</td>\n",
       "    </tr>\n",
       "    <tr>\n",
       "      <th>11</th>\n",
       "      <td>172184</td>\n",
       "      <td>921.000</td>\n",
       "      <td>Ростов</td>\n",
       "      <td>М</td>\n",
       "      <td>41.000</td>\n",
       "      <td>0</td>\n",
       "      <td>NaN</td>\n",
       "      <td>1</td>\n",
       "      <td>1</td>\n",
       "      <td>1</td>\n",
       "      <td>217469.480</td>\n",
       "      <td>0</td>\n",
       "    </tr>\n",
       "    <tr>\n",
       "      <th>19</th>\n",
       "      <td>127034</td>\n",
       "      <td>922.000</td>\n",
       "      <td>Рыбинск</td>\n",
       "      <td>Ж</td>\n",
       "      <td>53.000</td>\n",
       "      <td>0</td>\n",
       "      <td>NaN</td>\n",
       "      <td>1</td>\n",
       "      <td>0</td>\n",
       "      <td>0</td>\n",
       "      <td>147094.820</td>\n",
       "      <td>0</td>\n",
       "    </tr>\n",
       "    <tr>\n",
       "      <th>21</th>\n",
       "      <td>177415</td>\n",
       "      <td>896.000</td>\n",
       "      <td>Рыбинск</td>\n",
       "      <td>Ж</td>\n",
       "      <td>47.000</td>\n",
       "      <td>0</td>\n",
       "      <td>NaN</td>\n",
       "      <td>1</td>\n",
       "      <td>0</td>\n",
       "      <td>0</td>\n",
       "      <td>225060.350</td>\n",
       "      <td>0</td>\n",
       "    </tr>\n",
       "    <tr>\n",
       "      <th>30</th>\n",
       "      <td>155730</td>\n",
       "      <td>946.000</td>\n",
       "      <td>Ярославль</td>\n",
       "      <td>Ж</td>\n",
       "      <td>47.000</td>\n",
       "      <td>0</td>\n",
       "      <td>NaN</td>\n",
       "      <td>2</td>\n",
       "      <td>1</td>\n",
       "      <td>1</td>\n",
       "      <td>660015.850</td>\n",
       "      <td>0</td>\n",
       "    </tr>\n",
       "    <tr>\n",
       "      <th>34</th>\n",
       "      <td>205226</td>\n",
       "      <td>944.000</td>\n",
       "      <td>Ярославль</td>\n",
       "      <td>М</td>\n",
       "      <td>35.000</td>\n",
       "      <td>0</td>\n",
       "      <td>NaN</td>\n",
       "      <td>2</td>\n",
       "      <td>1</td>\n",
       "      <td>1</td>\n",
       "      <td>239843.390</td>\n",
       "      <td>0</td>\n",
       "    </tr>\n",
       "    <tr>\n",
       "      <th>39</th>\n",
       "      <td>173175</td>\n",
       "      <td>924.000</td>\n",
       "      <td>Рыбинск</td>\n",
       "      <td>Ж</td>\n",
       "      <td>51.000</td>\n",
       "      <td>0</td>\n",
       "      <td>NaN</td>\n",
       "      <td>1</td>\n",
       "      <td>1</td>\n",
       "      <td>1</td>\n",
       "      <td>248844.470</td>\n",
       "      <td>0</td>\n",
       "    </tr>\n",
       "    <tr>\n",
       "      <th>43</th>\n",
       "      <td>228585</td>\n",
       "      <td>956.000</td>\n",
       "      <td>Ростов</td>\n",
       "      <td>М</td>\n",
       "      <td>41.000</td>\n",
       "      <td>0</td>\n",
       "      <td>NaN</td>\n",
       "      <td>1</td>\n",
       "      <td>1</td>\n",
       "      <td>0</td>\n",
       "      <td>115117.100</td>\n",
       "      <td>0</td>\n",
       "    </tr>\n",
       "  </tbody>\n",
       "</table>\n",
       "</div>"
      ],
      "text/plain": [
       "    userid   score       city gender    age  equity  balance  products  \\\n",
       "2   120722 892.000    Рыбинск      Ж 30.000       0      NaN         1   \n",
       "9   133130 906.000  Ярославль      Ж 67.000       0      NaN         1   \n",
       "10  148929 927.000     Ростов      М 52.000       0      NaN         1   \n",
       "11  172184 921.000     Ростов      М 41.000       0      NaN         1   \n",
       "19  127034 922.000    Рыбинск      Ж 53.000       0      NaN         1   \n",
       "21  177415 896.000    Рыбинск      Ж 47.000       0      NaN         1   \n",
       "30  155730 946.000  Ярославль      Ж 47.000       0      NaN         2   \n",
       "34  205226 944.000  Ярославль      М 35.000       0      NaN         2   \n",
       "39  173175 924.000    Рыбинск      Ж 51.000       0      NaN         1   \n",
       "43  228585 956.000     Ростов      М 41.000       0      NaN         1   \n",
       "\n",
       "    credit_card  last_activity  est_salary  churn  \n",
       "2             1              1  107683.340      0  \n",
       "9             0              1  238055.530      0  \n",
       "10            1              1  196820.070      0  \n",
       "11            1              1  217469.480      0  \n",
       "19            0              0  147094.820      0  \n",
       "21            0              0  225060.350      0  \n",
       "30            1              1  660015.850      0  \n",
       "34            1              1  239843.390      0  \n",
       "39            1              1  248844.470      0  \n",
       "43            1              0  115117.100      0  "
      ]
     },
     "execution_count": 9,
     "metadata": {},
     "output_type": "execute_result"
    }
   ],
   "source": [
    "banks[banks['balance'].isna() == True].head(10)"
   ]
  },
  {
   "cell_type": "code",
   "execution_count": 10,
   "id": "1b182711",
   "metadata": {},
   "outputs": [
    {
     "data": {
      "text/html": [
       "<div>\n",
       "<style scoped>\n",
       "    .dataframe tbody tr th:only-of-type {\n",
       "        vertical-align: middle;\n",
       "    }\n",
       "\n",
       "    .dataframe tbody tr th {\n",
       "        vertical-align: top;\n",
       "    }\n",
       "\n",
       "    .dataframe thead th {\n",
       "        text-align: right;\n",
       "    }\n",
       "</style>\n",
       "<table border=\"1\" class=\"dataframe\">\n",
       "  <thead>\n",
       "    <tr style=\"text-align: right;\">\n",
       "      <th></th>\n",
       "      <th>userid</th>\n",
       "      <th>score</th>\n",
       "      <th>city</th>\n",
       "      <th>gender</th>\n",
       "      <th>age</th>\n",
       "      <th>equity</th>\n",
       "      <th>balance</th>\n",
       "      <th>products</th>\n",
       "      <th>credit_card</th>\n",
       "      <th>last_activity</th>\n",
       "      <th>est_salary</th>\n",
       "      <th>churn</th>\n",
       "    </tr>\n",
       "  </thead>\n",
       "  <tbody>\n",
       "    <tr>\n",
       "      <th>9951</th>\n",
       "      <td>162571</td>\n",
       "      <td>712.000</td>\n",
       "      <td>Ярославль</td>\n",
       "      <td>М</td>\n",
       "      <td>37.000</td>\n",
       "      <td>0</td>\n",
       "      <td>NaN</td>\n",
       "      <td>1</td>\n",
       "      <td>1</td>\n",
       "      <td>1</td>\n",
       "      <td>153658.920</td>\n",
       "      <td>0</td>\n",
       "    </tr>\n",
       "    <tr>\n",
       "      <th>9964</th>\n",
       "      <td>148232</td>\n",
       "      <td>968.000</td>\n",
       "      <td>Ярославль</td>\n",
       "      <td>Ж</td>\n",
       "      <td>32.000</td>\n",
       "      <td>0</td>\n",
       "      <td>NaN</td>\n",
       "      <td>1</td>\n",
       "      <td>1</td>\n",
       "      <td>0</td>\n",
       "      <td>520631.220</td>\n",
       "      <td>0</td>\n",
       "    </tr>\n",
       "    <tr>\n",
       "      <th>9966</th>\n",
       "      <td>120996</td>\n",
       "      <td>908.000</td>\n",
       "      <td>Рыбинск</td>\n",
       "      <td>Ж</td>\n",
       "      <td>68.000</td>\n",
       "      <td>0</td>\n",
       "      <td>NaN</td>\n",
       "      <td>1</td>\n",
       "      <td>1</td>\n",
       "      <td>1</td>\n",
       "      <td>146253.810</td>\n",
       "      <td>0</td>\n",
       "    </tr>\n",
       "    <tr>\n",
       "      <th>9969</th>\n",
       "      <td>123120</td>\n",
       "      <td>910.000</td>\n",
       "      <td>Ярославль</td>\n",
       "      <td>Ж</td>\n",
       "      <td>64.000</td>\n",
       "      <td>0</td>\n",
       "      <td>NaN</td>\n",
       "      <td>2</td>\n",
       "      <td>1</td>\n",
       "      <td>1</td>\n",
       "      <td>165340.000</td>\n",
       "      <td>0</td>\n",
       "    </tr>\n",
       "    <tr>\n",
       "      <th>9974</th>\n",
       "      <td>160702</td>\n",
       "      <td>919.000</td>\n",
       "      <td>Рыбинск</td>\n",
       "      <td>М</td>\n",
       "      <td>26.000</td>\n",
       "      <td>0</td>\n",
       "      <td>NaN</td>\n",
       "      <td>1</td>\n",
       "      <td>1</td>\n",
       "      <td>1</td>\n",
       "      <td>187423.660</td>\n",
       "      <td>0</td>\n",
       "    </tr>\n",
       "    <tr>\n",
       "      <th>9976</th>\n",
       "      <td>208085</td>\n",
       "      <td>876.000</td>\n",
       "      <td>Ростов</td>\n",
       "      <td>М</td>\n",
       "      <td>38.000</td>\n",
       "      <td>0</td>\n",
       "      <td>NaN</td>\n",
       "      <td>1</td>\n",
       "      <td>0</td>\n",
       "      <td>0</td>\n",
       "      <td>171763.690</td>\n",
       "      <td>0</td>\n",
       "    </tr>\n",
       "    <tr>\n",
       "      <th>9984</th>\n",
       "      <td>125941</td>\n",
       "      <td>729.000</td>\n",
       "      <td>Ярославль</td>\n",
       "      <td>Ж</td>\n",
       "      <td>42.000</td>\n",
       "      <td>0</td>\n",
       "      <td>NaN</td>\n",
       "      <td>1</td>\n",
       "      <td>1</td>\n",
       "      <td>1</td>\n",
       "      <td>687538.700</td>\n",
       "      <td>0</td>\n",
       "    </tr>\n",
       "    <tr>\n",
       "      <th>9993</th>\n",
       "      <td>219924</td>\n",
       "      <td>884.000</td>\n",
       "      <td>Рыбинск</td>\n",
       "      <td>Ж</td>\n",
       "      <td>36.000</td>\n",
       "      <td>0</td>\n",
       "      <td>NaN</td>\n",
       "      <td>1</td>\n",
       "      <td>1</td>\n",
       "      <td>1</td>\n",
       "      <td>169844.880</td>\n",
       "      <td>0</td>\n",
       "    </tr>\n",
       "    <tr>\n",
       "      <th>9996</th>\n",
       "      <td>139170</td>\n",
       "      <td>894.000</td>\n",
       "      <td>Ярославль</td>\n",
       "      <td>М</td>\n",
       "      <td>46.000</td>\n",
       "      <td>0</td>\n",
       "      <td>NaN</td>\n",
       "      <td>1</td>\n",
       "      <td>1</td>\n",
       "      <td>0</td>\n",
       "      <td>196898.290</td>\n",
       "      <td>0</td>\n",
       "    </tr>\n",
       "    <tr>\n",
       "      <th>9997</th>\n",
       "      <td>115639</td>\n",
       "      <td>903.000</td>\n",
       "      <td>Ярославль</td>\n",
       "      <td>М</td>\n",
       "      <td>24.000</td>\n",
       "      <td>0</td>\n",
       "      <td>NaN</td>\n",
       "      <td>2</td>\n",
       "      <td>1</td>\n",
       "      <td>1</td>\n",
       "      <td>108905.090</td>\n",
       "      <td>0</td>\n",
       "    </tr>\n",
       "  </tbody>\n",
       "</table>\n",
       "</div>"
      ],
      "text/plain": [
       "      userid   score       city gender    age  equity  balance  products  \\\n",
       "9951  162571 712.000  Ярославль      М 37.000       0      NaN         1   \n",
       "9964  148232 968.000  Ярославль      Ж 32.000       0      NaN         1   \n",
       "9966  120996 908.000    Рыбинск      Ж 68.000       0      NaN         1   \n",
       "9969  123120 910.000  Ярославль      Ж 64.000       0      NaN         2   \n",
       "9974  160702 919.000    Рыбинск      М 26.000       0      NaN         1   \n",
       "9976  208085 876.000     Ростов      М 38.000       0      NaN         1   \n",
       "9984  125941 729.000  Ярославль      Ж 42.000       0      NaN         1   \n",
       "9993  219924 884.000    Рыбинск      Ж 36.000       0      NaN         1   \n",
       "9996  139170 894.000  Ярославль      М 46.000       0      NaN         1   \n",
       "9997  115639 903.000  Ярославль      М 24.000       0      NaN         2   \n",
       "\n",
       "      credit_card  last_activity  est_salary  churn  \n",
       "9951            1              1  153658.920      0  \n",
       "9964            1              0  520631.220      0  \n",
       "9966            1              1  146253.810      0  \n",
       "9969            1              1  165340.000      0  \n",
       "9974            1              1  187423.660      0  \n",
       "9976            0              0  171763.690      0  \n",
       "9984            1              1  687538.700      0  \n",
       "9993            1              1  169844.880      0  \n",
       "9996            1              0  196898.290      0  \n",
       "9997            1              1  108905.090      0  "
      ]
     },
     "execution_count": 10,
     "metadata": {},
     "output_type": "execute_result"
    }
   ],
   "source": [
    "banks[banks['balance'].isna() == True].tail(10)"
   ]
  },
  {
   "cell_type": "code",
   "execution_count": 11,
   "id": "45c5b150",
   "metadata": {},
   "outputs": [],
   "source": [
    "# оставим колонки без идентификаторов пользователей\n",
    "cleaned_df = banks.loc[:, banks.columns != 'userid']"
   ]
  },
  {
   "cell_type": "code",
   "execution_count": 12,
   "id": "491a31b8",
   "metadata": {},
   "outputs": [
    {
     "data": {
      "text/html": [
       "<div>\n",
       "<style scoped>\n",
       "    .dataframe tbody tr th:only-of-type {\n",
       "        vertical-align: middle;\n",
       "    }\n",
       "\n",
       "    .dataframe tbody tr th {\n",
       "        vertical-align: top;\n",
       "    }\n",
       "\n",
       "    .dataframe thead th {\n",
       "        text-align: right;\n",
       "    }\n",
       "</style>\n",
       "<table border=\"1\" class=\"dataframe\">\n",
       "  <thead>\n",
       "    <tr style=\"text-align: right;\">\n",
       "      <th></th>\n",
       "      <th>score</th>\n",
       "      <th>age</th>\n",
       "      <th>equity</th>\n",
       "      <th>balance</th>\n",
       "      <th>products</th>\n",
       "      <th>credit_card</th>\n",
       "      <th>last_activity</th>\n",
       "      <th>est_salary</th>\n",
       "      <th>churn</th>\n",
       "    </tr>\n",
       "  </thead>\n",
       "  <tbody>\n",
       "    <tr>\n",
       "      <th>count</th>\n",
       "      <td>10000.000</td>\n",
       "      <td>9974.000</td>\n",
       "      <td>10000.000</td>\n",
       "      <td>7705.000</td>\n",
       "      <td>10000.000</td>\n",
       "      <td>10000.000</td>\n",
       "      <td>10000.000</td>\n",
       "      <td>10000.000</td>\n",
       "      <td>10000.000</td>\n",
       "    </tr>\n",
       "    <tr>\n",
       "      <th>mean</th>\n",
       "      <td>848.699</td>\n",
       "      <td>42.734</td>\n",
       "      <td>2.628</td>\n",
       "      <td>827794.307</td>\n",
       "      <td>1.870</td>\n",
       "      <td>0.680</td>\n",
       "      <td>0.523</td>\n",
       "      <td>147866.886</td>\n",
       "      <td>0.182</td>\n",
       "    </tr>\n",
       "    <tr>\n",
       "      <th>std</th>\n",
       "      <td>65.449</td>\n",
       "      <td>12.180</td>\n",
       "      <td>1.981</td>\n",
       "      <td>1980614.147</td>\n",
       "      <td>0.793</td>\n",
       "      <td>0.466</td>\n",
       "      <td>0.499</td>\n",
       "      <td>139388.511</td>\n",
       "      <td>0.386</td>\n",
       "    </tr>\n",
       "    <tr>\n",
       "      <th>min</th>\n",
       "      <td>642.000</td>\n",
       "      <td>18.000</td>\n",
       "      <td>0.000</td>\n",
       "      <td>0.000</td>\n",
       "      <td>0.000</td>\n",
       "      <td>0.000</td>\n",
       "      <td>0.000</td>\n",
       "      <td>2546.300</td>\n",
       "      <td>0.000</td>\n",
       "    </tr>\n",
       "    <tr>\n",
       "      <th>25%</th>\n",
       "      <td>802.000</td>\n",
       "      <td>33.000</td>\n",
       "      <td>0.000</td>\n",
       "      <td>295554.160</td>\n",
       "      <td>1.000</td>\n",
       "      <td>0.000</td>\n",
       "      <td>0.000</td>\n",
       "      <td>75251.900</td>\n",
       "      <td>0.000</td>\n",
       "    </tr>\n",
       "    <tr>\n",
       "      <th>50%</th>\n",
       "      <td>853.000</td>\n",
       "      <td>40.000</td>\n",
       "      <td>3.000</td>\n",
       "      <td>524272.200</td>\n",
       "      <td>2.000</td>\n",
       "      <td>1.000</td>\n",
       "      <td>1.000</td>\n",
       "      <td>119658.105</td>\n",
       "      <td>0.000</td>\n",
       "    </tr>\n",
       "    <tr>\n",
       "      <th>75%</th>\n",
       "      <td>900.000</td>\n",
       "      <td>51.000</td>\n",
       "      <td>4.000</td>\n",
       "      <td>980705.850</td>\n",
       "      <td>2.000</td>\n",
       "      <td>1.000</td>\n",
       "      <td>1.000</td>\n",
       "      <td>174500.542</td>\n",
       "      <td>0.000</td>\n",
       "    </tr>\n",
       "    <tr>\n",
       "      <th>max</th>\n",
       "      <td>1000.000</td>\n",
       "      <td>86.000</td>\n",
       "      <td>9.000</td>\n",
       "      <td>119113552.010</td>\n",
       "      <td>5.000</td>\n",
       "      <td>1.000</td>\n",
       "      <td>1.000</td>\n",
       "      <td>1395064.450</td>\n",
       "      <td>1.000</td>\n",
       "    </tr>\n",
       "  </tbody>\n",
       "</table>\n",
       "</div>"
      ],
      "text/plain": [
       "          score      age    equity       balance  products  credit_card  \\\n",
       "count 10000.000 9974.000 10000.000      7705.000 10000.000    10000.000   \n",
       "mean    848.699   42.734     2.628    827794.307     1.870        0.680   \n",
       "std      65.449   12.180     1.981   1980614.147     0.793        0.466   \n",
       "min     642.000   18.000     0.000         0.000     0.000        0.000   \n",
       "25%     802.000   33.000     0.000    295554.160     1.000        0.000   \n",
       "50%     853.000   40.000     3.000    524272.200     2.000        1.000   \n",
       "75%     900.000   51.000     4.000    980705.850     2.000        1.000   \n",
       "max    1000.000   86.000     9.000 119113552.010     5.000        1.000   \n",
       "\n",
       "       last_activity  est_salary     churn  \n",
       "count      10000.000   10000.000 10000.000  \n",
       "mean           0.523  147866.886     0.182  \n",
       "std            0.499  139388.511     0.386  \n",
       "min            0.000    2546.300     0.000  \n",
       "25%            0.000   75251.900     0.000  \n",
       "50%            1.000  119658.105     0.000  \n",
       "75%            1.000  174500.542     0.000  \n",
       "max            1.000 1395064.450     1.000  "
      ]
     },
     "execution_count": 12,
     "metadata": {},
     "output_type": "execute_result"
    }
   ],
   "source": [
    "cleaned_df.describe()"
   ]
  },
  {
   "cell_type": "code",
   "execution_count": 13,
   "id": "cfa9a996",
   "metadata": {},
   "outputs": [],
   "source": [
    "nan_df = cleaned_df[cleaned_df['balance'].isna() == True]"
   ]
  },
  {
   "cell_type": "code",
   "execution_count": 14,
   "id": "3a8698fa",
   "metadata": {},
   "outputs": [],
   "source": [
    "nonan_df = cleaned_df[cleaned_df['balance'].isna() == False]"
   ]
  },
  {
   "cell_type": "code",
   "execution_count": 15,
   "id": "a1115088",
   "metadata": {},
   "outputs": [
    {
     "data": {
      "text/html": [
       "<div>\n",
       "<style scoped>\n",
       "    .dataframe tbody tr th:only-of-type {\n",
       "        vertical-align: middle;\n",
       "    }\n",
       "\n",
       "    .dataframe tbody tr th {\n",
       "        vertical-align: top;\n",
       "    }\n",
       "\n",
       "    .dataframe thead th {\n",
       "        text-align: right;\n",
       "    }\n",
       "</style>\n",
       "<table border=\"1\" class=\"dataframe\">\n",
       "  <thead>\n",
       "    <tr style=\"text-align: right;\">\n",
       "      <th></th>\n",
       "      <th>score</th>\n",
       "      <th>age</th>\n",
       "      <th>equity</th>\n",
       "      <th>balance</th>\n",
       "      <th>products</th>\n",
       "      <th>credit_card</th>\n",
       "      <th>last_activity</th>\n",
       "      <th>est_salary</th>\n",
       "      <th>churn</th>\n",
       "    </tr>\n",
       "  </thead>\n",
       "  <tbody>\n",
       "    <tr>\n",
       "      <th>count</th>\n",
       "      <td>2295.000</td>\n",
       "      <td>2279.000</td>\n",
       "      <td>2295.000</td>\n",
       "      <td>0.000</td>\n",
       "      <td>2295.000</td>\n",
       "      <td>2295.000</td>\n",
       "      <td>2295.000</td>\n",
       "      <td>2295.000</td>\n",
       "      <td>2295.000</td>\n",
       "    </tr>\n",
       "    <tr>\n",
       "      <th>mean</th>\n",
       "      <td>865.352</td>\n",
       "      <td>42.093</td>\n",
       "      <td>0.051</td>\n",
       "      <td>NaN</td>\n",
       "      <td>1.162</td>\n",
       "      <td>0.816</td>\n",
       "      <td>0.549</td>\n",
       "      <td>226310.209</td>\n",
       "      <td>0.006</td>\n",
       "    </tr>\n",
       "    <tr>\n",
       "      <th>std</th>\n",
       "      <td>89.603</td>\n",
       "      <td>11.942</td>\n",
       "      <td>0.226</td>\n",
       "      <td>NaN</td>\n",
       "      <td>0.403</td>\n",
       "      <td>0.388</td>\n",
       "      <td>0.498</td>\n",
       "      <td>199771.794</td>\n",
       "      <td>0.075</td>\n",
       "    </tr>\n",
       "    <tr>\n",
       "      <th>min</th>\n",
       "      <td>642.000</td>\n",
       "      <td>18.000</td>\n",
       "      <td>0.000</td>\n",
       "      <td>NaN</td>\n",
       "      <td>0.000</td>\n",
       "      <td>0.000</td>\n",
       "      <td>0.000</td>\n",
       "      <td>20274.030</td>\n",
       "      <td>0.000</td>\n",
       "    </tr>\n",
       "    <tr>\n",
       "      <th>25%</th>\n",
       "      <td>871.000</td>\n",
       "      <td>33.000</td>\n",
       "      <td>0.000</td>\n",
       "      <td>NaN</td>\n",
       "      <td>1.000</td>\n",
       "      <td>1.000</td>\n",
       "      <td>0.000</td>\n",
       "      <td>120347.700</td>\n",
       "      <td>0.000</td>\n",
       "    </tr>\n",
       "    <tr>\n",
       "      <th>50%</th>\n",
       "      <td>903.000</td>\n",
       "      <td>40.000</td>\n",
       "      <td>0.000</td>\n",
       "      <td>NaN</td>\n",
       "      <td>1.000</td>\n",
       "      <td>1.000</td>\n",
       "      <td>1.000</td>\n",
       "      <td>174160.680</td>\n",
       "      <td>0.000</td>\n",
       "    </tr>\n",
       "    <tr>\n",
       "      <th>75%</th>\n",
       "      <td>922.000</td>\n",
       "      <td>49.000</td>\n",
       "      <td>0.000</td>\n",
       "      <td>NaN</td>\n",
       "      <td>1.000</td>\n",
       "      <td>1.000</td>\n",
       "      <td>1.000</td>\n",
       "      <td>240014.995</td>\n",
       "      <td>0.000</td>\n",
       "    </tr>\n",
       "    <tr>\n",
       "      <th>max</th>\n",
       "      <td>990.000</td>\n",
       "      <td>86.000</td>\n",
       "      <td>3.000</td>\n",
       "      <td>NaN</td>\n",
       "      <td>3.000</td>\n",
       "      <td>1.000</td>\n",
       "      <td>1.000</td>\n",
       "      <td>1333687.360</td>\n",
       "      <td>1.000</td>\n",
       "    </tr>\n",
       "  </tbody>\n",
       "</table>\n",
       "</div>"
      ],
      "text/plain": [
       "         score      age   equity  balance  products  credit_card  \\\n",
       "count 2295.000 2279.000 2295.000    0.000  2295.000     2295.000   \n",
       "mean   865.352   42.093    0.051      NaN     1.162        0.816   \n",
       "std     89.603   11.942    0.226      NaN     0.403        0.388   \n",
       "min    642.000   18.000    0.000      NaN     0.000        0.000   \n",
       "25%    871.000   33.000    0.000      NaN     1.000        1.000   \n",
       "50%    903.000   40.000    0.000      NaN     1.000        1.000   \n",
       "75%    922.000   49.000    0.000      NaN     1.000        1.000   \n",
       "max    990.000   86.000    3.000      NaN     3.000        1.000   \n",
       "\n",
       "       last_activity  est_salary    churn  \n",
       "count       2295.000    2295.000 2295.000  \n",
       "mean           0.549  226310.209    0.006  \n",
       "std            0.498  199771.794    0.075  \n",
       "min            0.000   20274.030    0.000  \n",
       "25%            0.000  120347.700    0.000  \n",
       "50%            1.000  174160.680    0.000  \n",
       "75%            1.000  240014.995    0.000  \n",
       "max            1.000 1333687.360    1.000  "
      ]
     },
     "execution_count": 15,
     "metadata": {},
     "output_type": "execute_result"
    }
   ],
   "source": [
    "nan_df.describe()"
   ]
  },
  {
   "cell_type": "code",
   "execution_count": 16,
   "id": "bb667ca7",
   "metadata": {},
   "outputs": [
    {
     "data": {
      "text/html": [
       "<div>\n",
       "<style scoped>\n",
       "    .dataframe tbody tr th:only-of-type {\n",
       "        vertical-align: middle;\n",
       "    }\n",
       "\n",
       "    .dataframe tbody tr th {\n",
       "        vertical-align: top;\n",
       "    }\n",
       "\n",
       "    .dataframe thead th {\n",
       "        text-align: right;\n",
       "    }\n",
       "</style>\n",
       "<table border=\"1\" class=\"dataframe\">\n",
       "  <thead>\n",
       "    <tr style=\"text-align: right;\">\n",
       "      <th></th>\n",
       "      <th>score</th>\n",
       "      <th>age</th>\n",
       "      <th>equity</th>\n",
       "      <th>balance</th>\n",
       "      <th>products</th>\n",
       "      <th>credit_card</th>\n",
       "      <th>last_activity</th>\n",
       "      <th>est_salary</th>\n",
       "      <th>churn</th>\n",
       "    </tr>\n",
       "  </thead>\n",
       "  <tbody>\n",
       "    <tr>\n",
       "      <th>count</th>\n",
       "      <td>7705.000</td>\n",
       "      <td>7695.000</td>\n",
       "      <td>7705.000</td>\n",
       "      <td>7705.000</td>\n",
       "      <td>7705.000</td>\n",
       "      <td>7705.000</td>\n",
       "      <td>7705.000</td>\n",
       "      <td>7705.000</td>\n",
       "      <td>7705.000</td>\n",
       "    </tr>\n",
       "    <tr>\n",
       "      <th>mean</th>\n",
       "      <td>843.739</td>\n",
       "      <td>42.924</td>\n",
       "      <td>3.395</td>\n",
       "      <td>827794.307</td>\n",
       "      <td>2.081</td>\n",
       "      <td>0.640</td>\n",
       "      <td>0.516</td>\n",
       "      <td>124501.872</td>\n",
       "      <td>0.235</td>\n",
       "    </tr>\n",
       "    <tr>\n",
       "      <th>std</th>\n",
       "      <td>55.332</td>\n",
       "      <td>12.244</td>\n",
       "      <td>1.584</td>\n",
       "      <td>1980614.147</td>\n",
       "      <td>0.757</td>\n",
       "      <td>0.480</td>\n",
       "      <td>0.500</td>\n",
       "      <td>104663.538</td>\n",
       "      <td>0.424</td>\n",
       "    </tr>\n",
       "    <tr>\n",
       "      <th>min</th>\n",
       "      <td>689.000</td>\n",
       "      <td>18.000</td>\n",
       "      <td>0.000</td>\n",
       "      <td>0.000</td>\n",
       "      <td>1.000</td>\n",
       "      <td>0.000</td>\n",
       "      <td>0.000</td>\n",
       "      <td>2546.300</td>\n",
       "      <td>0.000</td>\n",
       "    </tr>\n",
       "    <tr>\n",
       "      <th>25%</th>\n",
       "      <td>801.000</td>\n",
       "      <td>33.000</td>\n",
       "      <td>2.000</td>\n",
       "      <td>295554.160</td>\n",
       "      <td>2.000</td>\n",
       "      <td>0.000</td>\n",
       "      <td>0.000</td>\n",
       "      <td>67551.810</td>\n",
       "      <td>0.000</td>\n",
       "    </tr>\n",
       "    <tr>\n",
       "      <th>50%</th>\n",
       "      <td>840.000</td>\n",
       "      <td>40.000</td>\n",
       "      <td>4.000</td>\n",
       "      <td>524272.200</td>\n",
       "      <td>2.000</td>\n",
       "      <td>1.000</td>\n",
       "      <td>1.000</td>\n",
       "      <td>106222.200</td>\n",
       "      <td>0.000</td>\n",
       "    </tr>\n",
       "    <tr>\n",
       "      <th>75%</th>\n",
       "      <td>882.000</td>\n",
       "      <td>52.000</td>\n",
       "      <td>5.000</td>\n",
       "      <td>980705.850</td>\n",
       "      <td>2.000</td>\n",
       "      <td>1.000</td>\n",
       "      <td>1.000</td>\n",
       "      <td>155045.670</td>\n",
       "      <td>0.000</td>\n",
       "    </tr>\n",
       "    <tr>\n",
       "      <th>max</th>\n",
       "      <td>1000.000</td>\n",
       "      <td>86.000</td>\n",
       "      <td>9.000</td>\n",
       "      <td>119113552.010</td>\n",
       "      <td>5.000</td>\n",
       "      <td>1.000</td>\n",
       "      <td>1.000</td>\n",
       "      <td>1395064.450</td>\n",
       "      <td>1.000</td>\n",
       "    </tr>\n",
       "  </tbody>\n",
       "</table>\n",
       "</div>"
      ],
      "text/plain": [
       "         score      age   equity       balance  products  credit_card  \\\n",
       "count 7705.000 7695.000 7705.000      7705.000  7705.000     7705.000   \n",
       "mean   843.739   42.924    3.395    827794.307     2.081        0.640   \n",
       "std     55.332   12.244    1.584   1980614.147     0.757        0.480   \n",
       "min    689.000   18.000    0.000         0.000     1.000        0.000   \n",
       "25%    801.000   33.000    2.000    295554.160     2.000        0.000   \n",
       "50%    840.000   40.000    4.000    524272.200     2.000        1.000   \n",
       "75%    882.000   52.000    5.000    980705.850     2.000        1.000   \n",
       "max   1000.000   86.000    9.000 119113552.010     5.000        1.000   \n",
       "\n",
       "       last_activity  est_salary    churn  \n",
       "count       7705.000    7705.000 7705.000  \n",
       "mean           0.516  124501.872    0.235  \n",
       "std            0.500  104663.538    0.424  \n",
       "min            0.000    2546.300    0.000  \n",
       "25%            0.000   67551.810    0.000  \n",
       "50%            1.000  106222.200    0.000  \n",
       "75%            1.000  155045.670    0.000  \n",
       "max            1.000 1395064.450    1.000  "
      ]
     },
     "execution_count": 16,
     "metadata": {},
     "output_type": "execute_result"
    }
   ],
   "source": [
    "nonan_df.describe()"
   ]
  },
  {
   "cell_type": "markdown",
   "id": "0359a042",
   "metadata": {},
   "source": [
    "Посмотрим визуально. "
   ]
  },
  {
   "cell_type": "code",
   "execution_count": 17,
   "id": "f6c402e4",
   "metadata": {
    "scrolled": false
   },
   "outputs": [
    {
     "data": {
      "image/png": "[encoded data removed]",
      "text/plain": [
       "<Figure size 432x288 with 1 Axes>"
      ]
     },
     "metadata": {
      "needs_background": "light"
     },
     "output_type": "display_data"
    },
    {
     "data": {
      "image/png": "[encoded data removed]",
      "text/plain": [
       "<Figure size 432x288 with 1 Axes>"
      ]
     },
     "metadata": {
      "needs_background": "light"
     },
     "output_type": "display_data"
    },
    {
     "data": {
      "image/png": "[encoded data removed]",
      "text/plain": [
       "<Figure size 432x288 with 1 Axes>"
      ]
     },
     "metadata": {
      "needs_background": "light"
     },
     "output_type": "display_data"
    },
    {
     "data": {
      "image/png": "[encoded data removed]",
      "text/plain": [
       "<Figure size 432x288 with 1 Axes>"
      ]
     },
     "metadata": {
      "needs_background": "light"
     },
     "output_type": "display_data"
    },
    {
     "data": {
      "image/png": "[encoded data removed]",
      "text/plain": [
       "<Figure size 432x288 with 1 Axes>"
      ]
     },
     "metadata": {
      "needs_background": "light"
     },
     "output_type": "display_data"
    },
    {
     "data": {
      "image/png": "[encoded data removed]",
      "text/plain": [
       "<Figure size 432x288 with 1 Axes>"
      ]
     },
     "metadata": {
      "needs_background": "light"
     },
     "output_type": "display_data"
    },
    {
     "data": {
      "image/png": "[encoded data removed]",
      "text/plain": [
       "<Figure size 432x288 with 1 Axes>"
      ]
     },
     "metadata": {
      "needs_background": "light"
     },
     "output_type": "display_data"
    },
    {
     "data": {
      "image/png": "[encoded data removed]",
      "text/plain": [
       "<Figure size 432x288 with 1 Axes>"
      ]
     },
     "metadata": {
      "needs_background": "light"
     },
     "output_type": "display_data"
    },
    {
     "data": {
      "image/png": "[encoded data removed]",
      "text/plain": [
       "<Figure size 432x288 with 1 Axes>"
      ]
     },
     "metadata": {
      "needs_background": "light"
     },
     "output_type": "display_data"
    },
    {
     "data": {
      "image/png": "[encoded data removed]",
      "text/plain": [
       "<Figure size 432x288 with 1 Axes>"
      ]
     },
     "metadata": {
      "needs_background": "light"
     },
     "output_type": "display_data"
    }
   ],
   "source": [
    "for column in cleaned_df.columns:\n",
    "    if column != \"balance\":\n",
    "      \n",
    "        sns.histplot(nonan_df[column], alpha=0.5, color=\"blue\", label=\"Has balance\",  stat=\"density\")\n",
    "        sns.histplot(nan_df[column], alpha=0.5, color=\"red\", label=\"No balance\",  stat=\"density\")\n",
    "        plt.legend()\n",
    "        plt.title(f\"{column} distribution\")\n",
    "        if column == 'est_salary':\n",
    "            plt.ticklabel_format(style='plain')\n",
    "        plt.show()"
   ]
  },
  {
   "cell_type": "markdown",
   "id": "c9af1ea7",
   "metadata": {},
   "source": [
    "Итак, на первый взгляд складывается довольно парадоксальная картина. Клиенты без баланса отличаются от клиентов с балансом в нескольких отношениях: 1. Во-первых,  для них среднее количество объектов собственности в 60(!) раз меньше 2. Количество продуктов в 2 раза меньше, и тяготеет к единице. Вероятно, это банковская карта. 3. Их средняя  заработная плата - в два раза больше. 4. Доля клиентов, покинувших банк среди них в 40 раз меньше. 5. Практически у всех клиенты  с пропусками - нет объектов в собственности. "
   ]
  },
  {
   "cell_type": "markdown",
   "id": "96869c5a",
   "metadata": {},
   "source": [
    "Пропуски явно не относятся к категории MCAR - совокупности с пропусками и без пропусков очевидным образом отличаются друг от друга. "
   ]
  },
  {
   "cell_type": "markdown",
   "id": "fa65c786",
   "metadata": {},
   "source": [
    "При этом стоит отметить, что процент ушедших клиентов отличается на порядок: в группе \"без баланса\" доля таких клиентов всего полпроцента. Удивительная лояльность. Предположение о том, что это клиенты с \"забытыми\" картами, тоже не выдерживает критики - по активности эти клиенты не отличаются от остальной совокупности. С учётом такой поразительной привязанности к банку, можно выдвинуть гипотезу, что речь идет о владельцах неких зарплатных карт работающих в организации, обслуживаемой банком. При этом зарплаты в этой организации практически в два раза выше, чем средние региональные зарплаты. Но в этом случае непонятно, почему заявленная собственность у клиентов с пропусками практически всегда нулевая. "
   ]
  },
  {
   "cell_type": "markdown",
   "id": "c4a37a7a",
   "metadata": {},
   "source": [
    "Попробуем посмотреть, можно ли \"восстановить\" отсутствующий баланс по интуитивно связанным столбцам. Первое что здесь напрашивается - заработная плата. Посмотрим корреляцию между этим показателем и балансом. "
   ]
  },
  {
   "cell_type": "code",
   "execution_count": 18,
   "id": "655abb52",
   "metadata": {},
   "outputs": [
    {
     "data": {
      "text/plain": [
       "0.3396218922125886"
      ]
     },
     "execution_count": 18,
     "metadata": {},
     "output_type": "execute_result"
    }
   ],
   "source": [
    "nonan_df['est_salary']. corr(nonan_df['balance'])"
   ]
  },
  {
   "cell_type": "markdown",
   "id": "84b15411",
   "metadata": {},
   "source": [
    "Корреляция довольно небольшая. Таким образом, нет смысла пытаться восстановить данные пропуски на основании зарплаты. Пока что приходим к выводу, что у нас собственно, нет точной модели возникновения этих пропусков. Есть гипотезы, вызывающие вопросы. "
   ]
  },
  {
   "cell_type": "markdown",
   "id": "ada80d59",
   "metadata": {},
   "source": [
    "В связи с этим можно предположить, что пропуски скорее относятся к категории MNAR, когда отсутствующие данные связаны не только с наблюдаемыми, но и ненаблюдаемыми значениями.  Общий итог - оставляем пропуски без обработки. Возможно, стоит обратиться к заказчику и попросить пояснений. "
   ]
  },
  {
   "cell_type": "markdown",
   "id": "50a3add9",
   "metadata": {},
   "source": [
    "### Соответствие данных формату"
   ]
  },
  {
   "cell_type": "markdown",
   "id": "a4411806",
   "metadata": {},
   "source": [
    "Несответствия данных не обнаружено."
   ]
  },
  {
   "cell_type": "markdown",
   "id": "c3259e39",
   "metadata": {},
   "source": [
    "### Проверка на дубликаты"
   ]
  },
  {
   "cell_type": "code",
   "execution_count": 19,
   "id": "95c3c413",
   "metadata": {},
   "outputs": [
    {
     "data": {
      "text/plain": [
       "0"
      ]
     },
     "execution_count": 19,
     "metadata": {},
     "output_type": "execute_result"
    }
   ],
   "source": [
    "banks.duplicated().sum()"
   ]
  },
  {
   "cell_type": "code",
   "execution_count": 20,
   "id": "7e0acf85",
   "metadata": {},
   "outputs": [],
   "source": [
    "banks = banks.drop_duplicates()"
   ]
  },
  {
   "cell_type": "markdown",
   "id": "ae274ae0",
   "metadata": {},
   "source": [
    "### Аномалии"
   ]
  },
  {
   "cell_type": "markdown",
   "id": "18df6b62",
   "metadata": {},
   "source": [
    "В связи с аномалиями нас больше всего интересуют две колонки - balance и est. salary. Отбросим аномальные значения."
   ]
  },
  {
   "cell_type": "code",
   "execution_count": 21,
   "id": "11e861f3",
   "metadata": {},
   "outputs": [
    {
     "data": {
      "image/png": "[encoded data removed]",
      "text/plain": [
       "<Figure size 720x360 with 2 Axes>"
      ]
     },
     "metadata": {
      "needs_background": "light"
     },
     "output_type": "display_data"
    }
   ],
   "source": [
    "fig, (ax1, ax2) = plt.subplots(1, 2, figsize=(10, 5))\n",
    "\n",
    "# Create a boxplot for the 'balance' column in the first subplot\n",
    "ax1.boxplot(nonan_df['balance'])\n",
    "ax1.set_title('Balance')\n",
    "\n",
    "# Create a boxplot for the 'est_salary' column in the second subplot\n",
    "ax2.boxplot(banks['est_salary'])\n",
    "ax2.set_title('Estimated Salary')\n",
    "\n",
    "# Set the y-axis label for both subplots\n",
    "fig.text(0.06, 0.5, 'Amount', ha='center', va='center', rotation='vertical')\n",
    "\n",
    "# Display the plot\n",
    "plt.show()"
   ]
  },
  {
   "cell_type": "markdown",
   "id": "b539372e",
   "metadata": {},
   "source": [
    "Для баланса напрашивается отсечка в районе 30 000 000"
   ]
  },
  {
   "cell_type": "code",
   "execution_count": 22,
   "id": "11f62cd0",
   "metadata": {},
   "outputs": [],
   "source": [
    "banks_cleared = banks[(banks['balance'] < 30000000) | (banks['balance'].isna()) ]"
   ]
  },
  {
   "cell_type": "code",
   "execution_count": 23,
   "id": "46f4ec5d",
   "metadata": {},
   "outputs": [],
   "source": [
    "max_salary = banks['est_salary'].quantile(0.95)"
   ]
  },
  {
   "cell_type": "code",
   "execution_count": 24,
   "id": "b32b84a4",
   "metadata": {},
   "outputs": [],
   "source": [
    "banks_cleared = banks[banks['est_salary'] < max_salary]"
   ]
  },
  {
   "cell_type": "code",
   "execution_count": 25,
   "id": "3caadd1f",
   "metadata": {},
   "outputs": [
    {
     "data": {
      "text/plain": [
       "9500"
      ]
     },
     "execution_count": 25,
     "metadata": {},
     "output_type": "execute_result"
    }
   ],
   "source": [
    "len(banks_cleared)"
   ]
  },
  {
   "cell_type": "code",
   "execution_count": 26,
   "id": "631798a1",
   "metadata": {},
   "outputs": [],
   "source": [
    "init_total_balance = banks['balance'].sum()"
   ]
  },
  {
   "cell_type": "code",
   "execution_count": 27,
   "id": "421c402f",
   "metadata": {},
   "outputs": [],
   "source": [
    "final_total_balance = banks_cleared['balance'].sum()"
   ]
  },
  {
   "cell_type": "code",
   "execution_count": 28,
   "id": "fca8b40b",
   "metadata": {},
   "outputs": [],
   "source": [
    "remaining_per_cent = 100 * final_total_balance/init_total_balance"
   ]
  },
  {
   "cell_type": "code",
   "execution_count": 29,
   "id": "bf0403cf",
   "metadata": {},
   "outputs": [
    {
     "data": {
      "text/plain": [
       "86.82216227796192"
      ]
     },
     "execution_count": 29,
     "metadata": {},
     "output_type": "execute_result"
    }
   ],
   "source": [
    "remaining_per_cent"
   ]
  },
  {
   "cell_type": "markdown",
   "id": "20196060",
   "metadata": {},
   "source": [
    "Отсечено в районе 5% аномальных значений и клиенты, располагающие примерно 13% средств на балансе. "
   ]
  },
  {
   "cell_type": "markdown",
   "id": "f43349c7",
   "metadata": {},
   "source": [
    "### Обработка категориальных значений"
   ]
  },
  {
   "cell_type": "code",
   "execution_count": 30,
   "id": "a358417d",
   "metadata": {},
   "outputs": [],
   "source": [
    "city_dummies = pd.get_dummies(banks_cleared['city'])"
   ]
  },
  {
   "cell_type": "code",
   "execution_count": 31,
   "id": "0aca2870",
   "metadata": {},
   "outputs": [],
   "source": [
    "banks_cleared = pd.concat([banks, city_dummies], axis=1)"
   ]
  },
  {
   "cell_type": "code",
   "execution_count": 32,
   "id": "58b38c7d",
   "metadata": {},
   "outputs": [],
   "source": [
    "banks_cleared['gender'] = banks_cleared ['gender'].map({'М': 1, 'Ж': 0})"
   ]
  },
  {
   "cell_type": "code",
   "execution_count": 33,
   "id": "2a1b1bb7",
   "metadata": {},
   "outputs": [
    {
     "data": {
      "text/html": [
       "<div>\n",
       "<style scoped>\n",
       "    .dataframe tbody tr th:only-of-type {\n",
       "        vertical-align: middle;\n",
       "    }\n",
       "\n",
       "    .dataframe tbody tr th {\n",
       "        vertical-align: top;\n",
       "    }\n",
       "\n",
       "    .dataframe thead th {\n",
       "        text-align: right;\n",
       "    }\n",
       "</style>\n",
       "<table border=\"1\" class=\"dataframe\">\n",
       "  <thead>\n",
       "    <tr style=\"text-align: right;\">\n",
       "      <th></th>\n",
       "      <th>userid</th>\n",
       "      <th>score</th>\n",
       "      <th>city</th>\n",
       "      <th>gender</th>\n",
       "      <th>age</th>\n",
       "      <th>equity</th>\n",
       "      <th>balance</th>\n",
       "      <th>products</th>\n",
       "      <th>credit_card</th>\n",
       "      <th>last_activity</th>\n",
       "      <th>est_salary</th>\n",
       "      <th>churn</th>\n",
       "      <th>Ростов</th>\n",
       "      <th>Рыбинск</th>\n",
       "      <th>Ярославль</th>\n",
       "    </tr>\n",
       "  </thead>\n",
       "  <tbody>\n",
       "    <tr>\n",
       "      <th>0</th>\n",
       "      <td>183012</td>\n",
       "      <td>850.000</td>\n",
       "      <td>Рыбинск</td>\n",
       "      <td>0</td>\n",
       "      <td>25.000</td>\n",
       "      <td>1</td>\n",
       "      <td>59214.820</td>\n",
       "      <td>2</td>\n",
       "      <td>0</td>\n",
       "      <td>1</td>\n",
       "      <td>75719.140</td>\n",
       "      <td>1</td>\n",
       "      <td>0.000</td>\n",
       "      <td>1.000</td>\n",
       "      <td>0.000</td>\n",
       "    </tr>\n",
       "    <tr>\n",
       "      <th>1</th>\n",
       "      <td>146556</td>\n",
       "      <td>861.000</td>\n",
       "      <td>Рыбинск</td>\n",
       "      <td>0</td>\n",
       "      <td>37.000</td>\n",
       "      <td>5</td>\n",
       "      <td>850594.330</td>\n",
       "      <td>3</td>\n",
       "      <td>1</td>\n",
       "      <td>0</td>\n",
       "      <td>86621.770</td>\n",
       "      <td>0</td>\n",
       "      <td>0.000</td>\n",
       "      <td>1.000</td>\n",
       "      <td>0.000</td>\n",
       "    </tr>\n",
       "    <tr>\n",
       "      <th>2</th>\n",
       "      <td>120722</td>\n",
       "      <td>892.000</td>\n",
       "      <td>Рыбинск</td>\n",
       "      <td>0</td>\n",
       "      <td>30.000</td>\n",
       "      <td>0</td>\n",
       "      <td>NaN</td>\n",
       "      <td>1</td>\n",
       "      <td>1</td>\n",
       "      <td>1</td>\n",
       "      <td>107683.340</td>\n",
       "      <td>0</td>\n",
       "      <td>0.000</td>\n",
       "      <td>1.000</td>\n",
       "      <td>0.000</td>\n",
       "    </tr>\n",
       "    <tr>\n",
       "      <th>3</th>\n",
       "      <td>225363</td>\n",
       "      <td>866.000</td>\n",
       "      <td>Ярославль</td>\n",
       "      <td>0</td>\n",
       "      <td>51.000</td>\n",
       "      <td>5</td>\n",
       "      <td>1524746.260</td>\n",
       "      <td>2</td>\n",
       "      <td>0</td>\n",
       "      <td>1</td>\n",
       "      <td>174423.530</td>\n",
       "      <td>1</td>\n",
       "      <td>0.000</td>\n",
       "      <td>0.000</td>\n",
       "      <td>1.000</td>\n",
       "    </tr>\n",
       "    <tr>\n",
       "      <th>4</th>\n",
       "      <td>157978</td>\n",
       "      <td>730.000</td>\n",
       "      <td>Ярославль</td>\n",
       "      <td>1</td>\n",
       "      <td>34.000</td>\n",
       "      <td>5</td>\n",
       "      <td>174.000</td>\n",
       "      <td>1</td>\n",
       "      <td>1</td>\n",
       "      <td>0</td>\n",
       "      <td>67353.160</td>\n",
       "      <td>1</td>\n",
       "      <td>0.000</td>\n",
       "      <td>0.000</td>\n",
       "      <td>1.000</td>\n",
       "    </tr>\n",
       "  </tbody>\n",
       "</table>\n",
       "</div>"
      ],
      "text/plain": [
       "   userid   score       city  gender    age  equity     balance  products  \\\n",
       "0  183012 850.000    Рыбинск       0 25.000       1   59214.820         2   \n",
       "1  146556 861.000    Рыбинск       0 37.000       5  850594.330         3   \n",
       "2  120722 892.000    Рыбинск       0 30.000       0         NaN         1   \n",
       "3  225363 866.000  Ярославль       0 51.000       5 1524746.260         2   \n",
       "4  157978 730.000  Ярославль       1 34.000       5     174.000         1   \n",
       "\n",
       "   credit_card  last_activity  est_salary  churn  Ростов  Рыбинск  Ярославль  \n",
       "0            0              1   75719.140      1   0.000    1.000      0.000  \n",
       "1            1              0   86621.770      0   0.000    1.000      0.000  \n",
       "2            1              1  107683.340      0   0.000    1.000      0.000  \n",
       "3            0              1  174423.530      1   0.000    0.000      1.000  \n",
       "4            1              0   67353.160      1   0.000    0.000      1.000  "
      ]
     },
     "execution_count": 33,
     "metadata": {},
     "output_type": "execute_result"
    }
   ],
   "source": [
    "banks_cleared.head()"
   ]
  },
  {
   "cell_type": "markdown",
   "id": "d740f84f",
   "metadata": {},
   "source": [
    "### Общие выводы к разделу. "
   ]
  },
  {
   "cell_type": "markdown",
   "id": "6c444393",
   "metadata": {},
   "source": [
    "Выявлено довольно большое число пропусков (порядка четверти) в столбце \"balance\". Однако они относятся, по-видимому, к категории MNAR (совокупность с пропусками имеет статистические отличия от общей совокупности и пропущенные значения определяются ненаблюдаемыми переменными). Устранен один явный дубликат. "
   ]
  },
  {
   "cell_type": "markdown",
   "id": "e8d2a5ee",
   "metadata": {},
   "source": [
    "## Исследовательский анализ данных"
   ]
  },
  {
   "cell_type": "markdown",
   "id": "c80baae5",
   "metadata": {},
   "source": [
    "### Общая картина"
   ]
  },
  {
   "cell_type": "markdown",
   "id": "8263d6b7",
   "metadata": {},
   "source": [
    "Еще раз внимательно посмотрим на общую картину. "
   ]
  },
  {
   "cell_type": "code",
   "execution_count": 34,
   "id": "168c84b2",
   "metadata": {},
   "outputs": [
    {
     "data": {
      "text/html": [
       "<div>\n",
       "<style scoped>\n",
       "    .dataframe tbody tr th:only-of-type {\n",
       "        vertical-align: middle;\n",
       "    }\n",
       "\n",
       "    .dataframe tbody tr th {\n",
       "        vertical-align: top;\n",
       "    }\n",
       "\n",
       "    .dataframe thead th {\n",
       "        text-align: right;\n",
       "    }\n",
       "</style>\n",
       "<table border=\"1\" class=\"dataframe\">\n",
       "  <thead>\n",
       "    <tr style=\"text-align: right;\">\n",
       "      <th></th>\n",
       "      <th>count</th>\n",
       "      <th>mean</th>\n",
       "      <th>std</th>\n",
       "      <th>min</th>\n",
       "      <th>25%</th>\n",
       "      <th>50%</th>\n",
       "      <th>75%</th>\n",
       "      <th>max</th>\n",
       "    </tr>\n",
       "  </thead>\n",
       "  <tbody>\n",
       "    <tr>\n",
       "      <th>userid</th>\n",
       "      <td>10000.000</td>\n",
       "      <td>171814.713</td>\n",
       "      <td>33708.238</td>\n",
       "      <td>94561.000</td>\n",
       "      <td>142810.250</td>\n",
       "      <td>172728.000</td>\n",
       "      <td>201261.750</td>\n",
       "      <td>229145.000</td>\n",
       "    </tr>\n",
       "    <tr>\n",
       "      <th>score</th>\n",
       "      <td>10000.000</td>\n",
       "      <td>848.699</td>\n",
       "      <td>65.449</td>\n",
       "      <td>642.000</td>\n",
       "      <td>802.000</td>\n",
       "      <td>853.000</td>\n",
       "      <td>900.000</td>\n",
       "      <td>1000.000</td>\n",
       "    </tr>\n",
       "    <tr>\n",
       "      <th>gender</th>\n",
       "      <td>10000.000</td>\n",
       "      <td>0.500</td>\n",
       "      <td>0.500</td>\n",
       "      <td>0.000</td>\n",
       "      <td>0.000</td>\n",
       "      <td>1.000</td>\n",
       "      <td>1.000</td>\n",
       "      <td>1.000</td>\n",
       "    </tr>\n",
       "    <tr>\n",
       "      <th>age</th>\n",
       "      <td>9974.000</td>\n",
       "      <td>42.734</td>\n",
       "      <td>12.180</td>\n",
       "      <td>18.000</td>\n",
       "      <td>33.000</td>\n",
       "      <td>40.000</td>\n",
       "      <td>51.000</td>\n",
       "      <td>86.000</td>\n",
       "    </tr>\n",
       "    <tr>\n",
       "      <th>equity</th>\n",
       "      <td>10000.000</td>\n",
       "      <td>2.628</td>\n",
       "      <td>1.981</td>\n",
       "      <td>0.000</td>\n",
       "      <td>0.000</td>\n",
       "      <td>3.000</td>\n",
       "      <td>4.000</td>\n",
       "      <td>9.000</td>\n",
       "    </tr>\n",
       "    <tr>\n",
       "      <th>balance</th>\n",
       "      <td>7705.000</td>\n",
       "      <td>827794.307</td>\n",
       "      <td>1980614.147</td>\n",
       "      <td>0.000</td>\n",
       "      <td>295554.160</td>\n",
       "      <td>524272.200</td>\n",
       "      <td>980705.850</td>\n",
       "      <td>119113552.010</td>\n",
       "    </tr>\n",
       "    <tr>\n",
       "      <th>products</th>\n",
       "      <td>10000.000</td>\n",
       "      <td>1.870</td>\n",
       "      <td>0.793</td>\n",
       "      <td>0.000</td>\n",
       "      <td>1.000</td>\n",
       "      <td>2.000</td>\n",
       "      <td>2.000</td>\n",
       "      <td>5.000</td>\n",
       "    </tr>\n",
       "    <tr>\n",
       "      <th>credit_card</th>\n",
       "      <td>10000.000</td>\n",
       "      <td>0.680</td>\n",
       "      <td>0.466</td>\n",
       "      <td>0.000</td>\n",
       "      <td>0.000</td>\n",
       "      <td>1.000</td>\n",
       "      <td>1.000</td>\n",
       "      <td>1.000</td>\n",
       "    </tr>\n",
       "    <tr>\n",
       "      <th>last_activity</th>\n",
       "      <td>10000.000</td>\n",
       "      <td>0.523</td>\n",
       "      <td>0.499</td>\n",
       "      <td>0.000</td>\n",
       "      <td>0.000</td>\n",
       "      <td>1.000</td>\n",
       "      <td>1.000</td>\n",
       "      <td>1.000</td>\n",
       "    </tr>\n",
       "    <tr>\n",
       "      <th>est_salary</th>\n",
       "      <td>10000.000</td>\n",
       "      <td>147866.886</td>\n",
       "      <td>139388.511</td>\n",
       "      <td>2546.300</td>\n",
       "      <td>75251.900</td>\n",
       "      <td>119658.105</td>\n",
       "      <td>174500.542</td>\n",
       "      <td>1395064.450</td>\n",
       "    </tr>\n",
       "    <tr>\n",
       "      <th>churn</th>\n",
       "      <td>10000.000</td>\n",
       "      <td>0.182</td>\n",
       "      <td>0.386</td>\n",
       "      <td>0.000</td>\n",
       "      <td>0.000</td>\n",
       "      <td>0.000</td>\n",
       "      <td>0.000</td>\n",
       "      <td>1.000</td>\n",
       "    </tr>\n",
       "    <tr>\n",
       "      <th>Ростов</th>\n",
       "      <td>9500.000</td>\n",
       "      <td>0.147</td>\n",
       "      <td>0.354</td>\n",
       "      <td>0.000</td>\n",
       "      <td>0.000</td>\n",
       "      <td>0.000</td>\n",
       "      <td>0.000</td>\n",
       "      <td>1.000</td>\n",
       "    </tr>\n",
       "    <tr>\n",
       "      <th>Рыбинск</th>\n",
       "      <td>9500.000</td>\n",
       "      <td>0.273</td>\n",
       "      <td>0.445</td>\n",
       "      <td>0.000</td>\n",
       "      <td>0.000</td>\n",
       "      <td>0.000</td>\n",
       "      <td>1.000</td>\n",
       "      <td>1.000</td>\n",
       "    </tr>\n",
       "    <tr>\n",
       "      <th>Ярославль</th>\n",
       "      <td>9500.000</td>\n",
       "      <td>0.580</td>\n",
       "      <td>0.494</td>\n",
       "      <td>0.000</td>\n",
       "      <td>0.000</td>\n",
       "      <td>1.000</td>\n",
       "      <td>1.000</td>\n",
       "      <td>1.000</td>\n",
       "    </tr>\n",
       "  </tbody>\n",
       "</table>\n",
       "</div>"
      ],
      "text/plain": [
       "                  count       mean         std       min        25%  \\\n",
       "userid        10000.000 171814.713   33708.238 94561.000 142810.250   \n",
       "score         10000.000    848.699      65.449   642.000    802.000   \n",
       "gender        10000.000      0.500       0.500     0.000      0.000   \n",
       "age            9974.000     42.734      12.180    18.000     33.000   \n",
       "equity        10000.000      2.628       1.981     0.000      0.000   \n",
       "balance        7705.000 827794.307 1980614.147     0.000 295554.160   \n",
       "products      10000.000      1.870       0.793     0.000      1.000   \n",
       "credit_card   10000.000      0.680       0.466     0.000      0.000   \n",
       "last_activity 10000.000      0.523       0.499     0.000      0.000   \n",
       "est_salary    10000.000 147866.886  139388.511  2546.300  75251.900   \n",
       "churn         10000.000      0.182       0.386     0.000      0.000   \n",
       "Ростов         9500.000      0.147       0.354     0.000      0.000   \n",
       "Рыбинск        9500.000      0.273       0.445     0.000      0.000   \n",
       "Ярославль      9500.000      0.580       0.494     0.000      0.000   \n",
       "\n",
       "                     50%        75%           max  \n",
       "userid        172728.000 201261.750    229145.000  \n",
       "score            853.000    900.000      1000.000  \n",
       "gender             1.000      1.000         1.000  \n",
       "age               40.000     51.000        86.000  \n",
       "equity             3.000      4.000         9.000  \n",
       "balance       524272.200 980705.850 119113552.010  \n",
       "products           2.000      2.000         5.000  \n",
       "credit_card        1.000      1.000         1.000  \n",
       "last_activity      1.000      1.000         1.000  \n",
       "est_salary    119658.105 174500.542   1395064.450  \n",
       "churn              0.000      0.000         1.000  \n",
       "Ростов             0.000      0.000         1.000  \n",
       "Рыбинск            0.000      1.000         1.000  \n",
       "Ярославль          1.000      1.000         1.000  "
      ]
     },
     "execution_count": 34,
     "metadata": {},
     "output_type": "execute_result"
    }
   ],
   "source": [
    "banks_cleared.describe().T"
   ]
  },
  {
   "cell_type": "code",
   "execution_count": 35,
   "id": "cb744f13",
   "metadata": {},
   "outputs": [],
   "source": [
    "rostov_perc = 0.149\n",
    "rybinsk_perc = 0.270\n",
    "yar_perc = 0.583"
   ]
  },
  {
   "cell_type": "code",
   "execution_count": 36,
   "id": "9d9370d1",
   "metadata": {},
   "outputs": [
    {
     "data": {
      "image/png": "[encoded data removed]",
      "text/plain": [
       "<Figure size 432x288 with 1 Axes>"
      ]
     },
     "metadata": {},
     "output_type": "display_data"
    }
   ],
   "source": [
    "labels = [\"Ростов\", \"Рыбинск\", \"Ярославль\"]\n",
    "fractions = [rostov_perc, rybinsk_perc, yar_perc]\n",
    "\n",
    "# Create the pie chart\n",
    "plt.pie(fractions, labels=labels, autopct='%1.1f%%')\n",
    "\n",
    "# Set the title\n",
    "plt.title(\"Cities\")\n",
    "\n",
    "# Show the plot\n",
    "plt.show()"
   ]
  },
  {
   "cell_type": "code",
   "execution_count": null,
   "id": "cd64330e",
   "metadata": {},
   "outputs": [],
   "source": []
  },
  {
   "cell_type": "markdown",
   "id": "a1fc14db",
   "metadata": {},
   "source": [
    "Итак, портрет типичного клиента банка:\n",
    "1. Средний возраст около 43 лет.\n",
    "2. Кредитный рейтинг - порядка 850.\n",
    "3. Среднее количество объектов в собственности - около 3\n",
    "4. Средний баланс - около 800 тыс., при этом медианный заметно меньше - порядка 500 тысяч, что говорит о большом числе выбросов сверху.\n",
    "5. В среднем клиенты пользуются 2 продуктами. \n",
    "6. Средняя зарплата - порядка 150 тыс. рублей.\n",
    "7. Большая часть клиентов живет в Ярославле. "
   ]
  },
  {
   "cell_type": "code",
   "execution_count": 37,
   "id": "13607eb9",
   "metadata": {},
   "outputs": [
    {
     "data": {
      "text/html": [
       "<style  type=\"text/css\" >\n",
       "#T_7cd38_row0_col2{\n",
       "            background-color:  #8aa2c5;\n",
       "            color:  #000000;\n",
       "        }#T_7cd38_row1_col2{\n",
       "            background-color:  #bdc6d7;\n",
       "            color:  #000000;\n",
       "        }#T_7cd38_row2_col2{\n",
       "            background-color:  #92a7c8;\n",
       "            color:  #000000;\n",
       "        }#T_7cd38_row3_col2{\n",
       "            background-color:  #7d99c2;\n",
       "            color:  #000000;\n",
       "        }#T_7cd38_row4_col2{\n",
       "            background-color:  #b8c3d5;\n",
       "            color:  #000000;\n",
       "        }#T_7cd38_row5_col2{\n",
       "            background-color:  #eacfcd;\n",
       "            color:  #000000;\n",
       "        }#T_7cd38_row6_col2{\n",
       "            background-color:  #a5b5ce;\n",
       "            color:  #000000;\n",
       "        }</style><table id=\"T_7cd38_\" ><thead>    <tr>        <th class=\"blank\" ></th>        <th class=\"blank level0\" ></th>        <th class=\"col_heading level0 col0\" >Stay</th>        <th class=\"col_heading level0 col1\" >Churn</th>        <th class=\"col_heading level0 col2\" >Change</th>    </tr></thead><tbody>\n",
       "                <tr>\n",
       "                        <th id=\"T_7cd38_level0_row0\" class=\"row_heading level0 row0\" rowspan=\"2\">equity</th>\n",
       "                        <th id=\"T_7cd38_level1_row0\" class=\"row_heading level1 row0\" >mean</th>\n",
       "                        <td id=\"T_7cd38_row0_col0\" class=\"data row0 col0\" >2.4</td>\n",
       "                        <td id=\"T_7cd38_row0_col1\" class=\"data row0 col1\" >3.8</td>\n",
       "                        <td id=\"T_7cd38_row0_col2\" class=\"data row0 col2\" >-58.5%</td>\n",
       "            </tr>\n",
       "            <tr>\n",
       "                                <th id=\"T_7cd38_level1_row1\" class=\"row_heading level1 row1\" >median</th>\n",
       "                        <td id=\"T_7cd38_row1_col0\" class=\"data row1 col0\" >3.0</td>\n",
       "                        <td id=\"T_7cd38_row1_col1\" class=\"data row1 col1\" >4.0</td>\n",
       "                        <td id=\"T_7cd38_row1_col2\" class=\"data row1 col2\" >-33.3%</td>\n",
       "            </tr>\n",
       "            <tr>\n",
       "                        <th id=\"T_7cd38_level0_row2\" class=\"row_heading level0 row2\" rowspan=\"2\">balance</th>\n",
       "                        <th id=\"T_7cd38_level1_row2\" class=\"row_heading level1 row2\" >mean</th>\n",
       "                        <td id=\"T_7cd38_row2_col0\" class=\"data row2 col0\" >733_982.6</td>\n",
       "                        <td id=\"T_7cd38_row2_col1\" class=\"data row2 col1\" >1_133_993.3</td>\n",
       "                        <td id=\"T_7cd38_row2_col2\" class=\"data row2 col2\" >-54.5%</td>\n",
       "            </tr>\n",
       "            <tr>\n",
       "                                <th id=\"T_7cd38_level1_row3\" class=\"row_heading level1 row3\" >median</th>\n",
       "                        <td id=\"T_7cd38_row3_col0\" class=\"data row3 col0\" >475_382.4</td>\n",
       "                        <td id=\"T_7cd38_row3_col1\" class=\"data row3 col1\" >782_410.5</td>\n",
       "                        <td id=\"T_7cd38_row3_col2\" class=\"data row3 col2\" >-64.6%</td>\n",
       "            </tr>\n",
       "            <tr>\n",
       "                        <th id=\"T_7cd38_level0_row4\" class=\"row_heading level0 row4\" >products</th>\n",
       "                        <th id=\"T_7cd38_level1_row4\" class=\"row_heading level1 row4\" >mean</th>\n",
       "                        <td id=\"T_7cd38_row4_col0\" class=\"data row4 col0\" >1.8</td>\n",
       "                        <td id=\"T_7cd38_row4_col1\" class=\"data row4 col1\" >2.4</td>\n",
       "                        <td id=\"T_7cd38_row4_col2\" class=\"data row4 col2\" >-35.2%</td>\n",
       "            </tr>\n",
       "            <tr>\n",
       "                        <th id=\"T_7cd38_level0_row5\" class=\"row_heading level0 row5\" >credit_card</th>\n",
       "                        <th id=\"T_7cd38_level1_row5\" class=\"row_heading level1 row5\" >mean</th>\n",
       "                        <td id=\"T_7cd38_row5_col0\" class=\"data row5 col0\" >0.7</td>\n",
       "                        <td id=\"T_7cd38_row5_col1\" class=\"data row5 col1\" >0.6</td>\n",
       "                        <td id=\"T_7cd38_row5_col2\" class=\"data row5 col2\" >22.3%</td>\n",
       "            </tr>\n",
       "            <tr>\n",
       "                        <th id=\"T_7cd38_level0_row6\" class=\"row_heading level0 row6\" >last_activity</th>\n",
       "                        <th id=\"T_7cd38_level1_row6\" class=\"row_heading level1 row6\" >mean</th>\n",
       "                        <td id=\"T_7cd38_row6_col0\" class=\"data row6 col0\" >0.5</td>\n",
       "                        <td id=\"T_7cd38_row6_col1\" class=\"data row6 col1\" >0.7</td>\n",
       "                        <td id=\"T_7cd38_row6_col2\" class=\"data row6 col2\" >-45.2%</td>\n",
       "            </tr>\n",
       "    </tbody></table>"
      ],
      "text/plain": [
       "<pandas.io.formats.style.Styler at 0x7f9dea55c250>"
      ]
     },
     "execution_count": 37,
     "metadata": {},
     "output_type": "execute_result"
    }
   ],
   "source": [
    "### КОД РЕВЬЮЕРА 2\n",
    "df.groupby(\"churn\").agg([\"mean\",\"median\"]).T\\\n",
    "  .apply(lambda row: pd.concat((\n",
    "    row,\n",
    "    pd.Series(0 if (row[0] == 0 or row[1] == 0) else (row[0]-row[1])/row[0])\n",
    "    )),axis=1)\\\n",
    "  .set_axis(['Stay','Churn','Change'],axis=1)\\\n",
    "  .query('Change < -.1 or Change > .1')\\\n",
    "  .style.background_gradient(subset=['Change'],cmap='vlag',vmin=-1, vmax=1)\\\n",
    "  .format({'Stay':'{:_.1f}','Churn':'{:_.1f}','Change':'{:.1%}'})"
   ]
  },
  {
   "cell_type": "markdown",
   "id": "c314022a",
   "metadata": {},
   "source": [
    "### Различия между ушедшими и остающимися клиентами"
   ]
  },
  {
   "cell_type": "markdown",
   "id": "60a6c800",
   "metadata": {},
   "source": [
    "Посмотрим, чем различаются остающиеся и ушедшие клиенты."
   ]
  },
  {
   "cell_type": "code",
   "execution_count": 38,
   "id": "d38bed33",
   "metadata": {},
   "outputs": [
    {
     "data": {
      "text/html": [
       "<div>\n",
       "<style scoped>\n",
       "    .dataframe tbody tr th:only-of-type {\n",
       "        vertical-align: middle;\n",
       "    }\n",
       "\n",
       "    .dataframe tbody tr th {\n",
       "        vertical-align: top;\n",
       "    }\n",
       "\n",
       "    .dataframe thead th {\n",
       "        text-align: right;\n",
       "    }\n",
       "</style>\n",
       "<table border=\"1\" class=\"dataframe\">\n",
       "  <thead>\n",
       "    <tr style=\"text-align: right;\">\n",
       "      <th></th>\n",
       "      <th>userid</th>\n",
       "      <th>score</th>\n",
       "      <th>gender</th>\n",
       "      <th>age</th>\n",
       "      <th>equity</th>\n",
       "      <th>balance</th>\n",
       "      <th>products</th>\n",
       "      <th>credit_card</th>\n",
       "      <th>last_activity</th>\n",
       "      <th>est_salary</th>\n",
       "      <th>churn</th>\n",
       "      <th>Ростов</th>\n",
       "      <th>Рыбинск</th>\n",
       "      <th>Ярославль</th>\n",
       "    </tr>\n",
       "  </thead>\n",
       "  <tbody>\n",
       "    <tr>\n",
       "      <th>count</th>\n",
       "      <td>1820.000</td>\n",
       "      <td>1820.000</td>\n",
       "      <td>1820.000</td>\n",
       "      <td>1819.000</td>\n",
       "      <td>1820.000</td>\n",
       "      <td>1807.000</td>\n",
       "      <td>1820.000</td>\n",
       "      <td>1820.000</td>\n",
       "      <td>1820.000</td>\n",
       "      <td>1820.000</td>\n",
       "      <td>1820.000</td>\n",
       "      <td>1738.000</td>\n",
       "      <td>1738.000</td>\n",
       "      <td>1738.000</td>\n",
       "    </tr>\n",
       "    <tr>\n",
       "      <th>mean</th>\n",
       "      <td>170962.346</td>\n",
       "      <td>863.401</td>\n",
       "      <td>0.650</td>\n",
       "      <td>41.450</td>\n",
       "      <td>3.764</td>\n",
       "      <td>1133993.271</td>\n",
       "      <td>2.376</td>\n",
       "      <td>0.551</td>\n",
       "      <td>0.702</td>\n",
       "      <td>148243.010</td>\n",
       "      <td>1.000</td>\n",
       "      <td>0.149</td>\n",
       "      <td>0.245</td>\n",
       "      <td>0.606</td>\n",
       "    </tr>\n",
       "    <tr>\n",
       "      <th>std</th>\n",
       "      <td>35289.614</td>\n",
       "      <td>49.612</td>\n",
       "      <td>0.477</td>\n",
       "      <td>11.176</td>\n",
       "      <td>1.586</td>\n",
       "      <td>2033978.249</td>\n",
       "      <td>0.923</td>\n",
       "      <td>0.498</td>\n",
       "      <td>0.457</td>\n",
       "      <td>122914.508</td>\n",
       "      <td>0.000</td>\n",
       "      <td>0.356</td>\n",
       "      <td>0.430</td>\n",
       "      <td>0.489</td>\n",
       "    </tr>\n",
       "    <tr>\n",
       "      <th>min</th>\n",
       "      <td>94561.000</td>\n",
       "      <td>706.000</td>\n",
       "      <td>0.000</td>\n",
       "      <td>18.000</td>\n",
       "      <td>0.000</td>\n",
       "      <td>6.000</td>\n",
       "      <td>0.000</td>\n",
       "      <td>0.000</td>\n",
       "      <td>0.000</td>\n",
       "      <td>10880.270</td>\n",
       "      <td>1.000</td>\n",
       "      <td>0.000</td>\n",
       "      <td>0.000</td>\n",
       "      <td>0.000</td>\n",
       "    </tr>\n",
       "    <tr>\n",
       "      <th>25%</th>\n",
       "      <td>141300.500</td>\n",
       "      <td>828.000</td>\n",
       "      <td>0.000</td>\n",
       "      <td>32.000</td>\n",
       "      <td>3.000</td>\n",
       "      <td>387218.335</td>\n",
       "      <td>2.000</td>\n",
       "      <td>0.000</td>\n",
       "      <td>0.000</td>\n",
       "      <td>83111.325</td>\n",
       "      <td>1.000</td>\n",
       "      <td>0.000</td>\n",
       "      <td>0.000</td>\n",
       "      <td>0.000</td>\n",
       "    </tr>\n",
       "    <tr>\n",
       "      <th>50%</th>\n",
       "      <td>170496.000</td>\n",
       "      <td>866.000</td>\n",
       "      <td>1.000</td>\n",
       "      <td>39.000</td>\n",
       "      <td>4.000</td>\n",
       "      <td>782410.470</td>\n",
       "      <td>2.000</td>\n",
       "      <td>1.000</td>\n",
       "      <td>1.000</td>\n",
       "      <td>125390.620</td>\n",
       "      <td>1.000</td>\n",
       "      <td>0.000</td>\n",
       "      <td>0.000</td>\n",
       "      <td>1.000</td>\n",
       "    </tr>\n",
       "    <tr>\n",
       "      <th>75%</th>\n",
       "      <td>201386.250</td>\n",
       "      <td>898.000</td>\n",
       "      <td>1.000</td>\n",
       "      <td>52.000</td>\n",
       "      <td>5.000</td>\n",
       "      <td>1348101.465</td>\n",
       "      <td>3.000</td>\n",
       "      <td>1.000</td>\n",
       "      <td>1.000</td>\n",
       "      <td>175952.932</td>\n",
       "      <td>1.000</td>\n",
       "      <td>0.000</td>\n",
       "      <td>0.000</td>\n",
       "      <td>1.000</td>\n",
       "    </tr>\n",
       "    <tr>\n",
       "      <th>max</th>\n",
       "      <td>229058.000</td>\n",
       "      <td>1000.000</td>\n",
       "      <td>1.000</td>\n",
       "      <td>79.000</td>\n",
       "      <td>9.000</td>\n",
       "      <td>64866210.150</td>\n",
       "      <td>5.000</td>\n",
       "      <td>1.000</td>\n",
       "      <td>1.000</td>\n",
       "      <td>1263028.490</td>\n",
       "      <td>1.000</td>\n",
       "      <td>1.000</td>\n",
       "      <td>1.000</td>\n",
       "      <td>1.000</td>\n",
       "    </tr>\n",
       "  </tbody>\n",
       "</table>\n",
       "</div>"
      ],
      "text/plain": [
       "          userid    score   gender      age   equity      balance  products  \\\n",
       "count   1820.000 1820.000 1820.000 1819.000 1820.000     1807.000  1820.000   \n",
       "mean  170962.346  863.401    0.650   41.450    3.764  1133993.271     2.376   \n",
       "std    35289.614   49.612    0.477   11.176    1.586  2033978.249     0.923   \n",
       "min    94561.000  706.000    0.000   18.000    0.000        6.000     0.000   \n",
       "25%   141300.500  828.000    0.000   32.000    3.000   387218.335     2.000   \n",
       "50%   170496.000  866.000    1.000   39.000    4.000   782410.470     2.000   \n",
       "75%   201386.250  898.000    1.000   52.000    5.000  1348101.465     3.000   \n",
       "max   229058.000 1000.000    1.000   79.000    9.000 64866210.150     5.000   \n",
       "\n",
       "       credit_card  last_activity  est_salary    churn   Ростов  Рыбинск  \\\n",
       "count     1820.000       1820.000    1820.000 1820.000 1738.000 1738.000   \n",
       "mean         0.551          0.702  148243.010    1.000    0.149    0.245   \n",
       "std          0.498          0.457  122914.508    0.000    0.356    0.430   \n",
       "min          0.000          0.000   10880.270    1.000    0.000    0.000   \n",
       "25%          0.000          0.000   83111.325    1.000    0.000    0.000   \n",
       "50%          1.000          1.000  125390.620    1.000    0.000    0.000   \n",
       "75%          1.000          1.000  175952.932    1.000    0.000    0.000   \n",
       "max          1.000          1.000 1263028.490    1.000    1.000    1.000   \n",
       "\n",
       "       Ярославль  \n",
       "count   1738.000  \n",
       "mean       0.606  \n",
       "std        0.489  \n",
       "min        0.000  \n",
       "25%        0.000  \n",
       "50%        1.000  \n",
       "75%        1.000  \n",
       "max        1.000  "
      ]
     },
     "execution_count": 38,
     "metadata": {},
     "output_type": "execute_result"
    }
   ],
   "source": [
    "banks_cleared[banks_cleared['churn']==1].describe()"
   ]
  },
  {
   "cell_type": "code",
   "execution_count": 39,
   "id": "b4c9477d",
   "metadata": {},
   "outputs": [
    {
     "data": {
      "text/html": [
       "<div>\n",
       "<style scoped>\n",
       "    .dataframe tbody tr th:only-of-type {\n",
       "        vertical-align: middle;\n",
       "    }\n",
       "\n",
       "    .dataframe tbody tr th {\n",
       "        vertical-align: top;\n",
       "    }\n",
       "\n",
       "    .dataframe thead th {\n",
       "        text-align: right;\n",
       "    }\n",
       "</style>\n",
       "<table border=\"1\" class=\"dataframe\">\n",
       "  <thead>\n",
       "    <tr style=\"text-align: right;\">\n",
       "      <th></th>\n",
       "      <th>userid</th>\n",
       "      <th>score</th>\n",
       "      <th>gender</th>\n",
       "      <th>age</th>\n",
       "      <th>equity</th>\n",
       "      <th>balance</th>\n",
       "      <th>products</th>\n",
       "      <th>credit_card</th>\n",
       "      <th>last_activity</th>\n",
       "      <th>est_salary</th>\n",
       "      <th>churn</th>\n",
       "      <th>Ростов</th>\n",
       "      <th>Рыбинск</th>\n",
       "      <th>Ярославль</th>\n",
       "    </tr>\n",
       "  </thead>\n",
       "  <tbody>\n",
       "    <tr>\n",
       "      <th>count</th>\n",
       "      <td>8180.000</td>\n",
       "      <td>8180.000</td>\n",
       "      <td>8180.000</td>\n",
       "      <td>8155.000</td>\n",
       "      <td>8180.000</td>\n",
       "      <td>5898.000</td>\n",
       "      <td>8180.000</td>\n",
       "      <td>8180.000</td>\n",
       "      <td>8180.000</td>\n",
       "      <td>8180.000</td>\n",
       "      <td>8180.000</td>\n",
       "      <td>7762.000</td>\n",
       "      <td>7762.000</td>\n",
       "      <td>7762.000</td>\n",
       "    </tr>\n",
       "    <tr>\n",
       "      <th>mean</th>\n",
       "      <td>172004.359</td>\n",
       "      <td>845.428</td>\n",
       "      <td>0.467</td>\n",
       "      <td>43.021</td>\n",
       "      <td>2.375</td>\n",
       "      <td>733982.586</td>\n",
       "      <td>1.758</td>\n",
       "      <td>0.709</td>\n",
       "      <td>0.484</td>\n",
       "      <td>147783.200</td>\n",
       "      <td>0.000</td>\n",
       "      <td>0.147</td>\n",
       "      <td>0.279</td>\n",
       "      <td>0.574</td>\n",
       "    </tr>\n",
       "    <tr>\n",
       "      <th>std</th>\n",
       "      <td>33345.469</td>\n",
       "      <td>68.048</td>\n",
       "      <td>0.499</td>\n",
       "      <td>12.375</td>\n",
       "      <td>1.971</td>\n",
       "      <td>1954572.709</td>\n",
       "      <td>0.713</td>\n",
       "      <td>0.454</td>\n",
       "      <td>0.500</td>\n",
       "      <td>142802.379</td>\n",
       "      <td>0.000</td>\n",
       "      <td>0.354</td>\n",
       "      <td>0.449</td>\n",
       "      <td>0.495</td>\n",
       "    </tr>\n",
       "    <tr>\n",
       "      <th>min</th>\n",
       "      <td>95384.000</td>\n",
       "      <td>642.000</td>\n",
       "      <td>0.000</td>\n",
       "      <td>18.000</td>\n",
       "      <td>0.000</td>\n",
       "      <td>0.000</td>\n",
       "      <td>1.000</td>\n",
       "      <td>0.000</td>\n",
       "      <td>0.000</td>\n",
       "      <td>2546.300</td>\n",
       "      <td>0.000</td>\n",
       "      <td>0.000</td>\n",
       "      <td>0.000</td>\n",
       "      <td>0.000</td>\n",
       "    </tr>\n",
       "    <tr>\n",
       "      <th>25%</th>\n",
       "      <td>143105.500</td>\n",
       "      <td>796.000</td>\n",
       "      <td>0.000</td>\n",
       "      <td>34.000</td>\n",
       "      <td>0.000</td>\n",
       "      <td>279348.670</td>\n",
       "      <td>1.000</td>\n",
       "      <td>0.000</td>\n",
       "      <td>0.000</td>\n",
       "      <td>73506.152</td>\n",
       "      <td>0.000</td>\n",
       "      <td>0.000</td>\n",
       "      <td>0.000</td>\n",
       "      <td>0.000</td>\n",
       "    </tr>\n",
       "    <tr>\n",
       "      <th>50%</th>\n",
       "      <td>173218.000</td>\n",
       "      <td>848.000</td>\n",
       "      <td>0.000</td>\n",
       "      <td>40.000</td>\n",
       "      <td>3.000</td>\n",
       "      <td>475382.445</td>\n",
       "      <td>2.000</td>\n",
       "      <td>1.000</td>\n",
       "      <td>0.000</td>\n",
       "      <td>118257.715</td>\n",
       "      <td>0.000</td>\n",
       "      <td>0.000</td>\n",
       "      <td>0.000</td>\n",
       "      <td>1.000</td>\n",
       "    </tr>\n",
       "    <tr>\n",
       "      <th>75%</th>\n",
       "      <td>201260.250</td>\n",
       "      <td>900.000</td>\n",
       "      <td>1.000</td>\n",
       "      <td>51.000</td>\n",
       "      <td>4.000</td>\n",
       "      <td>853926.943</td>\n",
       "      <td>2.000</td>\n",
       "      <td>1.000</td>\n",
       "      <td>1.000</td>\n",
       "      <td>173990.125</td>\n",
       "      <td>0.000</td>\n",
       "      <td>0.000</td>\n",
       "      <td>1.000</td>\n",
       "      <td>1.000</td>\n",
       "    </tr>\n",
       "    <tr>\n",
       "      <th>max</th>\n",
       "      <td>229145.000</td>\n",
       "      <td>1000.000</td>\n",
       "      <td>1.000</td>\n",
       "      <td>86.000</td>\n",
       "      <td>9.000</td>\n",
       "      <td>119113552.010</td>\n",
       "      <td>5.000</td>\n",
       "      <td>1.000</td>\n",
       "      <td>1.000</td>\n",
       "      <td>1395064.450</td>\n",
       "      <td>0.000</td>\n",
       "      <td>1.000</td>\n",
       "      <td>1.000</td>\n",
       "      <td>1.000</td>\n",
       "    </tr>\n",
       "  </tbody>\n",
       "</table>\n",
       "</div>"
      ],
      "text/plain": [
       "          userid    score   gender      age   equity       balance  products  \\\n",
       "count   8180.000 8180.000 8180.000 8155.000 8180.000      5898.000  8180.000   \n",
       "mean  172004.359  845.428    0.467   43.021    2.375    733982.586     1.758   \n",
       "std    33345.469   68.048    0.499   12.375    1.971   1954572.709     0.713   \n",
       "min    95384.000  642.000    0.000   18.000    0.000         0.000     1.000   \n",
       "25%   143105.500  796.000    0.000   34.000    0.000    279348.670     1.000   \n",
       "50%   173218.000  848.000    0.000   40.000    3.000    475382.445     2.000   \n",
       "75%   201260.250  900.000    1.000   51.000    4.000    853926.943     2.000   \n",
       "max   229145.000 1000.000    1.000   86.000    9.000 119113552.010     5.000   \n",
       "\n",
       "       credit_card  last_activity  est_salary    churn   Ростов  Рыбинск  \\\n",
       "count     8180.000       8180.000    8180.000 8180.000 7762.000 7762.000   \n",
       "mean         0.709          0.484  147783.200    0.000    0.147    0.279   \n",
       "std          0.454          0.500  142802.379    0.000    0.354    0.449   \n",
       "min          0.000          0.000    2546.300    0.000    0.000    0.000   \n",
       "25%          0.000          0.000   73506.152    0.000    0.000    0.000   \n",
       "50%          1.000          0.000  118257.715    0.000    0.000    0.000   \n",
       "75%          1.000          1.000  173990.125    0.000    0.000    1.000   \n",
       "max          1.000          1.000 1395064.450    0.000    1.000    1.000   \n",
       "\n",
       "       Ярославль  \n",
       "count   7762.000  \n",
       "mean       0.574  \n",
       "std        0.495  \n",
       "min        0.000  \n",
       "25%        0.000  \n",
       "50%        1.000  \n",
       "75%        1.000  \n",
       "max        1.000  "
      ]
     },
     "execution_count": 39,
     "metadata": {},
     "output_type": "execute_result"
    }
   ],
   "source": [
    "banks_cleared[banks_cleared['churn']==0].describe()"
   ]
  },
  {
   "cell_type": "markdown",
   "id": "ac8bfe37",
   "metadata": {},
   "source": [
    "Бросаются в глаза различия по полу - в отточной группе вероятность встретить мужчину практически в два раза выше, чем женщину, между тем как в неотточной группе соотношения между мужчинами и женщинами - стандартное, половина на половину.. Такие ж заметные отличия по собственности  - количество объектов во владении в отточной группе в полтора раза больше, чем в неотточной. Отличия того же порядка есть и в таких категориях как баланс, количество продуктов, доля активных пользователей. На фоне этого - любопытно, что по зарплате эти совокупности не очень различаются между собой. По городам особых отличий нет. "
   ]
  },
  {
   "cell_type": "markdown",
   "id": "1bfa6377",
   "metadata": {},
   "source": [
    "Посмотрим на диаграммах"
   ]
  },
  {
   "cell_type": "code",
   "execution_count": 40,
   "id": "716bb9a7",
   "metadata": {},
   "outputs": [
    {
     "data": {
      "image/png": "[encoded data removed]",
      "text/plain": [
       "<Figure size 576x432 with 1 Axes>"
      ]
     },
     "metadata": {
      "needs_background": "light"
     },
     "output_type": "display_data"
    }
   ],
   "source": [
    "fig, ax = plt.subplots(figsize=(8, 6))\n",
    "sns.histplot(banks_cleared, x='score', hue='churn', ax=ax, kde=True, stat=\"density\", common_norm=False)\n",
    "ax.set_title('Score')\n",
    "ax.set_xlabel('')\n",
    "plt.show()"
   ]
  },
  {
   "cell_type": "markdown",
   "id": "4fdce1be",
   "metadata": {},
   "source": [
    "Довольно заметные отличия по рейтингу между двумя группами. В группе \"отточные\" есть значительная концентрация пользователей в интервале рейтинга от 830 до 950."
   ]
  },
  {
   "cell_type": "code",
   "execution_count": 41,
   "id": "7c5a1ce9",
   "metadata": {},
   "outputs": [
    {
     "data": {
      "image/png": "[encoded data removed]",
      "text/plain": [
       "<Figure size 576x432 with 1 Axes>"
      ]
     },
     "metadata": {
      "needs_background": "light"
     },
     "output_type": "display_data"
    }
   ],
   "source": [
    "fig, ax = plt.subplots(figsize=(8, 6))\n",
    "sns.histplot(banks_cleared, x='age', hue='churn', ax=ax, kde=True, stat=\"density\", common_norm=False)\n",
    "ax.set_title('Возраст')\n",
    "ax.set_xlabel('')\n",
    "plt.show()"
   ]
  },
  {
   "cell_type": "markdown",
   "id": "85cdb620",
   "metadata": {},
   "source": [
    "Можно выделить две группы, особенно склонные к уходу - люди до 35 лет и люди старше 50."
   ]
  },
  {
   "cell_type": "code",
   "execution_count": 42,
   "id": "9e2c7fbf",
   "metadata": {},
   "outputs": [
    {
     "data": {
      "image/png": "[encoded data removed]",
      "text/plain": [
       "<Figure size 576x432 with 1 Axes>"
      ]
     },
     "metadata": {
      "needs_background": "light"
     },
     "output_type": "display_data"
    }
   ],
   "source": [
    "fig, ax = plt.subplots(figsize=(8, 6))\n",
    "sns.histplot(banks_cleared, x='equity', hue='churn', ax=ax, kde=True, stat=\"density\", common_norm=False)\n",
    "ax.set_title('Имущество')\n",
    "ax.set_xlabel('')\n",
    "plt.show()"
   ]
  },
  {
   "cell_type": "markdown",
   "id": "f79e2a76",
   "metadata": {},
   "source": [
    "Клиенты с количеством продуктов 0-1 явно имеют меньшую склонность к уходу, чем клиенты с количеством продуктов от 4."
   ]
  },
  {
   "cell_type": "code",
   "execution_count": 43,
   "id": "cd6f9650",
   "metadata": {},
   "outputs": [
    {
     "data": {
      "image/png": "[encoded data removed]",
      "text/plain": [
       "<Figure size 576x432 with 1 Axes>"
      ]
     },
     "metadata": {},
     "output_type": "display_data"
    }
   ],
   "source": [
    "sns.set_style('whitegrid')\n",
    "\n",
    "fig, ax = plt.subplots(figsize=(8, 6))\n",
    "sns.histplot(banks_cleared, x='balance', hue='churn', ax=ax, kde=True, stat=\"density\", common_norm=False)\n",
    "ax.ticklabel_format(style='plain', axis='both')\n",
    "ax.set_title('Баланс')\n",
    "ax.set_xlabel('')\n",
    "ax.set_xlim([0, 5000000])\n",
    "plt.show()"
   ]
  },
  {
   "cell_type": "markdown",
   "id": "ac0761bc",
   "metadata": {},
   "source": [
    "В интервале от 1,5 млн. рублей до по крайней мере 5 млн. у клиентов повышается склонность к уходу. "
   ]
  },
  {
   "cell_type": "code",
   "execution_count": 44,
   "id": "8a190fa8",
   "metadata": {},
   "outputs": [
    {
     "data": {
      "image/png": "[encoded data removed]",
      "text/plain": [
       "<Figure size 576x432 with 1 Axes>"
      ]
     },
     "metadata": {},
     "output_type": "display_data"
    }
   ],
   "source": [
    "fig, ax = plt.subplots(figsize=(8, 6))\n",
    "sns.histplot(banks_cleared, x='est_salary', hue='churn', ax=ax, kde=True, stat=\"density\", common_norm=False)\n",
    "ax.set_title('Заработная плата')\n",
    "ax.set_xlabel('')\n",
    "plt.show()"
   ]
  },
  {
   "cell_type": "markdown",
   "id": "26e069fb",
   "metadata": {},
   "source": [
    "Здесь, похоже, особых отличий нет."
   ]
  },
  {
   "cell_type": "code",
   "execution_count": 45,
   "id": "3b09eca6",
   "metadata": {},
   "outputs": [
    {
     "data": {
      "image/png": "[encoded data removed]",
      "text/plain": [
       "<Figure size 576x432 with 1 Axes>"
      ]
     },
     "metadata": {},
     "output_type": "display_data"
    }
   ],
   "source": [
    "fig, ax = plt.subplots(figsize=(8, 6))\n",
    "sns.histplot(banks_cleared, x='products', hue='churn', ax=ax, kde=True, stat=\"density\", common_norm=False)\n",
    "ax.set_title('Количество продуктов')\n",
    "ax.set_xlabel('')\n",
    "plt.show()"
   ]
  },
  {
   "cell_type": "markdown",
   "id": "74b2d053",
   "metadata": {},
   "source": [
    "У клиентов с количеством продуктов от 3 до 4 явно больше склонность к уходу. "
   ]
  },
  {
   "cell_type": "code",
   "execution_count": 46,
   "id": "38b2ebda",
   "metadata": {},
   "outputs": [
    {
     "data": {
      "image/png": "[encoded data removed]",
      "text/plain": [
       "<Figure size 504x432 with 6 Axes>"
      ]
     },
     "metadata": {},
     "output_type": "display_data"
    }
   ],
   "source": [
    "\n",
    "columns_cat = ['gender', 'credit_card', 'last_activity', 'Ростов', \"Рыбинск\", \"Ярославль\", 'churn']\n",
    "\n",
    "churn_grouping = banks_cleared[columns_cat].groupby('churn').mean()\n",
    "            \n",
    "\n",
    "fig, axes = plt.subplots(2, 3, figsize=(7, 6), constrained_layout=True)\n",
    "axes = axes.ravel()\n",
    "\n",
    "for sign, ax in zip(churn_grouping.columns, axes):\n",
    "    ax.set_title(sign)\n",
    "    ax=sns.barplot(data=churn_grouping, x=churn_grouping.index, y=sign, ax=ax)"
   ]
  },
  {
   "cell_type": "code",
   "execution_count": 47,
   "id": "56649ef1",
   "metadata": {},
   "outputs": [
    {
     "data": {
      "text/html": [
       "<div>\n",
       "<style scoped>\n",
       "    .dataframe tbody tr th:only-of-type {\n",
       "        vertical-align: middle;\n",
       "    }\n",
       "\n",
       "    .dataframe tbody tr th {\n",
       "        vertical-align: top;\n",
       "    }\n",
       "\n",
       "    .dataframe thead th {\n",
       "        text-align: right;\n",
       "    }\n",
       "</style>\n",
       "<table border=\"1\" class=\"dataframe\">\n",
       "  <thead>\n",
       "    <tr style=\"text-align: right;\">\n",
       "      <th></th>\n",
       "      <th>gender</th>\n",
       "      <th>credit_card</th>\n",
       "      <th>last_activity</th>\n",
       "      <th>Ростов</th>\n",
       "      <th>Рыбинск</th>\n",
       "      <th>Ярославль</th>\n",
       "    </tr>\n",
       "    <tr>\n",
       "      <th>churn</th>\n",
       "      <th></th>\n",
       "      <th></th>\n",
       "      <th></th>\n",
       "      <th></th>\n",
       "      <th></th>\n",
       "      <th></th>\n",
       "    </tr>\n",
       "  </thead>\n",
       "  <tbody>\n",
       "    <tr>\n",
       "      <th>0</th>\n",
       "      <td>0.467</td>\n",
       "      <td>0.709</td>\n",
       "      <td>0.484</td>\n",
       "      <td>0.147</td>\n",
       "      <td>0.279</td>\n",
       "      <td>0.574</td>\n",
       "    </tr>\n",
       "    <tr>\n",
       "      <th>1</th>\n",
       "      <td>0.650</td>\n",
       "      <td>0.551</td>\n",
       "      <td>0.702</td>\n",
       "      <td>0.149</td>\n",
       "      <td>0.245</td>\n",
       "      <td>0.606</td>\n",
       "    </tr>\n",
       "  </tbody>\n",
       "</table>\n",
       "</div>"
      ],
      "text/plain": [
       "       gender  credit_card  last_activity  Ростов  Рыбинск  Ярославль\n",
       "churn                                                                \n",
       "0       0.467        0.709          0.484   0.147    0.279      0.574\n",
       "1       0.650        0.551          0.702   0.149    0.245      0.606"
      ]
     },
     "execution_count": 47,
     "metadata": {},
     "output_type": "execute_result"
    }
   ],
   "source": [
    "churn_grouping"
   ]
  },
  {
   "cell_type": "markdown",
   "id": "b97c4b8d",
   "metadata": {},
   "source": [
    "Как видно по диаграммам количественным признаков, уходят клиенты более возрастные, с высоким рейтингом, пользующиеся скорее несколькими продуктами, обладающие скорее несколькими объектами имущества. А вот низкий баланс больше располагает к уходу, чем крупный. Что касается категориальных признаков - мужчины более расположены к уходу чем женщины. Среди уходящих - 65% мужчин. Более активные пользователи - с большей вероятностью уходят. Среди уходящих аж 70% активных пользователей. Владельцы кредитной карты менее склонны к уходу, что не удивительно. Возможно, стоит подумать о том, чтобы о том, чтобы сделать (расширить) линейку продуктов с большей ориентацией на более активную, разборчивую и ресурсную клиентуру. Банально советовать расширять круг владельцев кредитных карт и содействовать увеличению размера баланса - эти два фактора уменьшают вероятность ухода - банк, вероятно, и так стремится увеличить эти два показателя в ходе обычной деятельности. \n"
   ]
  },
  {
   "cell_type": "markdown",
   "id": "646d900b",
   "metadata": {},
   "source": [
    "#### Матрица корреляции"
   ]
  },
  {
   "cell_type": "markdown",
   "id": "51f98300",
   "metadata": {},
   "source": [
    "Составим матрицу корреляции."
   ]
  },
  {
   "cell_type": "code",
   "execution_count": 48,
   "id": "9628bdd6",
   "metadata": {},
   "outputs": [],
   "source": [
    "cols = ['score', 'age', 'balance', 'est_salary', 'products', 'equity', 'Ростов', 'Ярославль', 'Рыбинск', 'gender']\n",
    "data = banks_cleared[cols]\n",
    "corr_matrix = data.corr()"
   ]
  },
  {
   "cell_type": "code",
   "execution_count": 49,
   "id": "c4bd7858",
   "metadata": {},
   "outputs": [],
   "source": [
    "cmap = sns.diverging_palette(220, 10, as_cmap=True)"
   ]
  },
  {
   "cell_type": "code",
   "execution_count": 50,
   "id": "2817fbb6",
   "metadata": {},
   "outputs": [
    {
     "data": {
      "image/png": "[encoded data removed]",
      "text/plain": [
       "<Figure size 432x288 with 2 Axes>"
      ]
     },
     "metadata": {},
     "output_type": "display_data"
    }
   ],
   "source": [
    "sns.heatmap(corr_matrix, cmap=cmap, center=0, annot=True, fmt=\".2f\");"
   ]
  },
  {
   "cell_type": "markdown",
   "id": "f0c7e7e0",
   "metadata": {},
   "source": [
    "В подавляющем большинстве случаев корреляция между признаками либо слабая, либо даже слабо отрицательная, по шкале Чеддока. В двух случаях - между объектами в собственности и количеством продуктов, а также между зарплатой и балансом - умеренная. "
   ]
  },
  {
   "cell_type": "markdown",
   "id": "68937590",
   "metadata": {},
   "source": [
    "|Показатель |Сравнение портретов|Корреляции|Распределения в разрезе оттока|\n",
    "|-----------|-------------------|----------|------------------------------|\n",
    "|неизвестный|есть связь         |нет связи | отточный интервал с __ по __ |\n",
    "|score      |есть связь         |нет связи | отточный интервал с830 по 950|\n",
    "|city       |нет связи          |нет связи |                              |\n",
    "|gender     | есть связь        |нет связи |среди отточных мужчин 65%     |\n",
    "|age        |есть связь         |нет связи |отток до 35 л. и после 50     |\n",
    "|equity     |есть связь         |с прод-ми |отточный интервал от 4        |\n",
    "|balance    |есть связь         |слаб. с з.п.|от 1,5 млн. до 5 млн.       |\n",
    "|products   |есть связь         |нет        |от 3                         |\n",
    "|credit_card|есть связь         |          |                              |\n",
    "|last_activity|есть связь       |          |                              |\n",
    "|est_salary |нет связи          |слаб.с бсом|                              |\n",
    "|churn      |                   |          |                              |\n",
    "|  | | |\n",
    "    "
   ]
  },
  {
   "cell_type": "markdown",
   "id": "719a2362",
   "metadata": {},
   "source": [
    "### Сегментация пользователей"
   ]
  },
  {
   "cell_type": "markdown",
   "id": "d1edb9ef",
   "metadata": {},
   "source": [
    "#### Выбор исходной совокупности"
   ]
  },
  {
   "cell_type": "markdown",
   "id": "c8f0de6d",
   "metadata": {},
   "source": [
    "Попробуем для начала отсечь достаточно некий \"богатый на отточность\" кусок датафрейма. Очевидно, он должен соответствовать как минимум двум критериям: 1. Процент отточности должен быть достаточно высоким 2. Сам кусок должен быть достаточно большим. Например, количество продуктов явно не годится в качестве такого признака, поскольку самые отточные сегменты - от 3 до 5 продуктов - невелики по количеству. По этой же причине нецелесообразно отсекать сегмент по имуществу, и категориальным переменным - слишком большие куски совокупности окажутся за бортом. "
   ]
  },
  {
   "cell_type": "markdown",
   "id": "84ea85c3",
   "metadata": {},
   "source": [
    "Попробуем отсечь по рейтингу. На диаграмме мы видим \"отточный\" кусок в диапазоне от 830 до 950 баллов."
   ]
  },
  {
   "cell_type": "code",
   "execution_count": 51,
   "id": "f17ddc44",
   "metadata": {},
   "outputs": [
    {
     "data": {
      "text/plain": [
       "5664"
      ]
     },
     "execution_count": 51,
     "metadata": {},
     "output_type": "execute_result"
    }
   ],
   "source": [
    "len(banks_cleared.query('score > 830 & score<950'))"
   ]
  },
  {
   "cell_type": "markdown",
   "id": "75f81895",
   "metadata": {},
   "source": [
    "Сравнительно большая совокупность."
   ]
  },
  {
   "cell_type": "code",
   "execution_count": 52,
   "id": "7d45e3b9",
   "metadata": {},
   "outputs": [],
   "source": [
    "score_selected = banks_cleared.query('score > 830 & score<950')"
   ]
  },
  {
   "cell_type": "markdown",
   "id": "6277a580",
   "metadata": {},
   "source": [
    "Средняя отточность по всей совокупности у нас равна:"
   ]
  },
  {
   "cell_type": "code",
   "execution_count": 53,
   "id": "3cb30f35",
   "metadata": {},
   "outputs": [
    {
     "data": {
      "text/plain": [
       "0.182"
      ]
     },
     "execution_count": 53,
     "metadata": {},
     "output_type": "execute_result"
    }
   ],
   "source": [
    "banks['churn'].mean()"
   ]
  },
  {
   "cell_type": "markdown",
   "id": "7aba95f0",
   "metadata": {},
   "source": [
    "Между тем в выбранном интервале рейтинга она явно выше."
   ]
  },
  {
   "cell_type": "code",
   "execution_count": 54,
   "id": "1c999e96",
   "metadata": {},
   "outputs": [
    {
     "data": {
      "text/plain": [
       "0.22810734463276836"
      ]
     },
     "execution_count": 54,
     "metadata": {},
     "output_type": "execute_result"
    }
   ],
   "source": [
    "score_selected['churn'].mean()"
   ]
  },
  {
   "cell_type": "markdown",
   "id": "d0501b9a",
   "metadata": {},
   "source": [
    "По диаграммам также видно, что к оттоку  склонны либо более молодые, либо наоборот более возрастные люди. Однако довольно очевидно, что это две очень разные категории, и на них могут влиять разные факторы. Рассмотрим их повнимательнее по отдельности. "
   ]
  },
  {
   "cell_type": "code",
   "execution_count": 55,
   "id": "04bbfa06",
   "metadata": {},
   "outputs": [
    {
     "data": {
      "text/plain": [
       "1607"
      ]
     },
     "execution_count": 55,
     "metadata": {},
     "output_type": "execute_result"
    }
   ],
   "source": [
    "len(score_selected.query('age>=50'))"
   ]
  },
  {
   "cell_type": "code",
   "execution_count": 56,
   "id": "445930cb",
   "metadata": {},
   "outputs": [
    {
     "data": {
      "text/plain": [
       "1734"
      ]
     },
     "execution_count": 56,
     "metadata": {},
     "output_type": "execute_result"
    }
   ],
   "source": [
    "len(score_selected.query('age>25 & age<=35'))"
   ]
  },
  {
   "cell_type": "markdown",
   "id": "774ac64e",
   "metadata": {},
   "source": [
    "Довольно крупные по численности, даже в пределах выбранного интервала рейтинга. "
   ]
  },
  {
   "cell_type": "code",
   "execution_count": 57,
   "id": "99314389",
   "metadata": {},
   "outputs": [],
   "source": [
    "score_and_age_selected_less35 = score_selected.query('age>25 & age<=35')"
   ]
  },
  {
   "cell_type": "code",
   "execution_count": 58,
   "id": "5760c3af",
   "metadata": {},
   "outputs": [],
   "source": [
    "score_and_age_selected_morethan50 = score_selected.query('age>=50')"
   ]
  },
  {
   "attachments": {
    "image.png": {
     "image/png": "[encoded data removed]"
    }
   },
   "cell_type": "markdown",
   "id": "ce7e0568",
   "metadata": {},
   "source": [
    "<div class=\"alert alert-warning\"><b>Комментарий ревьюера 2</b>&nbsp;🔧<br>\n",
    "Пожалуйста, используй для разбиения интервалы по возрасту из своего EDA.\n",
    "</div>\n",
    "\n",
    "![image.png](attachment:image.png)"
   ]
  },
  {
   "cell_type": "markdown",
   "id": "4b78ecf0",
   "metadata": {},
   "source": [
    "Посмотрим, как у них обстоит дело с отточностью."
   ]
  },
  {
   "cell_type": "code",
   "execution_count": 59,
   "id": "4abecbf5",
   "metadata": {},
   "outputs": [
    {
     "data": {
      "text/plain": [
       "0.20846297448662104"
      ]
     },
     "execution_count": 59,
     "metadata": {},
     "output_type": "execute_result"
    }
   ],
   "source": [
    "score_and_age_selected_morethan50['churn'].mean()"
   ]
  },
  {
   "cell_type": "code",
   "execution_count": 60,
   "id": "fad057ec",
   "metadata": {},
   "outputs": [
    {
     "data": {
      "text/plain": [
       "0.2918108419838524"
      ]
     },
     "execution_count": 60,
     "metadata": {},
     "output_type": "execute_result"
    }
   ],
   "source": [
    "score_and_age_selected_less35['churn'].mean()"
   ]
  },
  {
   "cell_type": "markdown",
   "id": "a499f63f",
   "metadata": {},
   "source": [
    "Любопытно! В категории \"после\" процент отточности чуть выше, чем в совокупности в целом, но ниже, чем в подсовокупности \"рейтинг от 830 до 950\". А вот в категории до 35 - отточность подскакивает почти до 30%! При этом эта категория достаточно многочисленная - 17% от всей  совокупности."
   ]
  },
  {
   "cell_type": "markdown",
   "id": "5354f076",
   "metadata": {},
   "source": [
    "При этом если мы посмотрим на эту возрастную категорию вне рейтинга, то мы увидим, что отточность там не так уж сильно отличается от среднего."
   ]
  },
  {
   "cell_type": "code",
   "execution_count": 61,
   "id": "601dadde",
   "metadata": {},
   "outputs": [
    {
     "data": {
      "text/plain": [
       "0.211485870556062"
      ]
     },
     "execution_count": 61,
     "metadata": {},
     "output_type": "execute_result"
    }
   ],
   "source": [
    "banks_cleared.query('age<=35')['churn'].mean()"
   ]
  },
  {
   "cell_type": "markdown",
   "id": "848791b8",
   "metadata": {},
   "source": [
    "Давайте сосредоточимся на категории до 35 лет с рейтингом от 830 до 950 как на самой перспективной.  "
   ]
  },
  {
   "cell_type": "markdown",
   "id": "4f070d1f",
   "metadata": {},
   "source": [
    "Этот сегмент состоит из 1734 человек, коэффициент отточности - порядка 30%."
   ]
  },
  {
   "cell_type": "markdown",
   "id": "7d84a51c",
   "metadata": {},
   "source": [
    "#### Анализ выбранной совокупности"
   ]
  },
  {
   "cell_type": "raw",
   "id": "ccfe7309",
   "metadata": {},
   "source": [
    "Попробуем посмотреть на этом куске тепловую карту в трех разрезаз по трем явно значимым признакам - количество продуктов, баланс и имущество. Заработная плата, судя по диаграммам, не сильно влияет на отточность."
   ]
  },
  {
   "cell_type": "markdown",
   "id": "7018785d",
   "metadata": {},
   "source": [
    "##### Разрез \"имущество - продукты\""
   ]
  },
  {
   "cell_type": "code",
   "execution_count": 62,
   "id": "e7d5763d",
   "metadata": {},
   "outputs": [],
   "source": [
    "\n",
    "# create a pivot table to calculate the churn rate\n",
    "pivot_table_equity_products = score_and_age_selected_less35.pivot_table\\\n",
    "(values='churn', index='equity', columns='products', aggfunc='mean')\n"
   ]
  },
  {
   "cell_type": "code",
   "execution_count": 63,
   "id": "f6d3e4e7",
   "metadata": {},
   "outputs": [
    {
     "data": {
      "image/png": "[encoded data removed]",
      "text/plain": [
       "<Figure size 432x288 with 2 Axes>"
      ]
     },
     "metadata": {},
     "output_type": "display_data"
    }
   ],
   "source": [
    "sns.heatmap(pivot_table_equity_products);"
   ]
  },
  {
   "cell_type": "markdown",
   "id": "c8c82523",
   "metadata": {},
   "source": [
    "Здесь наибольший интерес вызывает диапазон от 2 до 4 продуктов и с количеством объектов имущества от 2. Посмотрим на него повнимательнее. "
   ]
  },
  {
   "cell_type": "code",
   "execution_count": 64,
   "id": "29b451b3",
   "metadata": {},
   "outputs": [
    {
     "data": {
      "text/plain": [
       "975"
      ]
     },
     "execution_count": 64,
     "metadata": {},
     "output_type": "execute_result"
    }
   ],
   "source": [
    "len(score_and_age_selected_less35.query\\\n",
    "    (' equity > 1  & products >1 & products < 5 '))"
   ]
  },
  {
   "cell_type": "markdown",
   "id": "8c1fd9f8",
   "metadata": {},
   "source": [
    "Там около 975 человек."
   ]
  },
  {
   "cell_type": "code",
   "execution_count": 65,
   "id": "7f700e89",
   "metadata": {},
   "outputs": [
    {
     "data": {
      "text/plain": [
       "0.4451282051282051"
      ]
     },
     "execution_count": 65,
     "metadata": {},
     "output_type": "execute_result"
    }
   ],
   "source": [
    "score_and_age_selected_less35.query\\\n",
    "('equity > 1  & products >1 & products < 5')['churn'].mean()"
   ]
  },
  {
   "cell_type": "markdown",
   "id": "dd372fe6",
   "metadata": {},
   "source": [
    "И что самое любопытное - коэффициент отточности подскакивает аж до 44,5%. "
   ]
  },
  {
   "cell_type": "markdown",
   "id": "781e751c",
   "metadata": {},
   "source": [
    "Итак мы видим, что в группе от 25 до 35 лет, с рейтингом от 830 до 950, с количеством продуктов от 2 до 5, с количеством объектов имущества от 2, коэффициент отточности порядка 44,5%. Почти половина. Группа состоит примерно из 1000 человек. "
   ]
  },
  {
   "cell_type": "markdown",
   "id": "4d6702f0",
   "metadata": {},
   "source": [
    "Запомним этот момент."
   ]
  },
  {
   "cell_type": "markdown",
   "id": "dd2da677",
   "metadata": {},
   "source": [
    "##### Разрез \"баланс - продукты\""
   ]
  },
  {
   "cell_type": "markdown",
   "id": "bad44c18",
   "metadata": {},
   "source": [
    "Посмотрим теперь на выбранную совокупность в разрезе баланс - продукты, разделив баланс на 10 интервалов. "
   ]
  },
  {
   "cell_type": "code",
   "execution_count": 66,
   "id": "7aa2fea1",
   "metadata": {},
   "outputs": [],
   "source": [
    "score_and_age_selected_less35_copy = score_and_age_selected_less35.\\\n",
    "query('balance >= 0').copy()"
   ]
  },
  {
   "cell_type": "code",
   "execution_count": 67,
   "id": "81c16e32",
   "metadata": {},
   "outputs": [],
   "source": [
    "score_and_age_selected_less35_copy['balance_range'] = pd.cut\\\n",
    "(score_and_age_selected_less35_copy['balance'], bins=10)\n"
   ]
  },
  {
   "attachments": {
    "image.png": {
     "image/png": "[encoded data removed]"
    }
   },
   "cell_type": "markdown",
   "id": "d2106640",
   "metadata": {},
   "source": [
    "![image.png](attachment:image.png)"
   ]
  },
  {
   "cell_type": "code",
   "execution_count": 68,
   "id": "17b4279f",
   "metadata": {},
   "outputs": [],
   "source": [
    "pivot_table_balance_products = score_and_age_selected_less35_copy.\\\n",
    "pivot_table(values='churn', index='balance_range', columns='products', aggfunc='mean')\n"
   ]
  },
  {
   "cell_type": "code",
   "execution_count": 69,
   "id": "3ac409cc",
   "metadata": {},
   "outputs": [
    {
     "data": {
      "image/png": "[encoded data removed]",
      "text/plain": [
       "<Figure size 432x288 with 2 Axes>"
      ]
     },
     "metadata": {},
     "output_type": "display_data"
    }
   ],
   "source": [
    "sns.heatmap(pivot_table_balance_products);"
   ]
  },
  {
   "cell_type": "code",
   "execution_count": 70,
   "id": "4b964ae4",
   "metadata": {},
   "outputs": [
    {
     "data": {
      "text/plain": [
       "112"
      ]
     },
     "execution_count": 70,
     "metadata": {},
     "output_type": "execute_result"
    }
   ],
   "source": [
    "len(score_and_age_selected_less35.query\\\n",
    "    ('products >=2 & balance > 1500000 & balance < 5000000'))"
   ]
  },
  {
   "cell_type": "code",
   "execution_count": 71,
   "id": "53467649",
   "metadata": {},
   "outputs": [
    {
     "data": {
      "text/plain": [
       "0.7232142857142857"
      ]
     },
     "execution_count": 71,
     "metadata": {},
     "output_type": "execute_result"
    }
   ],
   "source": [
    "score_and_age_selected_less35.query('products >=2 & balance > 1500000 & balance < 5000000')\\\n",
    "['churn'].mean()"
   ]
  },
  {
   "cell_type": "markdown",
   "id": "ea13b7a4",
   "metadata": {},
   "source": [
    "Итак группа от 25 до 35 лет, с рейтингом от 830 до 950, с количеством продуктов от 2, с балансом от 1,5 млн. до 5 млн. состоит из 110 человек. Однако коэффициент отточности у неё поразительный - около 72%. "
   ]
  },
  {
   "cell_type": "markdown",
   "id": "e5298cbf",
   "metadata": {},
   "source": [
    "##### Разрез \"баланс - имущество\""
   ]
  },
  {
   "cell_type": "markdown",
   "id": "3d1e4e76",
   "metadata": {},
   "source": [
    "Теперь обратимся к разрезу баланс - имущество."
   ]
  },
  {
   "cell_type": "code",
   "execution_count": 72,
   "id": "e4d2b289",
   "metadata": {},
   "outputs": [],
   "source": [
    "pivot_table_balance_equity = score_and_age_selected_less35_copy.pivot_table\\\n",
    "(values='churn', index='balance_range', columns='equity', aggfunc='mean')"
   ]
  },
  {
   "cell_type": "code",
   "execution_count": 73,
   "id": "a604d903",
   "metadata": {},
   "outputs": [
    {
     "data": {
      "image/png": "[encoded data removed]",
      "text/plain": [
       "<Figure size 432x288 with 2 Axes>"
      ]
     },
     "metadata": {},
     "output_type": "display_data"
    }
   ],
   "source": [
    "sns.heatmap(pivot_table_balance_equity);"
   ]
  },
  {
   "cell_type": "code",
   "execution_count": 74,
   "id": "c81be012",
   "metadata": {},
   "outputs": [
    {
     "data": {
      "text/plain": [
       "117"
      ]
     },
     "execution_count": 74,
     "metadata": {},
     "output_type": "execute_result"
    }
   ],
   "source": [
    "len(score_and_age_selected_less35.query('balance>1500000 & balance < 5000000 & equity > 1'))"
   ]
  },
  {
   "cell_type": "code",
   "execution_count": 75,
   "id": "04da18b1",
   "metadata": {},
   "outputs": [
    {
     "data": {
      "text/plain": [
       "0.7094017094017094"
      ]
     },
     "execution_count": 75,
     "metadata": {},
     "output_type": "execute_result"
    }
   ],
   "source": [
    "score_and_age_selected_less35.query('balance>1500000 & balance < 5000000 & equity > 1')['churn'].mean()"
   ]
  },
  {
   "cell_type": "markdown",
   "id": "3098ef7d",
   "metadata": {},
   "source": [
    "Итак группа от 25 до 35 лет, с рейтингом от 830 до 950, с количеством имущественных объектов от 2, с балансом от 1,5 млн. до 5 млн. состоит из 117 человек, и коэффициент отточности  у неё около 71%. "
   ]
  },
  {
   "cell_type": "markdown",
   "id": "2a86571d",
   "metadata": {},
   "source": [
    "Итак мы рассмотрели три группы: \n",
    "1. Группа от 25 до 35 лет, с рейтингом от 830 до 950, с количеством продуктов от 2 до 5, с количеством объектов имущества от 2, коэффициент отточности порядка 44,5%. Почти половина. Группа состоит примерно из 1000 человек. \n",
    "2. Группа от 25 до 35 лет, с рейтингом от 830 до 950, с количеством продуктов от 2, с балансом от 1,5 млн. до 5 млн. состоит из 110 человек. Однако коэффициент отточности у неё около 72%.\n",
    "3. Группа от 25 до 35 лет, с рейтингом от 830 до 950, с количеством имущественных объектов от 2, с балансом от 1,5 млн. до 5 млн. состоит из 117 человек, и коэффициент отточности  у неё около 71%. \n",
    "В целом, это подтверждает наш вывод о том, что наибольшую склонность к уходу проявляют разборчивые, ресурсные и активные клиенты (добавим еще молодые). А кроме того, можно предположить, что с точки зрения размера баланса, есть некая зона большого риска в районе примерно от 1,5 млн до 5 млн рублей. Возможно, банку следует подумать о том, как поощрить клиента максимально быстро проходить эту \"опасную\" зону с точки зрения размера баланса.  "
   ]
  },
  {
   "cell_type": "markdown",
   "id": "ff2b28f8",
   "metadata": {},
   "source": [
    "### Выводы к разделу"
   ]
  },
  {
   "cell_type": "code",
   "execution_count": 76,
   "id": "13e8d0d6",
   "metadata": {},
   "outputs": [
    {
     "data": {
      "text/plain": [
       "<AxesSubplot:ylabel='churn'>"
      ]
     },
     "execution_count": 76,
     "metadata": {},
     "output_type": "execute_result"
    },
    {
     "data": {
      "image/png": "[encoded data removed]",
      "text/plain": [
       "<Figure size 432x288 with 3 Axes>"
      ]
     },
     "metadata": {},
     "output_type": "display_data"
    }
   ],
   "source": [
    "# Create a subset of the dataframe with the relevant columns\n",
    "subset = banks_cleared[['balance', 'products', 'est_salary', 'churn']]\n",
    "\n",
    "# Use the `corr()` function to compute the correlation matrix\n",
    "corr_matrix = subset.corr()\n",
    "\n",
    "# Use the `heatmap()` function from the Seaborn library to plot the correlation matrix as a heatmap\n",
    "sns.heatmap(corr_matrix, annot=True, cmap='coolwarm')\n",
    "\n",
    "# Use the `groupby()` function to group the dataframe by the values in the 'churn' column, and compute the mean values for each group\n",
    "grouped = subset.groupby('churn').mean()\n",
    "\n",
    "# Use the `heatmap()` function from the Seaborn library to plot the grouped dataframe as a heatmap\n",
    "sns.heatmap(grouped, annot=True, cmap='coolwarm')"
   ]
  },
  {
   "cell_type": "markdown",
   "id": "c7107708",
   "metadata": {},
   "source": [
    "Определен портрет \"среднего\" пользователя банка. Человек примерно 43 лет со средней зарплатой порядка 150 тысяч рублей, балансов в 800 тыс. рублей и кредитным рейтингом - около 850. Выявлены статистические отличия между остающимися и уходящими клиентами. Уходят клиенты с высоким рейтингом, пользующиеся скорее несколькими продуктами, обладающие скорее несколькими объектами имущества. А вот низкий баланс больше располагает к уходу, чем крупный. Мвжчины более расположены к уходу чем женщины. Более активные пользователи - с большей вероятностью уходят. Владельцы кредитной карты менее склонны к уходу. Была оценена корреляция между признаками. В подавляющем большинстве случаев корреляция между признаками либо слабая, либо даже слабо отрицательная. В двух случаях - между объектами в собственности и количеством продуктов, а также между зарплатой и балансом - умеренная. Кредитный рейтинг в группах 1 - 4 продуктами несколько выше чем в группах с 2-3 продуктами. Медианный возраст для всех групп - около 40 лет. Для совокупности с четырьмя продуктами - несколько ниже. Чем больше объектов в собственности, тем больше продуктов используется. Наиболее заметные различия между группами в оттоке и возрасте."
   ]
  },
  {
   "cell_type": "markdown",
   "id": "eacf89e2",
   "metadata": {},
   "source": [
    "## Заключение"
   ]
  },
  {
   "cell_type": "markdown",
   "id": "031c6699",
   "metadata": {},
   "source": [
    "Была проведена предварительная обработка данных. Обнаружено большое количество пропусков в столбце \"balance\". Пропуски, по видимому, относятся к категории MNAR и не подлежат обработке. В разделе \"Исследовательский анализ\" была рассмотрена как совокупность в целом, так и с разбивкой на две категории - уходящие и остающиеся. Выяснилось, что к уходу более расположены возрастные клиенты, скорее мужчины, чем женщины, скорее активные, чем нет, с более высоким имущественным статусом. Была дана рекомендация делать (расширить) линейку продуктов с большей ориентацией на более активную, разборчивую и ресурсную клиентуру. Кроме того, была проведена сегментация с разбивкой по количеству используемых продуктов. Наиболее заметные различия были выявлены по оттоку и возрасту. "
   ]
  }
 ],
 "metadata": {
  "ExecuteTimeLog": [
   {
    "duration": 112,
    "start_time": "2023-03-23T16:10:34.117Z"
   },
   {
    "duration": 70,
    "start_time": "2023-03-23T16:10:35.787Z"
   },
   {
    "duration": 3,
    "start_time": "2023-03-23T16:39:34.809Z"
   },
   {
    "duration": 3,
    "start_time": "2023-03-23T16:39:42.779Z"
   },
   {
    "duration": 3,
    "start_time": "2023-03-23T16:39:48.196Z"
   },
   {
    "duration": 3,
    "start_time": "2023-03-23T16:39:51.017Z"
   },
   {
    "duration": 3,
    "start_time": "2023-03-23T16:39:55.552Z"
   },
   {
    "duration": 4,
    "start_time": "2023-03-23T16:40:06.238Z"
   },
   {
    "duration": 5,
    "start_time": "2023-03-23T16:40:20.562Z"
   },
   {
    "duration": 3,
    "start_time": "2023-03-23T16:40:28.272Z"
   },
   {
    "duration": 3,
    "start_time": "2023-03-23T16:40:37.218Z"
   },
   {
    "duration": 7,
    "start_time": "2023-03-23T16:40:49.753Z"
   },
   {
    "duration": 45,
    "start_time": "2023-03-23T18:08:26.297Z"
   },
   {
    "duration": 55,
    "start_time": "2023-03-23T18:31:59.253Z"
   },
   {
    "duration": 1500,
    "start_time": "2023-03-23T18:32:05.274Z"
   },
   {
    "duration": 5,
    "start_time": "2023-03-23T18:32:06.777Z"
   },
   {
    "duration": 2572,
    "start_time": "2023-03-23T18:32:06.834Z"
   },
   {
    "duration": 66,
    "start_time": "2023-03-23T18:33:05.419Z"
   },
   {
    "duration": 107,
    "start_time": "2023-03-23T18:35:57.541Z"
   },
   {
    "duration": 12,
    "start_time": "2023-03-23T18:35:58.060Z"
   },
   {
    "duration": 1337,
    "start_time": "2023-03-23T18:36:17.916Z"
   },
   {
    "duration": 8,
    "start_time": "2023-03-23T18:36:19.255Z"
   },
   {
    "duration": 2061,
    "start_time": "2023-03-23T18:36:19.265Z"
   },
   {
    "duration": 130,
    "start_time": "2023-03-23T18:36:21.328Z"
   },
   {
    "duration": 0,
    "start_time": "2023-03-23T18:36:21.462Z"
   },
   {
    "duration": 0,
    "start_time": "2023-03-23T18:36:21.463Z"
   },
   {
    "duration": 0,
    "start_time": "2023-03-23T18:36:21.465Z"
   },
   {
    "duration": 0,
    "start_time": "2023-03-23T18:36:21.466Z"
   },
   {
    "duration": 0,
    "start_time": "2023-03-23T18:36:21.468Z"
   },
   {
    "duration": 0,
    "start_time": "2023-03-23T18:36:21.469Z"
   },
   {
    "duration": 0,
    "start_time": "2023-03-23T18:36:21.471Z"
   },
   {
    "duration": 0,
    "start_time": "2023-03-23T18:36:21.472Z"
   },
   {
    "duration": 0,
    "start_time": "2023-03-23T18:36:21.473Z"
   },
   {
    "duration": 0,
    "start_time": "2023-03-23T18:36:21.475Z"
   },
   {
    "duration": 0,
    "start_time": "2023-03-23T18:36:21.477Z"
   },
   {
    "duration": 0,
    "start_time": "2023-03-23T18:36:21.478Z"
   },
   {
    "duration": 0,
    "start_time": "2023-03-23T18:36:21.480Z"
   },
   {
    "duration": 0,
    "start_time": "2023-03-23T18:36:21.481Z"
   },
   {
    "duration": 0,
    "start_time": "2023-03-23T18:36:21.482Z"
   },
   {
    "duration": 0,
    "start_time": "2023-03-23T18:36:21.483Z"
   },
   {
    "duration": 0,
    "start_time": "2023-03-23T18:36:21.485Z"
   },
   {
    "duration": 0,
    "start_time": "2023-03-23T18:36:21.486Z"
   },
   {
    "duration": 0,
    "start_time": "2023-03-23T18:36:21.487Z"
   },
   {
    "duration": 0,
    "start_time": "2023-03-23T18:36:21.489Z"
   },
   {
    "duration": 0,
    "start_time": "2023-03-23T18:36:21.490Z"
   },
   {
    "duration": 0,
    "start_time": "2023-03-23T18:36:21.491Z"
   },
   {
    "duration": 0,
    "start_time": "2023-03-23T18:36:21.493Z"
   },
   {
    "duration": 0,
    "start_time": "2023-03-23T18:36:21.495Z"
   },
   {
    "duration": 0,
    "start_time": "2023-03-23T18:36:21.496Z"
   },
   {
    "duration": 0,
    "start_time": "2023-03-23T18:36:21.497Z"
   },
   {
    "duration": 0,
    "start_time": "2023-03-23T18:36:21.499Z"
   },
   {
    "duration": 0,
    "start_time": "2023-03-23T18:36:21.501Z"
   },
   {
    "duration": 0,
    "start_time": "2023-03-23T18:36:21.502Z"
   },
   {
    "duration": 0,
    "start_time": "2023-03-23T18:36:21.562Z"
   },
   {
    "duration": 0,
    "start_time": "2023-03-23T18:36:21.563Z"
   },
   {
    "duration": 0,
    "start_time": "2023-03-23T18:36:21.565Z"
   },
   {
    "duration": 0,
    "start_time": "2023-03-23T18:36:21.566Z"
   },
   {
    "duration": 0,
    "start_time": "2023-03-23T18:36:21.567Z"
   },
   {
    "duration": 0,
    "start_time": "2023-03-23T18:36:21.568Z"
   },
   {
    "duration": 0,
    "start_time": "2023-03-23T18:36:21.570Z"
   },
   {
    "duration": 0,
    "start_time": "2023-03-23T18:36:21.572Z"
   },
   {
    "duration": 11,
    "start_time": "2023-03-23T18:37:24.696Z"
   },
   {
    "duration": 15,
    "start_time": "2023-03-23T18:37:25.585Z"
   },
   {
    "duration": 8,
    "start_time": "2023-03-23T18:37:35.008Z"
   },
   {
    "duration": 4,
    "start_time": "2023-03-23T18:37:37.441Z"
   },
   {
    "duration": 2398,
    "start_time": "2023-03-23T18:37:38.053Z"
   },
   {
    "duration": 13,
    "start_time": "2023-03-23T18:37:40.454Z"
   },
   {
    "duration": 0,
    "start_time": "2023-03-23T18:37:40.469Z"
   },
   {
    "duration": 0,
    "start_time": "2023-03-23T18:37:40.471Z"
   },
   {
    "duration": 13,
    "start_time": "2023-03-23T18:37:40.636Z"
   },
   {
    "duration": 4,
    "start_time": "2023-03-23T18:37:41.023Z"
   },
   {
    "duration": 10,
    "start_time": "2023-03-23T18:37:41.390Z"
   },
   {
    "duration": 9,
    "start_time": "2023-03-23T18:37:41.585Z"
   },
   {
    "duration": 10,
    "start_time": "2023-03-23T18:37:41.991Z"
   },
   {
    "duration": 14,
    "start_time": "2023-03-23T18:37:42.394Z"
   },
   {
    "duration": 14,
    "start_time": "2023-03-23T18:37:42.544Z"
   },
   {
    "duration": 1897,
    "start_time": "2023-03-23T18:38:08.346Z"
   },
   {
    "duration": 18,
    "start_time": "2023-03-23T18:38:10.410Z"
   },
   {
    "duration": 15,
    "start_time": "2023-03-23T18:38:10.659Z"
   },
   {
    "duration": 4,
    "start_time": "2023-03-23T18:38:11.410Z"
   },
   {
    "duration": 7,
    "start_time": "2023-03-23T18:38:12.008Z"
   },
   {
    "duration": 4,
    "start_time": "2023-03-23T18:38:12.394Z"
   },
   {
    "duration": 23,
    "start_time": "2023-03-23T18:38:13.084Z"
   },
   {
    "duration": 22,
    "start_time": "2023-03-23T18:38:13.306Z"
   },
   {
    "duration": 5,
    "start_time": "2023-03-23T18:38:13.747Z"
   },
   {
    "duration": 58,
    "start_time": "2023-03-23T18:38:13.919Z"
   },
   {
    "duration": 10,
    "start_time": "2023-03-23T18:38:14.113Z"
   },
   {
    "duration": 6,
    "start_time": "2023-03-23T18:38:14.317Z"
   },
   {
    "duration": 37,
    "start_time": "2023-03-23T18:38:15.268Z"
   },
   {
    "duration": 64,
    "start_time": "2023-03-23T18:38:15.307Z"
   },
   {
    "duration": 2771,
    "start_time": "2023-03-23T18:38:15.620Z"
   },
   {
    "duration": 6,
    "start_time": "2023-03-23T18:38:18.394Z"
   },
   {
    "duration": 16,
    "start_time": "2023-03-23T18:38:18.402Z"
   },
   {
    "duration": 11,
    "start_time": "2023-03-23T18:38:18.459Z"
   },
   {
    "duration": 229,
    "start_time": "2023-03-23T18:38:18.744Z"
   },
   {
    "duration": 6,
    "start_time": "2023-03-23T18:38:19.079Z"
   },
   {
    "duration": 6,
    "start_time": "2023-03-23T18:38:19.269Z"
   },
   {
    "duration": 5,
    "start_time": "2023-03-23T18:38:19.468Z"
   },
   {
    "duration": 6,
    "start_time": "2023-03-23T18:38:19.662Z"
   },
   {
    "duration": 6,
    "start_time": "2023-03-23T18:38:20.634Z"
   },
   {
    "duration": 9,
    "start_time": "2023-03-23T18:38:20.856Z"
   },
   {
    "duration": 8,
    "start_time": "2023-03-23T18:38:21.033Z"
   },
   {
    "duration": 14,
    "start_time": "2023-03-23T18:38:21.257Z"
   },
   {
    "duration": 54,
    "start_time": "2023-03-23T18:38:22.833Z"
   },
   {
    "duration": 100,
    "start_time": "2023-03-23T18:38:22.889Z"
   },
   {
    "duration": 46447,
    "start_time": "2023-03-23T18:38:24.781Z"
   },
   {
    "duration": 1000,
    "start_time": "2023-03-23T18:39:11.230Z"
   },
   {
    "duration": 9,
    "start_time": "2023-03-23T18:39:13.733Z"
   },
   {
    "duration": 24,
    "start_time": "2023-03-23T18:39:13.745Z"
   },
   {
    "duration": 781,
    "start_time": "2023-03-23T18:39:13.771Z"
   },
   {
    "duration": 599,
    "start_time": "2023-03-23T18:39:38.943Z"
   },
   {
    "duration": 78,
    "start_time": "2023-03-24T02:14:27.540Z"
   },
   {
    "duration": 1756,
    "start_time": "2023-03-24T02:14:44.080Z"
   },
   {
    "duration": 6,
    "start_time": "2023-03-24T02:14:45.838Z"
   },
   {
    "duration": 3056,
    "start_time": "2023-03-24T02:14:45.850Z"
   },
   {
    "duration": 19,
    "start_time": "2023-03-24T02:14:48.909Z"
   },
   {
    "duration": 64,
    "start_time": "2023-03-24T02:14:48.930Z"
   },
   {
    "duration": 5,
    "start_time": "2023-03-24T02:14:48.996Z"
   },
   {
    "duration": 20,
    "start_time": "2023-03-24T02:14:49.002Z"
   },
   {
    "duration": 8,
    "start_time": "2023-03-24T02:14:49.024Z"
   },
   {
    "duration": 59,
    "start_time": "2023-03-24T02:14:49.034Z"
   },
   {
    "duration": 19,
    "start_time": "2023-03-24T02:14:49.096Z"
   },
   {
    "duration": 7,
    "start_time": "2023-03-24T02:14:49.117Z"
   },
   {
    "duration": 18,
    "start_time": "2023-03-24T02:15:13.332Z"
   },
   {
    "duration": 15,
    "start_time": "2023-03-24T02:15:13.527Z"
   },
   {
    "duration": 18,
    "start_time": "2023-03-24T02:15:13.969Z"
   },
   {
    "duration": 50,
    "start_time": "2023-03-24T02:15:14.162Z"
   },
   {
    "duration": 5,
    "start_time": "2023-03-24T02:15:14.356Z"
   },
   {
    "duration": 6,
    "start_time": "2023-03-24T02:15:14.559Z"
   },
   {
    "duration": 35,
    "start_time": "2023-03-24T02:15:14.764Z"
   },
   {
    "duration": 43,
    "start_time": "2023-03-24T02:15:14.964Z"
   },
   {
    "duration": 3513,
    "start_time": "2023-03-24T02:15:16.099Z"
   },
   {
    "duration": 7,
    "start_time": "2023-03-24T02:15:19.614Z"
   },
   {
    "duration": 23,
    "start_time": "2023-03-24T02:15:19.623Z"
   },
   {
    "duration": 46,
    "start_time": "2023-03-24T02:15:19.648Z"
   },
   {
    "duration": 292,
    "start_time": "2023-03-24T02:15:19.698Z"
   },
   {
    "duration": 14,
    "start_time": "2023-03-24T02:15:19.992Z"
   },
   {
    "duration": 22,
    "start_time": "2023-03-24T02:15:20.009Z"
   },
   {
    "duration": 35,
    "start_time": "2023-03-24T02:15:20.034Z"
   },
   {
    "duration": 19,
    "start_time": "2023-03-24T02:15:20.072Z"
   },
   {
    "duration": 6,
    "start_time": "2023-03-24T02:15:20.802Z"
   },
   {
    "duration": 11,
    "start_time": "2023-03-24T02:15:21.015Z"
   },
   {
    "duration": 6,
    "start_time": "2023-03-24T02:15:21.235Z"
   },
   {
    "duration": 29,
    "start_time": "2023-03-24T02:15:21.441Z"
   },
   {
    "duration": 51,
    "start_time": "2023-03-24T02:15:22.778Z"
   },
   {
    "duration": 126,
    "start_time": "2023-03-24T02:15:23.003Z"
   },
   {
    "duration": 65111,
    "start_time": "2023-03-24T02:15:25.313Z"
   },
   {
    "duration": 1374,
    "start_time": "2023-03-24T02:16:30.427Z"
   },
   {
    "duration": 14,
    "start_time": "2023-03-24T02:16:31.807Z"
   },
   {
    "duration": 73,
    "start_time": "2023-03-24T02:16:31.826Z"
   },
   {
    "duration": 827,
    "start_time": "2023-03-24T02:16:31.904Z"
   },
   {
    "duration": 2,
    "start_time": "2023-03-24T02:16:32.733Z"
   },
   {
    "duration": 20,
    "start_time": "2023-03-24T02:16:32.902Z"
   },
   {
    "duration": 79,
    "start_time": "2023-03-24T12:53:54.376Z"
   },
   {
    "duration": 10,
    "start_time": "2023-03-24T12:54:01.658Z"
   },
   {
    "duration": 4,
    "start_time": "2023-03-24T12:54:39.814Z"
   },
   {
    "duration": 4,
    "start_time": "2023-03-24T12:54:40.056Z"
   },
   {
    "duration": 1718,
    "start_time": "2023-03-24T12:54:40.269Z"
   },
   {
    "duration": 12,
    "start_time": "2023-03-24T12:54:41.989Z"
   },
   {
    "duration": 21,
    "start_time": "2023-03-24T12:54:42.003Z"
   },
   {
    "duration": 11,
    "start_time": "2023-03-24T12:54:42.027Z"
   },
   {
    "duration": 6,
    "start_time": "2023-03-24T12:54:42.496Z"
   },
   {
    "duration": 4,
    "start_time": "2023-03-24T12:54:54.909Z"
   },
   {
    "duration": 15,
    "start_time": "2023-03-24T12:54:57.154Z"
   },
   {
    "duration": 15,
    "start_time": "2023-03-24T12:54:57.590Z"
   },
   {
    "duration": 4,
    "start_time": "2023-03-24T12:54:58.251Z"
   },
   {
    "duration": 34,
    "start_time": "2023-03-24T12:54:58.451Z"
   },
   {
    "duration": 5,
    "start_time": "2023-03-24T12:54:58.647Z"
   },
   {
    "duration": 5,
    "start_time": "2023-03-24T12:54:58.840Z"
   },
   {
    "duration": 33,
    "start_time": "2023-03-24T12:54:59.044Z"
   },
   {
    "duration": 31,
    "start_time": "2023-03-24T12:54:59.249Z"
   },
   {
    "duration": 2719,
    "start_time": "2023-03-24T12:54:59.664Z"
   },
   {
    "duration": 6,
    "start_time": "2023-03-24T12:55:02.386Z"
   },
   {
    "duration": 82,
    "start_time": "2023-03-24T12:55:02.393Z"
   },
   {
    "duration": 10,
    "start_time": "2023-03-24T12:55:02.544Z"
   },
   {
    "duration": 199,
    "start_time": "2023-03-24T12:55:03.160Z"
   },
   {
    "duration": 5,
    "start_time": "2023-03-24T12:55:03.589Z"
   },
   {
    "duration": 4,
    "start_time": "2023-03-24T12:55:03.844Z"
   },
   {
    "duration": 5,
    "start_time": "2023-03-24T12:55:04.061Z"
   },
   {
    "duration": 4,
    "start_time": "2023-03-24T12:55:04.278Z"
   },
   {
    "duration": 5,
    "start_time": "2023-03-24T12:55:06.882Z"
   },
   {
    "duration": 9,
    "start_time": "2023-03-24T12:55:07.376Z"
   },
   {
    "duration": 7,
    "start_time": "2023-03-24T12:55:07.810Z"
   },
   {
    "duration": 13,
    "start_time": "2023-03-24T12:55:08.113Z"
   },
   {
    "duration": 50,
    "start_time": "2023-03-24T12:55:09.352Z"
   },
   {
    "duration": 88,
    "start_time": "2023-03-24T12:55:09.558Z"
   },
   {
    "duration": 48171,
    "start_time": "2023-03-24T12:55:11.744Z"
   },
   {
    "duration": 974,
    "start_time": "2023-03-24T12:55:59.917Z"
   },
   {
    "duration": 8,
    "start_time": "2023-03-24T12:56:00.893Z"
   },
   {
    "duration": 43,
    "start_time": "2023-03-24T12:56:00.904Z"
   },
   {
    "duration": 644,
    "start_time": "2023-03-24T12:56:00.949Z"
   },
   {
    "duration": 6,
    "start_time": "2023-03-24T12:56:01.595Z"
   },
   {
    "duration": 276,
    "start_time": "2023-03-24T12:56:01.602Z"
   },
   {
    "duration": 853,
    "start_time": "2023-03-24T12:56:01.880Z"
   },
   {
    "duration": 1463,
    "start_time": "2023-03-24T12:56:02.735Z"
   },
   {
    "duration": 13,
    "start_time": "2023-03-24T12:56:04.201Z"
   },
   {
    "duration": 449,
    "start_time": "2023-03-24T13:03:32.382Z"
   },
   {
    "duration": 17,
    "start_time": "2023-03-24T14:13:36.058Z"
   },
   {
    "duration": 11,
    "start_time": "2023-03-24T14:14:33.955Z"
   },
   {
    "duration": 9,
    "start_time": "2023-03-24T14:14:45.678Z"
   },
   {
    "duration": 9,
    "start_time": "2023-03-24T14:14:54.997Z"
   },
   {
    "duration": 8,
    "start_time": "2023-03-24T14:15:30.503Z"
   },
   {
    "duration": 9,
    "start_time": "2023-03-24T14:16:06.796Z"
   },
   {
    "duration": 8,
    "start_time": "2023-03-24T14:21:48.822Z"
   },
   {
    "duration": 8,
    "start_time": "2023-03-24T14:22:57.853Z"
   },
   {
    "duration": 7,
    "start_time": "2023-03-24T14:26:33.811Z"
   },
   {
    "duration": 8,
    "start_time": "2023-03-24T14:26:46.925Z"
   },
   {
    "duration": 8,
    "start_time": "2023-03-24T14:28:33.376Z"
   },
   {
    "duration": 8,
    "start_time": "2023-03-24T14:29:07.944Z"
   },
   {
    "duration": 5,
    "start_time": "2023-03-24T14:29:22.042Z"
   },
   {
    "duration": 6,
    "start_time": "2023-03-24T14:31:41.654Z"
   },
   {
    "duration": 8,
    "start_time": "2023-03-24T14:32:47.240Z"
   },
   {
    "duration": 9,
    "start_time": "2023-03-24T14:39:07.939Z"
   },
   {
    "duration": 13,
    "start_time": "2023-03-24T15:40:02.440Z"
   },
   {
    "duration": 11,
    "start_time": "2023-03-24T15:40:03.896Z"
   },
   {
    "duration": 10,
    "start_time": "2023-03-24T15:40:06.971Z"
   },
   {
    "duration": 903,
    "start_time": "2023-03-24T15:40:07.469Z"
   },
   {
    "duration": 154,
    "start_time": "2023-03-24T18:14:28.694Z"
   },
   {
    "duration": 82,
    "start_time": "2023-03-24T18:14:39.860Z"
   },
   {
    "duration": 72,
    "start_time": "2023-03-24T18:14:48.696Z"
   },
   {
    "duration": 49,
    "start_time": "2023-03-24T18:14:56.124Z"
   },
   {
    "duration": 10,
    "start_time": "2023-03-24T18:15:04.923Z"
   },
   {
    "duration": 1424,
    "start_time": "2023-03-24T18:15:13.957Z"
   },
   {
    "duration": 4,
    "start_time": "2023-03-24T18:15:15.384Z"
   },
   {
    "duration": 2533,
    "start_time": "2023-03-24T18:15:15.390Z"
   },
   {
    "duration": 17,
    "start_time": "2023-03-24T18:15:17.925Z"
   },
   {
    "duration": 17,
    "start_time": "2023-03-24T18:15:17.944Z"
   },
   {
    "duration": 4,
    "start_time": "2023-03-24T18:15:17.962Z"
   },
   {
    "duration": 9,
    "start_time": "2023-03-24T18:15:17.968Z"
   },
   {
    "duration": 15,
    "start_time": "2023-03-24T18:15:17.979Z"
   },
   {
    "duration": 27,
    "start_time": "2023-03-24T18:15:17.996Z"
   },
   {
    "duration": 18,
    "start_time": "2023-03-24T18:15:18.041Z"
   },
   {
    "duration": 8,
    "start_time": "2023-03-24T18:15:18.061Z"
   },
   {
    "duration": 35,
    "start_time": "2023-03-24T18:15:18.071Z"
   },
   {
    "duration": 36,
    "start_time": "2023-03-24T18:15:18.108Z"
   },
   {
    "duration": 10,
    "start_time": "2023-03-24T18:15:18.146Z"
   },
   {
    "duration": 47,
    "start_time": "2023-03-24T18:15:18.158Z"
   },
   {
    "duration": 54,
    "start_time": "2023-03-24T18:15:18.207Z"
   },
   {
    "duration": 2885,
    "start_time": "2023-03-24T18:15:18.263Z"
   },
   {
    "duration": 6,
    "start_time": "2023-03-24T18:15:21.150Z"
   },
   {
    "duration": 15,
    "start_time": "2023-03-24T18:15:21.158Z"
   },
   {
    "duration": 12,
    "start_time": "2023-03-24T18:15:21.175Z"
   },
   {
    "duration": 270,
    "start_time": "2023-03-24T18:15:21.188Z"
   },
   {
    "duration": 7,
    "start_time": "2023-03-24T18:15:21.460Z"
   },
   {
    "duration": 21,
    "start_time": "2023-03-24T18:15:21.469Z"
   },
   {
    "duration": 15,
    "start_time": "2023-03-24T18:15:21.492Z"
   },
   {
    "duration": 20,
    "start_time": "2023-03-24T18:15:21.509Z"
   },
   {
    "duration": 17,
    "start_time": "2023-03-24T18:15:21.532Z"
   },
   {
    "duration": 17,
    "start_time": "2023-03-24T18:15:21.551Z"
   },
   {
    "duration": 8,
    "start_time": "2023-03-24T18:15:21.573Z"
   },
   {
    "duration": 27,
    "start_time": "2023-03-24T18:15:21.583Z"
   },
   {
    "duration": 59,
    "start_time": "2023-03-24T18:15:21.612Z"
   },
   {
    "duration": 96,
    "start_time": "2023-03-24T18:15:21.672Z"
   },
   {
    "duration": 48665,
    "start_time": "2023-03-24T18:15:21.770Z"
   },
   {
    "duration": 1041,
    "start_time": "2023-03-24T18:16:10.437Z"
   },
   {
    "duration": 127,
    "start_time": "2023-03-24T18:16:11.480Z"
   },
   {
    "duration": 0,
    "start_time": "2023-03-24T18:16:11.609Z"
   },
   {
    "duration": 0,
    "start_time": "2023-03-24T18:16:11.610Z"
   },
   {
    "duration": 0,
    "start_time": "2023-03-24T18:16:11.612Z"
   },
   {
    "duration": 0,
    "start_time": "2023-03-24T18:16:11.620Z"
   },
   {
    "duration": 0,
    "start_time": "2023-03-24T18:16:11.644Z"
   },
   {
    "duration": 0,
    "start_time": "2023-03-24T18:16:11.645Z"
   },
   {
    "duration": 0,
    "start_time": "2023-03-24T18:16:11.646Z"
   },
   {
    "duration": 0,
    "start_time": "2023-03-24T18:16:11.647Z"
   },
   {
    "duration": 1,
    "start_time": "2023-03-24T18:16:11.651Z"
   },
   {
    "duration": 0,
    "start_time": "2023-03-24T18:16:11.653Z"
   },
   {
    "duration": 0,
    "start_time": "2023-03-24T18:16:11.654Z"
   },
   {
    "duration": 0,
    "start_time": "2023-03-24T18:16:11.655Z"
   },
   {
    "duration": 0,
    "start_time": "2023-03-24T18:16:11.656Z"
   },
   {
    "duration": 0,
    "start_time": "2023-03-24T18:16:11.657Z"
   },
   {
    "duration": 0,
    "start_time": "2023-03-24T18:16:11.658Z"
   },
   {
    "duration": 0,
    "start_time": "2023-03-24T18:16:11.659Z"
   },
   {
    "duration": 0,
    "start_time": "2023-03-24T18:16:11.660Z"
   },
   {
    "duration": 0,
    "start_time": "2023-03-24T18:16:11.661Z"
   },
   {
    "duration": 16,
    "start_time": "2023-03-24T18:16:11.665Z"
   },
   {
    "duration": 14,
    "start_time": "2023-03-24T18:16:11.818Z"
   },
   {
    "duration": 6,
    "start_time": "2023-03-24T18:16:12.736Z"
   },
   {
    "duration": 6,
    "start_time": "2023-03-24T18:16:13.376Z"
   },
   {
    "duration": 5,
    "start_time": "2023-03-24T18:16:13.776Z"
   },
   {
    "duration": 15,
    "start_time": "2023-03-24T18:16:14.191Z"
   },
   {
    "duration": 14,
    "start_time": "2023-03-24T18:16:14.409Z"
   },
   {
    "duration": 4,
    "start_time": "2023-03-24T18:16:14.602Z"
   },
   {
    "duration": 37,
    "start_time": "2023-03-24T18:16:14.792Z"
   },
   {
    "duration": 6,
    "start_time": "2023-03-24T18:16:14.992Z"
   },
   {
    "duration": 6,
    "start_time": "2023-03-24T18:16:15.200Z"
   },
   {
    "duration": 34,
    "start_time": "2023-03-24T18:16:15.398Z"
   },
   {
    "duration": 34,
    "start_time": "2023-03-24T18:16:15.603Z"
   },
   {
    "duration": 2949,
    "start_time": "2023-03-24T18:16:16.022Z"
   },
   {
    "duration": 6,
    "start_time": "2023-03-24T18:16:18.975Z"
   },
   {
    "duration": 16,
    "start_time": "2023-03-24T18:16:18.983Z"
   },
   {
    "duration": 9,
    "start_time": "2023-03-24T18:16:19.002Z"
   },
   {
    "duration": 256,
    "start_time": "2023-03-24T18:16:19.330Z"
   },
   {
    "duration": 6,
    "start_time": "2023-03-24T18:16:19.736Z"
   },
   {
    "duration": 5,
    "start_time": "2023-03-24T18:16:19.941Z"
   },
   {
    "duration": 5,
    "start_time": "2023-03-24T18:16:20.169Z"
   },
   {
    "duration": 4,
    "start_time": "2023-03-24T18:16:20.388Z"
   },
   {
    "duration": 5,
    "start_time": "2023-03-24T18:16:21.327Z"
   },
   {
    "duration": 12,
    "start_time": "2023-03-24T18:16:21.539Z"
   },
   {
    "duration": 6,
    "start_time": "2023-03-24T18:16:22.135Z"
   },
   {
    "duration": 12,
    "start_time": "2023-03-24T18:16:22.375Z"
   },
   {
    "duration": 45,
    "start_time": "2023-03-24T18:16:24.688Z"
   },
   {
    "duration": 89,
    "start_time": "2023-03-24T18:16:24.894Z"
   },
   {
    "duration": 55768,
    "start_time": "2023-03-24T18:16:26.109Z"
   },
   {
    "duration": 7,
    "start_time": "2023-03-24T18:17:55.722Z"
   },
   {
    "duration": 47,
    "start_time": "2023-03-24T18:17:56.281Z"
   },
   {
    "duration": 54,
    "start_time": "2023-03-24T18:17:56.813Z"
   },
   {
    "duration": 3083,
    "start_time": "2023-03-24T18:17:57.797Z"
   },
   {
    "duration": 13,
    "start_time": "2023-03-24T18:18:01.147Z"
   },
   {
    "duration": 18,
    "start_time": "2023-03-24T18:18:03.850Z"
   },
   {
    "duration": 19,
    "start_time": "2023-03-24T18:18:04.047Z"
   },
   {
    "duration": 308,
    "start_time": "2023-03-24T18:18:04.627Z"
   },
   {
    "duration": 19,
    "start_time": "2023-03-24T18:18:05.037Z"
   },
   {
    "duration": 4,
    "start_time": "2023-03-24T18:18:05.252Z"
   },
   {
    "duration": 13,
    "start_time": "2023-03-24T18:18:05.439Z"
   },
   {
    "duration": 9,
    "start_time": "2023-03-24T18:18:05.640Z"
   },
   {
    "duration": 8,
    "start_time": "2023-03-24T18:18:06.438Z"
   },
   {
    "duration": 10,
    "start_time": "2023-03-24T18:18:06.636Z"
   },
   {
    "duration": 9,
    "start_time": "2023-03-24T18:18:06.844Z"
   },
   {
    "duration": 19,
    "start_time": "2023-03-24T18:18:07.060Z"
   },
   {
    "duration": 64,
    "start_time": "2023-03-24T18:18:08.320Z"
   },
   {
    "duration": 124,
    "start_time": "2023-03-24T18:18:08.523Z"
   },
   {
    "duration": 54879,
    "start_time": "2023-03-24T18:18:10.670Z"
   },
   {
    "duration": 1070,
    "start_time": "2023-03-24T18:19:05.556Z"
   },
   {
    "duration": 31,
    "start_time": "2023-03-24T18:19:06.629Z"
   },
   {
    "duration": 0,
    "start_time": "2023-03-24T18:19:06.663Z"
   },
   {
    "duration": 0,
    "start_time": "2023-03-24T18:19:06.664Z"
   },
   {
    "duration": 0,
    "start_time": "2023-03-24T18:19:06.668Z"
   },
   {
    "duration": 0,
    "start_time": "2023-03-24T18:19:06.681Z"
   },
   {
    "duration": 0,
    "start_time": "2023-03-24T18:19:06.684Z"
   },
   {
    "duration": 0,
    "start_time": "2023-03-24T18:19:06.685Z"
   },
   {
    "duration": 0,
    "start_time": "2023-03-24T18:19:06.686Z"
   },
   {
    "duration": 1357,
    "start_time": "2023-03-24T18:19:14.319Z"
   },
   {
    "duration": 5,
    "start_time": "2023-03-24T18:19:15.679Z"
   },
   {
    "duration": 1736,
    "start_time": "2023-03-24T18:19:15.686Z"
   },
   {
    "duration": 31,
    "start_time": "2023-03-24T18:19:17.425Z"
   },
   {
    "duration": 32,
    "start_time": "2023-03-24T18:19:17.459Z"
   },
   {
    "duration": 5,
    "start_time": "2023-03-24T18:19:17.494Z"
   },
   {
    "duration": 51,
    "start_time": "2023-03-24T18:19:17.502Z"
   },
   {
    "duration": 34,
    "start_time": "2023-03-24T18:19:17.556Z"
   },
   {
    "duration": 24,
    "start_time": "2023-03-24T18:19:17.592Z"
   },
   {
    "duration": 14,
    "start_time": "2023-03-24T18:19:17.619Z"
   },
   {
    "duration": 13,
    "start_time": "2023-03-24T18:19:17.635Z"
   },
   {
    "duration": 85,
    "start_time": "2023-03-24T18:19:17.650Z"
   },
   {
    "duration": 11,
    "start_time": "2023-03-24T18:19:17.738Z"
   },
   {
    "duration": 22,
    "start_time": "2023-03-24T18:19:17.753Z"
   },
   {
    "duration": 40,
    "start_time": "2023-03-24T18:19:17.777Z"
   },
   {
    "duration": 41,
    "start_time": "2023-03-24T18:19:17.819Z"
   },
   {
    "duration": 2912,
    "start_time": "2023-03-24T18:19:17.862Z"
   },
   {
    "duration": 6,
    "start_time": "2023-03-24T18:19:20.776Z"
   },
   {
    "duration": 14,
    "start_time": "2023-03-24T18:19:20.784Z"
   },
   {
    "duration": 10,
    "start_time": "2023-03-24T18:19:20.800Z"
   },
   {
    "duration": 217,
    "start_time": "2023-03-24T18:19:20.848Z"
   },
   {
    "duration": 8,
    "start_time": "2023-03-24T18:19:21.068Z"
   },
   {
    "duration": 20,
    "start_time": "2023-03-24T18:19:21.081Z"
   },
   {
    "duration": 28,
    "start_time": "2023-03-24T18:19:21.104Z"
   },
   {
    "duration": 33,
    "start_time": "2023-03-24T18:19:21.135Z"
   },
   {
    "duration": 32,
    "start_time": "2023-03-24T18:19:21.170Z"
   },
   {
    "duration": 27,
    "start_time": "2023-03-24T18:19:21.204Z"
   },
   {
    "duration": 39,
    "start_time": "2023-03-24T18:19:21.235Z"
   },
   {
    "duration": 22,
    "start_time": "2023-03-24T18:19:21.275Z"
   },
   {
    "duration": 66,
    "start_time": "2023-03-24T18:19:21.299Z"
   },
   {
    "duration": 93,
    "start_time": "2023-03-24T18:19:21.367Z"
   },
   {
    "duration": 50541,
    "start_time": "2023-03-24T18:19:21.462Z"
   },
   {
    "duration": 1026,
    "start_time": "2023-03-24T18:20:12.005Z"
   },
   {
    "duration": 126,
    "start_time": "2023-03-24T18:20:13.033Z"
   },
   {
    "duration": 0,
    "start_time": "2023-03-24T18:20:13.161Z"
   },
   {
    "duration": 0,
    "start_time": "2023-03-24T18:20:13.162Z"
   },
   {
    "duration": 0,
    "start_time": "2023-03-24T18:20:13.163Z"
   },
   {
    "duration": 0,
    "start_time": "2023-03-24T18:20:13.177Z"
   },
   {
    "duration": 0,
    "start_time": "2023-03-24T18:20:13.178Z"
   },
   {
    "duration": 0,
    "start_time": "2023-03-24T18:20:13.180Z"
   },
   {
    "duration": 0,
    "start_time": "2023-03-24T18:20:13.182Z"
   },
   {
    "duration": 0,
    "start_time": "2023-03-24T18:20:13.183Z"
   },
   {
    "duration": 0,
    "start_time": "2023-03-24T18:20:13.185Z"
   },
   {
    "duration": 0,
    "start_time": "2023-03-24T18:20:13.187Z"
   },
   {
    "duration": 0,
    "start_time": "2023-03-24T18:20:13.188Z"
   },
   {
    "duration": 0,
    "start_time": "2023-03-24T18:20:13.189Z"
   },
   {
    "duration": 0,
    "start_time": "2023-03-24T18:20:13.191Z"
   },
   {
    "duration": 0,
    "start_time": "2023-03-24T18:20:13.243Z"
   },
   {
    "duration": 0,
    "start_time": "2023-03-24T18:20:13.244Z"
   },
   {
    "duration": 10,
    "start_time": "2023-03-24T18:21:09.693Z"
   },
   {
    "duration": 11,
    "start_time": "2023-03-24T18:21:11.111Z"
   },
   {
    "duration": 928,
    "start_time": "2023-03-24T18:21:12.189Z"
   },
   {
    "duration": 10,
    "start_time": "2023-03-24T18:21:18.759Z"
   },
   {
    "duration": 7,
    "start_time": "2023-03-24T18:21:20.150Z"
   },
   {
    "duration": 5,
    "start_time": "2023-03-24T18:21:21.851Z"
   },
   {
    "duration": 12,
    "start_time": "2023-03-24T18:21:25.942Z"
   },
   {
    "duration": 10,
    "start_time": "2023-03-24T18:21:51.679Z"
   },
   {
    "duration": 31,
    "start_time": "2023-03-24T18:27:45.072Z"
   },
   {
    "duration": 8,
    "start_time": "2023-03-24T18:27:59.567Z"
   },
   {
    "duration": 7,
    "start_time": "2023-03-24T18:28:03.393Z"
   },
   {
    "duration": 9,
    "start_time": "2023-03-24T18:28:45.804Z"
   },
   {
    "duration": 8,
    "start_time": "2023-03-24T18:28:46.876Z"
   },
   {
    "duration": 6,
    "start_time": "2023-03-24T18:29:06.669Z"
   },
   {
    "duration": 18,
    "start_time": "2023-03-24T18:30:49.938Z"
   },
   {
    "duration": 8,
    "start_time": "2023-03-24T18:30:57.958Z"
   },
   {
    "duration": 10,
    "start_time": "2023-03-24T18:30:58.448Z"
   },
   {
    "duration": 7,
    "start_time": "2023-03-24T18:30:59.580Z"
   },
   {
    "duration": 12,
    "start_time": "2023-03-24T18:31:28.715Z"
   },
   {
    "duration": 6,
    "start_time": "2023-03-24T18:31:29.210Z"
   },
   {
    "duration": 10,
    "start_time": "2023-03-24T18:31:30.714Z"
   },
   {
    "duration": 13,
    "start_time": "2023-03-24T18:31:31.534Z"
   },
   {
    "duration": 6,
    "start_time": "2023-03-24T18:31:31.982Z"
   },
   {
    "duration": 6,
    "start_time": "2023-03-24T18:31:32.506Z"
   },
   {
    "duration": 5,
    "start_time": "2023-03-24T18:31:34.254Z"
   },
   {
    "duration": 5,
    "start_time": "2023-03-24T18:31:35.658Z"
   },
   {
    "duration": 8,
    "start_time": "2023-03-24T18:32:36.475Z"
   },
   {
    "duration": 7,
    "start_time": "2023-03-24T18:32:37.056Z"
   },
   {
    "duration": 5,
    "start_time": "2023-03-24T18:32:37.563Z"
   },
   {
    "duration": 8,
    "start_time": "2023-03-24T18:32:44.040Z"
   },
   {
    "duration": 6,
    "start_time": "2023-03-24T18:32:44.889Z"
   },
   {
    "duration": 11,
    "start_time": "2023-03-24T18:32:45.736Z"
   },
   {
    "duration": 5,
    "start_time": "2023-03-24T18:32:47.299Z"
   },
   {
    "duration": 6,
    "start_time": "2023-03-24T18:33:38.699Z"
   },
   {
    "duration": 10,
    "start_time": "2023-03-24T18:36:35.990Z"
   },
   {
    "duration": 8,
    "start_time": "2023-03-24T18:36:36.478Z"
   },
   {
    "duration": 7,
    "start_time": "2023-03-24T18:37:45.437Z"
   },
   {
    "duration": 6,
    "start_time": "2023-03-24T18:37:46.201Z"
   },
   {
    "duration": 9,
    "start_time": "2023-03-24T18:37:46.666Z"
   },
   {
    "duration": 64,
    "start_time": "2023-03-24T18:38:11.055Z"
   },
   {
    "duration": 7,
    "start_time": "2023-03-24T18:38:11.554Z"
   },
   {
    "duration": 7,
    "start_time": "2023-03-24T18:38:16.159Z"
   },
   {
    "duration": 7,
    "start_time": "2023-03-24T18:38:16.722Z"
   },
   {
    "duration": 11,
    "start_time": "2023-03-24T18:38:18.374Z"
   },
   {
    "duration": 6,
    "start_time": "2023-03-24T18:39:32.975Z"
   },
   {
    "duration": 11,
    "start_time": "2023-03-24T18:40:10.111Z"
   },
   {
    "duration": 9,
    "start_time": "2023-03-24T18:42:12.609Z"
   },
   {
    "duration": 5,
    "start_time": "2023-03-24T18:45:02.406Z"
   },
   {
    "duration": 7,
    "start_time": "2023-03-24T18:45:41.154Z"
   },
   {
    "duration": 8,
    "start_time": "2023-03-24T18:45:41.691Z"
   },
   {
    "duration": 6,
    "start_time": "2023-03-24T18:45:42.656Z"
   },
   {
    "duration": 6,
    "start_time": "2023-03-24T18:45:47.580Z"
   },
   {
    "duration": 6,
    "start_time": "2023-03-24T18:45:48.161Z"
   },
   {
    "duration": 6,
    "start_time": "2023-03-24T18:45:49.058Z"
   },
   {
    "duration": 5,
    "start_time": "2023-03-24T18:45:49.556Z"
   },
   {
    "duration": 5346,
    "start_time": "2023-03-24T18:53:00.091Z"
   },
   {
    "duration": 6034,
    "start_time": "2023-03-24T18:54:17.624Z"
   },
   {
    "duration": 37,
    "start_time": "2023-03-24T18:54:59.841Z"
   },
   {
    "duration": 11,
    "start_time": "2023-03-24T18:55:14.018Z"
   },
   {
    "duration": 14,
    "start_time": "2023-03-24T19:00:04.400Z"
   },
   {
    "duration": 16,
    "start_time": "2023-03-24T19:00:09.551Z"
   },
   {
    "duration": 279,
    "start_time": "2023-03-24T19:01:29.256Z"
   },
   {
    "duration": 15,
    "start_time": "2023-03-24T19:07:34.228Z"
   },
   {
    "duration": 14,
    "start_time": "2023-03-24T19:07:47.877Z"
   },
   {
    "duration": 15,
    "start_time": "2023-03-24T19:07:59.697Z"
   },
   {
    "duration": 40,
    "start_time": "2023-03-24T19:14:13.726Z"
   },
   {
    "duration": 10,
    "start_time": "2023-03-24T19:14:32.478Z"
   },
   {
    "duration": 9,
    "start_time": "2023-03-24T19:15:10.082Z"
   },
   {
    "duration": 21,
    "start_time": "2023-03-24T19:22:09.356Z"
   },
   {
    "duration": 9,
    "start_time": "2023-03-24T19:22:23.191Z"
   },
   {
    "duration": 10,
    "start_time": "2023-03-24T19:36:23.940Z"
   },
   {
    "duration": 8,
    "start_time": "2023-03-24T19:36:42.581Z"
   },
   {
    "duration": 24,
    "start_time": "2023-03-24T19:37:22.013Z"
   },
   {
    "duration": 10,
    "start_time": "2023-03-24T19:37:42.376Z"
   },
   {
    "duration": 326,
    "start_time": "2023-03-24T19:38:06.072Z"
   },
   {
    "duration": 22,
    "start_time": "2023-03-24T19:41:25.960Z"
   },
   {
    "duration": 21,
    "start_time": "2023-03-24T19:41:55.678Z"
   },
   {
    "duration": 11,
    "start_time": "2023-03-24T19:42:18.057Z"
   },
   {
    "duration": 12,
    "start_time": "2023-03-24T19:44:06.170Z"
   },
   {
    "duration": 8,
    "start_time": "2023-03-24T19:44:41.871Z"
   },
   {
    "duration": 8,
    "start_time": "2023-03-24T19:45:33.019Z"
   },
   {
    "duration": 19,
    "start_time": "2023-03-24T19:46:13.939Z"
   },
   {
    "duration": 11,
    "start_time": "2023-03-24T19:47:31.237Z"
   },
   {
    "duration": 21,
    "start_time": "2023-03-24T19:50:31.519Z"
   },
   {
    "duration": 352,
    "start_time": "2023-03-24T19:50:59.473Z"
   },
   {
    "duration": 8,
    "start_time": "2023-03-24T19:52:27.686Z"
   },
   {
    "duration": 12,
    "start_time": "2023-03-24T19:53:17.670Z"
   },
   {
    "duration": 16,
    "start_time": "2023-03-24T19:53:54.754Z"
   },
   {
    "duration": 13,
    "start_time": "2023-03-24T19:53:55.819Z"
   },
   {
    "duration": 9,
    "start_time": "2023-03-24T19:58:12.256Z"
   },
   {
    "duration": 8,
    "start_time": "2023-03-24T19:58:13.657Z"
   },
   {
    "duration": 8,
    "start_time": "2023-03-24T19:58:14.965Z"
   },
   {
    "duration": 11,
    "start_time": "2023-03-24T19:58:24.960Z"
   },
   {
    "duration": 8,
    "start_time": "2023-03-24T19:58:31.769Z"
   },
   {
    "duration": 9,
    "start_time": "2023-03-24T20:00:41.726Z"
   },
   {
    "duration": 9,
    "start_time": "2023-03-24T20:00:44.474Z"
   },
   {
    "duration": 12,
    "start_time": "2023-03-24T20:01:19.541Z"
   },
   {
    "duration": 388,
    "start_time": "2023-03-24T20:02:29.915Z"
   },
   {
    "duration": 34,
    "start_time": "2023-03-24T20:04:32.409Z"
   },
   {
    "duration": 351,
    "start_time": "2023-03-24T20:06:05.157Z"
   },
   {
    "duration": 9,
    "start_time": "2023-03-24T20:07:08.411Z"
   },
   {
    "duration": 10,
    "start_time": "2023-03-24T20:08:30.087Z"
   },
   {
    "duration": 8,
    "start_time": "2023-03-24T20:10:38.976Z"
   },
   {
    "duration": 7,
    "start_time": "2023-03-24T20:10:40.306Z"
   },
   {
    "duration": 335,
    "start_time": "2023-03-24T20:14:05.241Z"
   },
   {
    "duration": 13,
    "start_time": "2023-03-24T20:16:11.173Z"
   },
   {
    "duration": 19,
    "start_time": "2023-03-24T20:16:15.985Z"
   },
   {
    "duration": 17,
    "start_time": "2023-03-24T20:18:23.017Z"
   },
   {
    "duration": 12,
    "start_time": "2023-03-24T20:19:33.756Z"
   },
   {
    "duration": 8,
    "start_time": "2023-03-24T20:21:17.512Z"
   },
   {
    "duration": 10,
    "start_time": "2023-03-24T20:21:44.509Z"
   },
   {
    "duration": 12,
    "start_time": "2023-03-24T20:23:03.064Z"
   },
   {
    "duration": 8,
    "start_time": "2023-03-24T20:24:54.222Z"
   },
   {
    "duration": 10,
    "start_time": "2023-03-24T20:25:10.368Z"
   },
   {
    "duration": 11,
    "start_time": "2023-03-24T20:25:21.400Z"
   },
   {
    "duration": 10,
    "start_time": "2023-03-24T20:25:32.570Z"
   },
   {
    "duration": 8,
    "start_time": "2023-03-24T20:25:38.180Z"
   },
   {
    "duration": 13,
    "start_time": "2023-03-24T20:25:45.568Z"
   },
   {
    "duration": 7,
    "start_time": "2023-03-24T20:26:33.305Z"
   },
   {
    "duration": 8,
    "start_time": "2023-03-24T20:27:08.592Z"
   },
   {
    "duration": 8,
    "start_time": "2023-03-24T20:28:09.316Z"
   },
   {
    "duration": 9,
    "start_time": "2023-03-24T20:28:26.891Z"
   },
   {
    "duration": 12,
    "start_time": "2023-03-24T20:28:28.759Z"
   },
   {
    "duration": 13,
    "start_time": "2023-03-24T20:28:47.065Z"
   },
   {
    "duration": 12,
    "start_time": "2023-03-24T20:28:48.938Z"
   },
   {
    "duration": 10,
    "start_time": "2023-03-24T20:32:28.716Z"
   },
   {
    "duration": 8,
    "start_time": "2023-03-24T20:32:30.278Z"
   },
   {
    "duration": 5,
    "start_time": "2023-03-24T20:33:14.130Z"
   },
   {
    "duration": 13,
    "start_time": "2023-03-24T20:33:54.009Z"
   },
   {
    "duration": 284,
    "start_time": "2023-03-24T20:33:54.686Z"
   },
   {
    "duration": 9,
    "start_time": "2023-03-24T20:33:56.858Z"
   },
   {
    "duration": 9,
    "start_time": "2023-03-24T20:34:04.872Z"
   },
   {
    "duration": 4,
    "start_time": "2023-03-24T20:34:28.789Z"
   },
   {
    "duration": 9,
    "start_time": "2023-03-24T20:35:33.248Z"
   },
   {
    "duration": 9,
    "start_time": "2023-03-24T20:35:42.264Z"
   },
   {
    "duration": 7,
    "start_time": "2023-03-24T20:36:58.016Z"
   },
   {
    "duration": 10,
    "start_time": "2023-03-24T20:37:00.664Z"
   },
   {
    "duration": 11,
    "start_time": "2023-03-24T20:37:23.032Z"
   },
   {
    "duration": 11,
    "start_time": "2023-03-24T20:37:25.679Z"
   },
   {
    "duration": 17,
    "start_time": "2023-03-24T20:37:31.942Z"
   },
   {
    "duration": 8,
    "start_time": "2023-03-24T20:37:40.568Z"
   },
   {
    "duration": 9,
    "start_time": "2023-03-24T20:38:58.715Z"
   },
   {
    "duration": 17,
    "start_time": "2023-03-24T20:39:05.559Z"
   },
   {
    "duration": 8,
    "start_time": "2023-03-24T20:39:25.463Z"
   },
   {
    "duration": 9,
    "start_time": "2023-03-24T20:40:11.896Z"
   },
   {
    "duration": 12,
    "start_time": "2023-03-24T20:40:25.363Z"
   },
   {
    "duration": 15,
    "start_time": "2023-03-24T20:40:38.153Z"
   },
   {
    "duration": 9,
    "start_time": "2023-03-24T20:40:45.784Z"
   },
   {
    "duration": 9,
    "start_time": "2023-03-24T20:40:47.856Z"
   },
   {
    "duration": 10,
    "start_time": "2023-03-24T20:42:06.023Z"
   },
   {
    "duration": 9,
    "start_time": "2023-03-24T20:42:17.368Z"
   },
   {
    "duration": 9,
    "start_time": "2023-03-24T20:44:35.793Z"
   },
   {
    "duration": 11,
    "start_time": "2023-03-24T20:44:44.206Z"
   },
   {
    "duration": 81,
    "start_time": "2023-03-24T20:47:53.314Z"
   },
   {
    "duration": 14,
    "start_time": "2023-03-24T20:48:03.939Z"
   },
   {
    "duration": 10,
    "start_time": "2023-03-24T20:48:35.852Z"
   },
   {
    "duration": 8,
    "start_time": "2023-03-24T20:49:03.325Z"
   },
   {
    "duration": 9,
    "start_time": "2023-03-24T20:51:30.671Z"
   },
   {
    "duration": 8,
    "start_time": "2023-03-24T20:51:39.923Z"
   },
   {
    "duration": 8,
    "start_time": "2023-03-24T20:51:47.624Z"
   },
   {
    "duration": 11,
    "start_time": "2023-03-24T20:52:25.999Z"
   },
   {
    "duration": 9,
    "start_time": "2023-03-24T20:52:46.716Z"
   },
   {
    "duration": 11,
    "start_time": "2023-03-24T20:53:05.158Z"
   },
   {
    "duration": 8,
    "start_time": "2023-03-24T20:53:13.574Z"
   },
   {
    "duration": 12,
    "start_time": "2023-03-24T20:53:32.634Z"
   },
   {
    "duration": 8,
    "start_time": "2023-03-24T20:53:46.274Z"
   },
   {
    "duration": 9,
    "start_time": "2023-03-24T20:54:29.011Z"
   },
   {
    "duration": 8,
    "start_time": "2023-03-24T20:54:42.975Z"
   },
   {
    "duration": 8,
    "start_time": "2023-03-24T20:55:14.719Z"
   },
   {
    "duration": 12,
    "start_time": "2023-03-24T21:03:00.753Z"
   },
   {
    "duration": 367,
    "start_time": "2023-03-24T21:03:05.634Z"
   },
   {
    "duration": 9,
    "start_time": "2023-03-24T21:03:12.103Z"
   },
   {
    "duration": 8,
    "start_time": "2023-03-24T21:03:48.113Z"
   },
   {
    "duration": 4,
    "start_time": "2023-03-24T21:06:29.315Z"
   },
   {
    "duration": 9,
    "start_time": "2023-03-24T21:06:30.329Z"
   },
   {
    "duration": 19,
    "start_time": "2023-03-24T21:06:32.014Z"
   },
   {
    "duration": 3,
    "start_time": "2023-03-24T21:06:42.887Z"
   },
   {
    "duration": 9,
    "start_time": "2023-03-24T21:06:43.740Z"
   },
   {
    "duration": 4,
    "start_time": "2023-03-24T21:07:55.688Z"
   },
   {
    "duration": 10,
    "start_time": "2023-03-24T21:07:56.249Z"
   },
   {
    "duration": 26,
    "start_time": "2023-03-24T21:07:57.082Z"
   },
   {
    "duration": 7,
    "start_time": "2023-03-24T21:09:22.044Z"
   },
   {
    "duration": 9,
    "start_time": "2023-03-24T21:09:22.892Z"
   },
   {
    "duration": 29,
    "start_time": "2023-03-24T21:09:23.837Z"
   },
   {
    "duration": 404,
    "start_time": "2023-03-24T21:09:24.901Z"
   },
   {
    "duration": 8,
    "start_time": "2023-03-24T21:09:38.467Z"
   },
   {
    "duration": 7,
    "start_time": "2023-03-24T21:09:39.325Z"
   },
   {
    "duration": 21,
    "start_time": "2023-03-24T21:09:40.846Z"
   },
   {
    "duration": 340,
    "start_time": "2023-03-24T21:09:41.935Z"
   },
   {
    "duration": 10,
    "start_time": "2023-03-24T21:10:44.692Z"
   },
   {
    "duration": 28,
    "start_time": "2023-03-24T21:10:45.657Z"
   },
   {
    "duration": 402,
    "start_time": "2023-03-24T21:10:46.429Z"
   },
   {
    "duration": 24,
    "start_time": "2023-03-24T21:11:01.033Z"
   },
   {
    "duration": 26,
    "start_time": "2023-03-24T21:11:02.254Z"
   },
   {
    "duration": 353,
    "start_time": "2023-03-24T21:11:03.349Z"
   },
   {
    "duration": 7,
    "start_time": "2023-03-24T21:12:44.202Z"
   },
   {
    "duration": 32,
    "start_time": "2023-03-24T21:12:45.076Z"
   },
   {
    "duration": 363,
    "start_time": "2023-03-24T21:12:46.226Z"
   },
   {
    "duration": 387,
    "start_time": "2023-03-24T21:12:53.936Z"
   },
   {
    "duration": 13,
    "start_time": "2023-03-24T21:12:54.705Z"
   },
   {
    "duration": 13,
    "start_time": "2023-03-24T21:13:01.537Z"
   },
   {
    "duration": 32,
    "start_time": "2023-03-24T21:13:02.427Z"
   },
   {
    "duration": 401,
    "start_time": "2023-03-24T21:13:08.257Z"
   },
   {
    "duration": 71,
    "start_time": "2023-03-24T21:13:09.215Z"
   },
   {
    "duration": 11,
    "start_time": "2023-03-24T21:14:19.026Z"
   },
   {
    "duration": 9,
    "start_time": "2023-03-24T21:14:20.909Z"
   },
   {
    "duration": 11,
    "start_time": "2023-03-24T21:14:45.099Z"
   },
   {
    "duration": 30,
    "start_time": "2023-03-24T21:14:48.326Z"
   },
   {
    "duration": 360,
    "start_time": "2023-03-24T21:15:37.388Z"
   },
   {
    "duration": 12,
    "start_time": "2023-03-24T21:15:55.729Z"
   },
   {
    "duration": 25,
    "start_time": "2023-03-24T21:15:56.605Z"
   },
   {
    "duration": 347,
    "start_time": "2023-03-24T21:15:57.948Z"
   },
   {
    "duration": 21,
    "start_time": "2023-03-24T21:16:07.965Z"
   },
   {
    "duration": 9,
    "start_time": "2023-03-24T21:16:22.229Z"
   },
   {
    "duration": 25,
    "start_time": "2023-03-24T21:16:23.570Z"
   },
   {
    "duration": 9,
    "start_time": "2023-03-24T21:16:36.998Z"
   },
   {
    "duration": 8,
    "start_time": "2023-03-24T21:16:38.611Z"
   },
   {
    "duration": 23,
    "start_time": "2023-03-24T21:16:39.521Z"
   },
   {
    "duration": 327,
    "start_time": "2023-03-24T21:16:40.571Z"
   },
   {
    "duration": 14,
    "start_time": "2023-03-24T21:18:37.213Z"
   },
   {
    "duration": 27,
    "start_time": "2023-03-24T21:18:38.846Z"
   },
   {
    "duration": 2540,
    "start_time": "2023-03-24T21:18:39.568Z"
   },
   {
    "duration": 10,
    "start_time": "2023-03-24T21:18:56.729Z"
   },
   {
    "duration": 8,
    "start_time": "2023-03-24T21:21:45.052Z"
   },
   {
    "duration": 10,
    "start_time": "2023-03-24T21:22:52.882Z"
   },
   {
    "duration": 11,
    "start_time": "2023-03-24T21:23:07.826Z"
   },
   {
    "duration": 9,
    "start_time": "2023-03-24T21:23:46.086Z"
   },
   {
    "duration": 10,
    "start_time": "2023-03-24T21:23:59.346Z"
   },
   {
    "duration": 8,
    "start_time": "2023-03-24T21:24:00.231Z"
   },
   {
    "duration": 18,
    "start_time": "2023-03-24T21:24:54.442Z"
   },
   {
    "duration": 7,
    "start_time": "2023-03-24T21:24:54.982Z"
   },
   {
    "duration": 11,
    "start_time": "2023-03-24T21:41:24.991Z"
   },
   {
    "duration": 8,
    "start_time": "2023-03-24T21:45:08.184Z"
   },
   {
    "duration": 54,
    "start_time": "2023-03-24T21:46:11.802Z"
   },
   {
    "duration": 55,
    "start_time": "2023-03-24T21:48:07.608Z"
   },
   {
    "duration": 4,
    "start_time": "2023-03-24T21:50:59.199Z"
   },
   {
    "duration": 7,
    "start_time": "2023-03-24T21:51:28.192Z"
   },
   {
    "duration": 49,
    "start_time": "2023-03-24T21:51:39.970Z"
   },
   {
    "duration": 7,
    "start_time": "2023-03-24T21:51:49.464Z"
   },
   {
    "duration": 7,
    "start_time": "2023-03-24T21:52:22.100Z"
   },
   {
    "duration": 6,
    "start_time": "2023-03-24T21:53:14.283Z"
   },
   {
    "duration": 6,
    "start_time": "2023-03-24T21:53:32.458Z"
   },
   {
    "duration": 6,
    "start_time": "2023-03-24T21:53:48.001Z"
   },
   {
    "duration": 5,
    "start_time": "2023-03-24T21:55:13.357Z"
   },
   {
    "duration": 6,
    "start_time": "2023-03-24T21:55:32.717Z"
   },
   {
    "duration": 5,
    "start_time": "2023-03-24T21:55:42.973Z"
   },
   {
    "duration": 6,
    "start_time": "2023-03-24T21:55:52.934Z"
   },
   {
    "duration": 6,
    "start_time": "2023-03-24T21:55:53.865Z"
   },
   {
    "duration": 5,
    "start_time": "2023-03-24T21:55:54.659Z"
   },
   {
    "duration": 5,
    "start_time": "2023-03-24T21:55:55.430Z"
   },
   {
    "duration": 5,
    "start_time": "2023-03-24T21:55:56.306Z"
   },
   {
    "duration": 6,
    "start_time": "2023-03-24T21:55:57.172Z"
   },
   {
    "duration": 10,
    "start_time": "2023-03-24T21:57:47.418Z"
   },
   {
    "duration": 4,
    "start_time": "2023-03-24T21:58:10.174Z"
   },
   {
    "duration": 10,
    "start_time": "2023-03-24T21:58:11.200Z"
   },
   {
    "duration": 10,
    "start_time": "2023-03-24T21:58:20.602Z"
   },
   {
    "duration": 4,
    "start_time": "2023-03-24T21:58:25.387Z"
   },
   {
    "duration": 5,
    "start_time": "2023-03-24T21:58:26.241Z"
   },
   {
    "duration": 3,
    "start_time": "2023-03-24T21:58:27.000Z"
   },
   {
    "duration": 4,
    "start_time": "2023-03-24T21:58:38.948Z"
   },
   {
    "duration": 5,
    "start_time": "2023-03-24T21:59:16.027Z"
   },
   {
    "duration": 8,
    "start_time": "2023-03-24T21:59:16.473Z"
   },
   {
    "duration": 7,
    "start_time": "2023-03-24T21:59:16.823Z"
   },
   {
    "duration": 14,
    "start_time": "2023-03-24T21:59:17.008Z"
   },
   {
    "duration": 49,
    "start_time": "2023-03-24T21:59:18.438Z"
   },
   {
    "duration": 83,
    "start_time": "2023-03-24T21:59:18.648Z"
   },
   {
    "duration": 3,
    "start_time": "2023-03-24T22:01:32.618Z"
   },
   {
    "duration": 79,
    "start_time": "2023-03-24T22:01:33.437Z"
   },
   {
    "duration": 76,
    "start_time": "2023-03-25T19:04:35.568Z"
   },
   {
    "duration": 1298,
    "start_time": "2023-03-25T19:09:16.970Z"
   },
   {
    "duration": 4,
    "start_time": "2023-03-25T19:09:18.271Z"
   },
   {
    "duration": 2220,
    "start_time": "2023-03-25T19:09:18.276Z"
   },
   {
    "duration": 19,
    "start_time": "2023-03-25T19:09:20.498Z"
   },
   {
    "duration": 16,
    "start_time": "2023-03-25T19:09:20.519Z"
   },
   {
    "duration": 9,
    "start_time": "2023-03-25T19:09:20.537Z"
   },
   {
    "duration": 9,
    "start_time": "2023-03-25T19:09:20.551Z"
   },
   {
    "duration": 3,
    "start_time": "2023-03-25T19:09:20.561Z"
   },
   {
    "duration": 14,
    "start_time": "2023-03-25T19:09:20.565Z"
   },
   {
    "duration": 12,
    "start_time": "2023-03-25T19:09:20.582Z"
   },
   {
    "duration": 4,
    "start_time": "2023-03-25T19:09:20.596Z"
   },
   {
    "duration": 56,
    "start_time": "2023-03-25T19:09:20.602Z"
   },
   {
    "duration": 8,
    "start_time": "2023-03-25T19:09:20.659Z"
   },
   {
    "duration": 4,
    "start_time": "2023-03-25T19:09:20.669Z"
   },
   {
    "duration": 27,
    "start_time": "2023-03-25T19:09:20.675Z"
   },
   {
    "duration": 58,
    "start_time": "2023-03-25T19:09:20.704Z"
   },
   {
    "duration": 2558,
    "start_time": "2023-03-25T19:09:20.764Z"
   },
   {
    "duration": 19,
    "start_time": "2023-03-25T19:09:23.324Z"
   },
   {
    "duration": 21,
    "start_time": "2023-03-25T19:09:23.345Z"
   },
   {
    "duration": 11,
    "start_time": "2023-03-25T19:09:23.368Z"
   },
   {
    "duration": 213,
    "start_time": "2023-03-25T19:09:23.381Z"
   },
   {
    "duration": 8,
    "start_time": "2023-03-25T19:09:23.601Z"
   },
   {
    "duration": 12,
    "start_time": "2023-03-25T19:09:23.610Z"
   },
   {
    "duration": 20,
    "start_time": "2023-03-25T19:09:23.623Z"
   },
   {
    "duration": 16,
    "start_time": "2023-03-25T19:09:23.644Z"
   },
   {
    "duration": 16,
    "start_time": "2023-03-25T19:09:23.662Z"
   },
   {
    "duration": 4,
    "start_time": "2023-03-25T19:09:23.679Z"
   },
   {
    "duration": 7,
    "start_time": "2023-03-25T19:09:23.688Z"
   },
   {
    "duration": 17,
    "start_time": "2023-03-25T19:09:23.696Z"
   },
   {
    "duration": 9,
    "start_time": "2023-03-25T19:09:23.714Z"
   },
   {
    "duration": 8,
    "start_time": "2023-03-25T19:09:23.724Z"
   },
   {
    "duration": 17,
    "start_time": "2023-03-25T19:09:23.733Z"
   },
   {
    "duration": 17,
    "start_time": "2023-03-25T19:09:23.752Z"
   },
   {
    "duration": 68,
    "start_time": "2023-03-25T19:09:23.771Z"
   },
   {
    "duration": 11,
    "start_time": "2023-03-25T19:09:23.846Z"
   },
   {
    "duration": 86,
    "start_time": "2023-03-25T19:09:23.859Z"
   },
   {
    "duration": 83,
    "start_time": "2023-03-25T19:09:23.947Z"
   },
   {
    "duration": 0,
    "start_time": "2023-03-25T19:09:24.031Z"
   },
   {
    "duration": 0,
    "start_time": "2023-03-25T19:09:24.033Z"
   },
   {
    "duration": 0,
    "start_time": "2023-03-25T19:09:24.034Z"
   },
   {
    "duration": 0,
    "start_time": "2023-03-25T19:09:24.036Z"
   },
   {
    "duration": 0,
    "start_time": "2023-03-25T19:09:24.037Z"
   },
   {
    "duration": 0,
    "start_time": "2023-03-25T19:09:24.038Z"
   },
   {
    "duration": 0,
    "start_time": "2023-03-25T19:09:24.039Z"
   },
   {
    "duration": 0,
    "start_time": "2023-03-25T19:09:24.040Z"
   },
   {
    "duration": 0,
    "start_time": "2023-03-25T19:09:24.042Z"
   },
   {
    "duration": 0,
    "start_time": "2023-03-25T19:09:24.042Z"
   },
   {
    "duration": 0,
    "start_time": "2023-03-25T19:09:24.043Z"
   },
   {
    "duration": 0,
    "start_time": "2023-03-25T19:09:24.048Z"
   },
   {
    "duration": 0,
    "start_time": "2023-03-25T19:09:24.051Z"
   },
   {
    "duration": 0,
    "start_time": "2023-03-25T19:09:24.052Z"
   },
   {
    "duration": 0,
    "start_time": "2023-03-25T19:09:24.053Z"
   },
   {
    "duration": 0,
    "start_time": "2023-03-25T19:09:24.055Z"
   },
   {
    "duration": 0,
    "start_time": "2023-03-25T19:09:24.056Z"
   },
   {
    "duration": 0,
    "start_time": "2023-03-25T19:09:24.057Z"
   },
   {
    "duration": 0,
    "start_time": "2023-03-25T19:09:24.058Z"
   },
   {
    "duration": 0,
    "start_time": "2023-03-25T19:09:24.059Z"
   },
   {
    "duration": 0,
    "start_time": "2023-03-25T19:09:24.059Z"
   },
   {
    "duration": 0,
    "start_time": "2023-03-25T19:09:24.060Z"
   },
   {
    "duration": 0,
    "start_time": "2023-03-25T19:09:24.061Z"
   },
   {
    "duration": 0,
    "start_time": "2023-03-25T19:09:24.061Z"
   },
   {
    "duration": 0,
    "start_time": "2023-03-25T19:09:24.062Z"
   },
   {
    "duration": 0,
    "start_time": "2023-03-25T19:09:24.064Z"
   },
   {
    "duration": 0,
    "start_time": "2023-03-25T19:09:24.065Z"
   },
   {
    "duration": 0,
    "start_time": "2023-03-25T19:09:24.066Z"
   },
   {
    "duration": 0,
    "start_time": "2023-03-25T19:09:24.067Z"
   },
   {
    "duration": 0,
    "start_time": "2023-03-25T19:09:24.069Z"
   },
   {
    "duration": 0,
    "start_time": "2023-03-25T19:09:24.070Z"
   },
   {
    "duration": 0,
    "start_time": "2023-03-25T19:09:24.071Z"
   },
   {
    "duration": 0,
    "start_time": "2023-03-25T19:09:24.072Z"
   },
   {
    "duration": 0,
    "start_time": "2023-03-25T19:09:24.073Z"
   },
   {
    "duration": 0,
    "start_time": "2023-03-25T19:09:24.073Z"
   },
   {
    "duration": 0,
    "start_time": "2023-03-25T19:09:24.074Z"
   },
   {
    "duration": 0,
    "start_time": "2023-03-25T19:09:24.075Z"
   },
   {
    "duration": 0,
    "start_time": "2023-03-25T19:09:24.077Z"
   },
   {
    "duration": 122,
    "start_time": "2023-03-25T19:10:10.811Z"
   },
   {
    "duration": 76,
    "start_time": "2023-03-25T19:10:24.017Z"
   },
   {
    "duration": 164,
    "start_time": "2023-03-25T19:10:53.471Z"
   },
   {
    "duration": 41,
    "start_time": "2023-03-25T19:10:56.654Z"
   },
   {
    "duration": 43186,
    "start_time": "2023-03-25T19:10:56.697Z"
   },
   {
    "duration": 948,
    "start_time": "2023-03-25T19:11:39.885Z"
   },
   {
    "duration": 21,
    "start_time": "2023-03-25T19:11:40.835Z"
   },
   {
    "duration": 12,
    "start_time": "2023-03-25T19:11:40.858Z"
   },
   {
    "duration": 12,
    "start_time": "2023-03-25T19:11:40.872Z"
   },
   {
    "duration": 927,
    "start_time": "2023-03-25T19:11:40.885Z"
   },
   {
    "duration": 9,
    "start_time": "2023-03-25T19:11:41.814Z"
   },
   {
    "duration": 31,
    "start_time": "2023-03-25T19:11:41.824Z"
   },
   {
    "duration": 14,
    "start_time": "2023-03-25T19:11:41.858Z"
   },
   {
    "duration": 5,
    "start_time": "2023-03-25T19:11:41.874Z"
   },
   {
    "duration": 7,
    "start_time": "2023-03-25T19:11:41.881Z"
   },
   {
    "duration": 8,
    "start_time": "2023-03-25T19:11:41.890Z"
   },
   {
    "duration": 7,
    "start_time": "2023-03-25T19:11:41.900Z"
   },
   {
    "duration": 6,
    "start_time": "2023-03-25T19:11:41.909Z"
   },
   {
    "duration": 11,
    "start_time": "2023-03-25T19:11:41.917Z"
   },
   {
    "duration": 11,
    "start_time": "2023-03-25T19:11:41.941Z"
   },
   {
    "duration": 10,
    "start_time": "2023-03-25T19:11:41.953Z"
   },
   {
    "duration": 13,
    "start_time": "2023-03-25T19:11:41.964Z"
   },
   {
    "duration": 124,
    "start_time": "2023-03-25T19:11:41.978Z"
   },
   {
    "duration": 0,
    "start_time": "2023-03-25T19:11:42.104Z"
   },
   {
    "duration": 0,
    "start_time": "2023-03-25T19:11:42.105Z"
   },
   {
    "duration": 0,
    "start_time": "2023-03-25T19:11:42.106Z"
   },
   {
    "duration": 0,
    "start_time": "2023-03-25T19:11:42.107Z"
   },
   {
    "duration": 0,
    "start_time": "2023-03-25T19:11:42.109Z"
   },
   {
    "duration": 0,
    "start_time": "2023-03-25T19:11:42.110Z"
   },
   {
    "duration": 0,
    "start_time": "2023-03-25T19:11:42.111Z"
   },
   {
    "duration": 0,
    "start_time": "2023-03-25T19:11:42.112Z"
   },
   {
    "duration": 0,
    "start_time": "2023-03-25T19:11:42.113Z"
   },
   {
    "duration": 0,
    "start_time": "2023-03-25T19:11:42.114Z"
   },
   {
    "duration": 0,
    "start_time": "2023-03-25T19:11:42.115Z"
   },
   {
    "duration": 0,
    "start_time": "2023-03-25T19:11:42.140Z"
   },
   {
    "duration": 0,
    "start_time": "2023-03-25T19:11:42.144Z"
   },
   {
    "duration": 0,
    "start_time": "2023-03-25T19:11:42.144Z"
   },
   {
    "duration": 0,
    "start_time": "2023-03-25T19:11:42.145Z"
   },
   {
    "duration": 0,
    "start_time": "2023-03-25T19:11:42.153Z"
   },
   {
    "duration": 0,
    "start_time": "2023-03-25T19:11:42.154Z"
   },
   {
    "duration": 0,
    "start_time": "2023-03-25T19:11:42.155Z"
   },
   {
    "duration": 0,
    "start_time": "2023-03-25T19:11:42.157Z"
   },
   {
    "duration": 7,
    "start_time": "2023-03-25T19:12:48.016Z"
   },
   {
    "duration": 10,
    "start_time": "2023-03-25T19:12:48.556Z"
   },
   {
    "duration": 6,
    "start_time": "2023-03-25T19:12:50.093Z"
   },
   {
    "duration": 18,
    "start_time": "2023-03-25T19:12:50.253Z"
   },
   {
    "duration": 23,
    "start_time": "2023-03-25T19:12:50.549Z"
   },
   {
    "duration": 363,
    "start_time": "2023-03-25T19:12:53.012Z"
   },
   {
    "duration": 7,
    "start_time": "2023-03-25T19:12:54.525Z"
   },
   {
    "duration": 7,
    "start_time": "2023-03-25T19:12:55.658Z"
   },
   {
    "duration": 29,
    "start_time": "2023-03-25T19:15:24.653Z"
   },
   {
    "duration": 404,
    "start_time": "2023-03-25T19:15:24.792Z"
   },
   {
    "duration": 8,
    "start_time": "2023-03-25T19:15:25.198Z"
   },
   {
    "duration": 7,
    "start_time": "2023-03-25T19:15:25.320Z"
   },
   {
    "duration": 10,
    "start_time": "2023-03-25T19:15:25.769Z"
   },
   {
    "duration": 9,
    "start_time": "2023-03-25T19:15:25.985Z"
   },
   {
    "duration": 12,
    "start_time": "2023-03-25T19:15:30.870Z"
   },
   {
    "duration": 222,
    "start_time": "2023-03-25T19:15:32.412Z"
   },
   {
    "duration": 1161,
    "start_time": "2023-03-25T19:15:34.834Z"
   },
   {
    "duration": 1593,
    "start_time": "2023-03-25T19:15:35.998Z"
   },
   {
    "duration": 37,
    "start_time": "2023-03-25T19:17:35.371Z"
   },
   {
    "duration": 12,
    "start_time": "2023-03-25T19:17:57.815Z"
   },
   {
    "duration": 49,
    "start_time": "2023-03-25T19:23:20.773Z"
   },
   {
    "duration": 45,
    "start_time": "2023-03-26T17:08:31.059Z"
   },
   {
    "duration": 1498,
    "start_time": "2023-03-26T17:08:38.375Z"
   },
   {
    "duration": 4,
    "start_time": "2023-03-26T17:08:39.875Z"
   },
   {
    "duration": 2681,
    "start_time": "2023-03-26T17:08:39.880Z"
   },
   {
    "duration": 16,
    "start_time": "2023-03-26T17:08:42.563Z"
   },
   {
    "duration": 14,
    "start_time": "2023-03-26T17:08:42.581Z"
   },
   {
    "duration": 6,
    "start_time": "2023-03-26T17:08:42.596Z"
   },
   {
    "duration": 6,
    "start_time": "2023-03-26T17:08:42.603Z"
   },
   {
    "duration": 30,
    "start_time": "2023-03-26T17:08:42.611Z"
   },
   {
    "duration": 14,
    "start_time": "2023-03-26T17:08:42.643Z"
   },
   {
    "duration": 13,
    "start_time": "2023-03-26T17:08:42.659Z"
   },
   {
    "duration": 5,
    "start_time": "2023-03-26T17:08:42.673Z"
   },
   {
    "duration": 68,
    "start_time": "2023-03-26T17:08:42.679Z"
   },
   {
    "duration": 5,
    "start_time": "2023-03-26T17:08:42.952Z"
   },
   {
    "duration": 5,
    "start_time": "2023-03-26T17:08:43.152Z"
   },
   {
    "duration": 34,
    "start_time": "2023-03-26T17:08:43.381Z"
   },
   {
    "duration": 30,
    "start_time": "2023-03-26T17:08:43.595Z"
   },
   {
    "duration": 2559,
    "start_time": "2023-03-26T17:08:43.986Z"
   },
   {
    "duration": 5,
    "start_time": "2023-03-26T17:08:46.547Z"
   },
   {
    "duration": 10,
    "start_time": "2023-03-26T17:08:46.890Z"
   },
   {
    "duration": 9,
    "start_time": "2023-03-26T17:08:47.106Z"
   },
   {
    "duration": 200,
    "start_time": "2023-03-26T17:08:47.705Z"
   },
   {
    "duration": 4,
    "start_time": "2023-03-26T17:08:48.103Z"
   },
   {
    "duration": 4,
    "start_time": "2023-03-26T17:08:48.298Z"
   },
   {
    "duration": 4,
    "start_time": "2023-03-26T17:08:48.502Z"
   },
   {
    "duration": 4,
    "start_time": "2023-03-26T17:08:48.705Z"
   },
   {
    "duration": 4,
    "start_time": "2023-03-26T17:08:48.906Z"
   },
   {
    "duration": 4,
    "start_time": "2023-03-26T17:08:49.099Z"
   },
   {
    "duration": 3,
    "start_time": "2023-03-26T17:08:49.672Z"
   },
   {
    "duration": 4,
    "start_time": "2023-03-26T17:08:49.737Z"
   },
   {
    "duration": 5,
    "start_time": "2023-03-26T17:08:51.272Z"
   },
   {
    "duration": 6,
    "start_time": "2023-03-26T17:08:51.782Z"
   },
   {
    "duration": 6,
    "start_time": "2023-03-26T17:08:51.976Z"
   },
   {
    "duration": 12,
    "start_time": "2023-03-26T17:08:52.177Z"
   },
   {
    "duration": 46,
    "start_time": "2023-03-26T17:08:53.809Z"
   },
   {
    "duration": 2,
    "start_time": "2023-03-26T17:08:54.007Z"
   },
   {
    "duration": 112,
    "start_time": "2023-03-26T17:08:54.212Z"
   },
   {
    "duration": 87,
    "start_time": "2023-03-26T17:08:57.809Z"
   },
   {
    "duration": 1297,
    "start_time": "2023-03-26T17:08:59.802Z"
   },
   {
    "duration": 1196,
    "start_time": "2023-03-26T17:09:22.881Z"
   },
   {
    "duration": 29,
    "start_time": "2023-03-26T17:09:55.542Z"
   },
   {
    "duration": 45,
    "start_time": "2023-03-26T17:10:06.150Z"
   },
   {
    "duration": 130,
    "start_time": "2023-03-26T17:10:27.601Z"
   },
   {
    "duration": 43,
    "start_time": "2023-03-26T17:10:54.426Z"
   },
   {
    "duration": 382,
    "start_time": "2023-03-26T17:22:22.067Z"
   },
   {
    "duration": 338,
    "start_time": "2023-03-26T17:27:13.302Z"
   },
   {
    "duration": 261,
    "start_time": "2023-03-26T17:28:29.235Z"
   },
   {
    "duration": 261,
    "start_time": "2023-03-26T17:28:39.633Z"
   },
   {
    "duration": 6040,
    "start_time": "2023-03-26T17:30:21.756Z"
   },
   {
    "duration": 79,
    "start_time": "2023-03-26T17:31:30.675Z"
   },
   {
    "duration": 156,
    "start_time": "2023-03-26T17:31:57.341Z"
   },
   {
    "duration": 452,
    "start_time": "2023-03-26T17:32:12.655Z"
   },
   {
    "duration": 278,
    "start_time": "2023-03-26T17:34:43.489Z"
   },
   {
    "duration": 6045,
    "start_time": "2023-03-26T17:35:10.197Z"
   },
   {
    "duration": 6257,
    "start_time": "2023-03-26T17:36:44.276Z"
   },
   {
    "duration": 6245,
    "start_time": "2023-03-26T17:37:19.039Z"
   },
   {
    "duration": 75,
    "start_time": "2023-03-26T17:37:51.061Z"
   },
   {
    "duration": 1142,
    "start_time": "2023-03-26T17:40:54.047Z"
   },
   {
    "duration": 390,
    "start_time": "2023-03-26T17:42:06.316Z"
   },
   {
    "duration": 9,
    "start_time": "2023-03-26T17:44:40.917Z"
   },
   {
    "duration": 10,
    "start_time": "2023-03-26T17:44:44.397Z"
   },
   {
    "duration": 12,
    "start_time": "2023-03-26T17:44:45.314Z"
   },
   {
    "duration": 9,
    "start_time": "2023-03-26T17:44:50.046Z"
   },
   {
    "duration": 4,
    "start_time": "2023-03-26T20:01:29.809Z"
   },
   {
    "duration": 4,
    "start_time": "2023-03-26T20:01:29.998Z"
   },
   {
    "duration": 2340,
    "start_time": "2023-03-26T20:01:30.201Z"
   },
   {
    "duration": 13,
    "start_time": "2023-03-26T20:01:32.543Z"
   },
   {
    "duration": 16,
    "start_time": "2023-03-26T20:01:32.560Z"
   },
   {
    "duration": 3,
    "start_time": "2023-03-26T20:01:32.578Z"
   },
   {
    "duration": 7,
    "start_time": "2023-03-26T20:01:32.624Z"
   },
   {
    "duration": 4,
    "start_time": "2023-03-26T20:01:33.044Z"
   },
   {
    "duration": 21,
    "start_time": "2023-03-26T20:01:33.445Z"
   },
   {
    "duration": 14,
    "start_time": "2023-03-26T20:01:33.690Z"
   },
   {
    "duration": 5,
    "start_time": "2023-03-26T20:01:33.856Z"
   },
   {
    "duration": 34,
    "start_time": "2023-03-26T20:01:34.060Z"
   },
   {
    "duration": 5,
    "start_time": "2023-03-26T20:01:34.329Z"
   },
   {
    "duration": 7,
    "start_time": "2023-03-26T20:01:34.466Z"
   },
   {
    "duration": 30,
    "start_time": "2023-03-26T20:01:34.667Z"
   },
   {
    "duration": 31,
    "start_time": "2023-03-26T20:01:34.896Z"
   },
   {
    "duration": 3265,
    "start_time": "2023-03-26T20:01:35.292Z"
   },
   {
    "duration": 8,
    "start_time": "2023-03-26T20:01:38.565Z"
   },
   {
    "duration": 13,
    "start_time": "2023-03-26T20:01:38.925Z"
   },
   {
    "duration": 12,
    "start_time": "2023-03-26T20:01:39.007Z"
   },
   {
    "duration": 249,
    "start_time": "2023-03-26T20:01:40.709Z"
   },
   {
    "duration": 10,
    "start_time": "2023-03-26T20:01:41.140Z"
   },
   {
    "duration": 6,
    "start_time": "2023-03-26T20:01:41.359Z"
   },
   {
    "duration": 5,
    "start_time": "2023-03-26T20:01:41.598Z"
   },
   {
    "duration": 3,
    "start_time": "2023-03-26T20:01:41.795Z"
   },
   {
    "duration": 4,
    "start_time": "2023-03-26T20:01:42.006Z"
   },
   {
    "duration": 4,
    "start_time": "2023-03-26T20:01:42.228Z"
   },
   {
    "duration": 4,
    "start_time": "2023-03-26T20:01:42.437Z"
   },
   {
    "duration": 5,
    "start_time": "2023-03-26T20:01:42.856Z"
   },
   {
    "duration": 4,
    "start_time": "2023-03-26T20:01:44.016Z"
   },
   {
    "duration": 6,
    "start_time": "2023-03-26T20:01:44.214Z"
   },
   {
    "duration": 5,
    "start_time": "2023-03-26T20:01:44.429Z"
   },
   {
    "duration": 23,
    "start_time": "2023-03-26T20:01:44.639Z"
   },
   {
    "duration": 54,
    "start_time": "2023-03-26T20:01:46.115Z"
   },
   {
    "duration": 3,
    "start_time": "2023-03-26T20:01:46.328Z"
   },
   {
    "duration": 98,
    "start_time": "2023-03-26T20:01:46.544Z"
   },
   {
    "duration": 82,
    "start_time": "2023-03-26T20:01:48.035Z"
   },
   {
    "duration": 43,
    "start_time": "2023-03-26T20:01:48.259Z"
   },
   {
    "duration": 52,
    "start_time": "2023-03-26T20:01:48.918Z"
   },
   {
    "duration": 63,
    "start_time": "2023-03-26T20:01:49.127Z"
   },
   {
    "duration": 47006,
    "start_time": "2023-03-26T20:01:49.348Z"
   },
   {
    "duration": 429,
    "start_time": "2023-03-26T20:02:36.358Z"
   },
   {
    "duration": 414,
    "start_time": "2023-03-26T20:02:36.788Z"
   },
   {
    "duration": 348,
    "start_time": "2023-03-26T20:02:37.204Z"
   },
   {
    "duration": 7905,
    "start_time": "2023-03-26T20:02:37.553Z"
   },
   {
    "duration": 932,
    "start_time": "2023-03-26T20:02:45.460Z"
   },
   {
    "duration": 415,
    "start_time": "2023-03-26T20:02:46.394Z"
   },
   {
    "duration": 1139,
    "start_time": "2023-03-26T20:02:46.811Z"
   },
   {
    "duration": 12,
    "start_time": "2023-03-26T20:02:47.953Z"
   },
   {
    "duration": 8,
    "start_time": "2023-03-26T20:02:47.968Z"
   },
   {
    "duration": 10,
    "start_time": "2023-03-26T20:02:47.978Z"
   },
   {
    "duration": 1095,
    "start_time": "2023-03-26T20:02:47.990Z"
   },
   {
    "duration": 10,
    "start_time": "2023-03-26T20:39:56.989Z"
   },
   {
    "duration": 1316,
    "start_time": "2023-03-27T05:46:51.102Z"
   },
   {
    "duration": 5,
    "start_time": "2023-03-27T05:46:52.420Z"
   },
   {
    "duration": 2314,
    "start_time": "2023-03-27T05:46:52.429Z"
   },
   {
    "duration": 14,
    "start_time": "2023-03-27T05:46:54.745Z"
   },
   {
    "duration": 12,
    "start_time": "2023-03-27T05:46:54.761Z"
   },
   {
    "duration": 3,
    "start_time": "2023-03-27T05:46:54.775Z"
   },
   {
    "duration": 6,
    "start_time": "2023-03-27T05:46:54.780Z"
   },
   {
    "duration": 3,
    "start_time": "2023-03-27T05:46:54.787Z"
   },
   {
    "duration": 13,
    "start_time": "2023-03-27T05:46:54.792Z"
   },
   {
    "duration": 12,
    "start_time": "2023-03-27T05:46:54.808Z"
   },
   {
    "duration": 4,
    "start_time": "2023-03-27T05:46:54.822Z"
   },
   {
    "duration": 65,
    "start_time": "2023-03-27T05:46:54.827Z"
   },
   {
    "duration": 4,
    "start_time": "2023-03-27T05:46:54.893Z"
   },
   {
    "duration": 6,
    "start_time": "2023-03-27T05:46:54.899Z"
   },
   {
    "duration": 30,
    "start_time": "2023-03-27T05:46:54.907Z"
   },
   {
    "duration": 50,
    "start_time": "2023-03-27T05:46:54.938Z"
   },
   {
    "duration": 2368,
    "start_time": "2023-03-27T05:46:54.989Z"
   },
   {
    "duration": 11,
    "start_time": "2023-03-27T05:46:57.358Z"
   },
   {
    "duration": 11,
    "start_time": "2023-03-27T05:46:57.370Z"
   },
   {
    "duration": 8,
    "start_time": "2023-03-27T05:46:57.382Z"
   },
   {
    "duration": 215,
    "start_time": "2023-03-27T05:46:57.392Z"
   },
   {
    "duration": 5,
    "start_time": "2023-03-27T05:46:57.608Z"
   },
   {
    "duration": 6,
    "start_time": "2023-03-27T05:46:57.614Z"
   },
   {
    "duration": 10,
    "start_time": "2023-03-27T05:46:57.621Z"
   },
   {
    "duration": 4,
    "start_time": "2023-03-27T05:46:57.633Z"
   },
   {
    "duration": 6,
    "start_time": "2023-03-27T05:46:57.639Z"
   },
   {
    "duration": 26,
    "start_time": "2023-03-27T05:46:57.646Z"
   },
   {
    "duration": 3,
    "start_time": "2023-03-27T05:46:57.676Z"
   },
   {
    "duration": 6,
    "start_time": "2023-03-27T05:46:57.680Z"
   },
   {
    "duration": 5,
    "start_time": "2023-03-27T05:46:57.687Z"
   },
   {
    "duration": 12,
    "start_time": "2023-03-27T05:46:57.693Z"
   },
   {
    "duration": 5,
    "start_time": "2023-03-27T05:46:57.706Z"
   },
   {
    "duration": 11,
    "start_time": "2023-03-27T05:46:57.712Z"
   },
   {
    "duration": 77,
    "start_time": "2023-03-27T05:46:57.725Z"
   },
   {
    "duration": 3,
    "start_time": "2023-03-27T05:46:57.803Z"
   },
   {
    "duration": 85,
    "start_time": "2023-03-27T05:46:57.807Z"
   },
   {
    "duration": 92,
    "start_time": "2023-03-27T05:46:57.894Z"
   },
   {
    "duration": 42,
    "start_time": "2023-03-27T05:46:57.987Z"
   },
   {
    "duration": 155,
    "start_time": "2023-03-27T05:46:58.030Z"
   },
   {
    "duration": 336,
    "start_time": "2023-03-27T05:46:58.186Z"
   },
   {
    "duration": 375,
    "start_time": "2023-03-27T05:46:58.524Z"
   },
   {
    "duration": 351,
    "start_time": "2023-03-27T05:46:58.900Z"
   },
   {
    "duration": 5182,
    "start_time": "2023-03-27T05:46:59.253Z"
   },
   {
    "duration": 952,
    "start_time": "2023-03-27T05:47:04.437Z"
   },
   {
    "duration": 336,
    "start_time": "2023-03-27T05:47:05.391Z"
   },
   {
    "duration": 997,
    "start_time": "2023-03-27T05:47:05.728Z"
   },
   {
    "duration": 7,
    "start_time": "2023-03-27T05:47:06.727Z"
   },
   {
    "duration": 8,
    "start_time": "2023-03-27T05:47:06.735Z"
   },
   {
    "duration": 9,
    "start_time": "2023-03-27T05:47:06.744Z"
   },
   {
    "duration": 781,
    "start_time": "2023-03-27T05:47:06.754Z"
   },
   {
    "duration": 7,
    "start_time": "2023-03-27T05:47:07.537Z"
   },
   {
    "duration": 6,
    "start_time": "2023-03-27T05:47:07.545Z"
   },
   {
    "duration": 4,
    "start_time": "2023-03-27T05:47:07.553Z"
   },
   {
    "duration": 4,
    "start_time": "2023-03-27T05:47:07.559Z"
   },
   {
    "duration": 8,
    "start_time": "2023-03-27T05:47:07.564Z"
   },
   {
    "duration": 5,
    "start_time": "2023-03-27T05:47:07.573Z"
   },
   {
    "duration": 19,
    "start_time": "2023-03-27T05:47:07.579Z"
   },
   {
    "duration": 7,
    "start_time": "2023-03-27T05:47:07.600Z"
   },
   {
    "duration": 6,
    "start_time": "2023-03-27T05:47:07.609Z"
   },
   {
    "duration": 12,
    "start_time": "2023-03-27T05:47:07.617Z"
   },
   {
    "duration": 6,
    "start_time": "2023-03-27T05:47:07.630Z"
   },
   {
    "duration": 11,
    "start_time": "2023-03-27T05:47:07.637Z"
   },
   {
    "duration": 321,
    "start_time": "2023-03-27T05:47:07.649Z"
   },
   {
    "duration": 6,
    "start_time": "2023-03-27T05:47:07.972Z"
   },
   {
    "duration": 6,
    "start_time": "2023-03-27T05:47:07.980Z"
   },
   {
    "duration": 5,
    "start_time": "2023-03-27T05:47:07.987Z"
   },
   {
    "duration": 18,
    "start_time": "2023-03-27T05:47:07.993Z"
   },
   {
    "duration": 21,
    "start_time": "2023-03-27T05:47:08.012Z"
   },
   {
    "duration": 335,
    "start_time": "2023-03-27T05:47:08.035Z"
   },
   {
    "duration": 7,
    "start_time": "2023-03-27T05:47:08.372Z"
   },
   {
    "duration": 9,
    "start_time": "2023-03-27T05:47:08.381Z"
   },
   {
    "duration": 24,
    "start_time": "2023-03-27T05:47:08.391Z"
   },
   {
    "duration": 313,
    "start_time": "2023-03-27T05:47:08.416Z"
   },
   {
    "duration": 6,
    "start_time": "2023-03-27T05:47:08.730Z"
   },
   {
    "duration": 13,
    "start_time": "2023-03-27T05:47:08.738Z"
   },
   {
    "duration": 5,
    "start_time": "2023-03-27T05:47:08.753Z"
   },
   {
    "duration": 13,
    "start_time": "2023-03-27T05:47:08.759Z"
   },
   {
    "duration": 6,
    "start_time": "2023-03-27T05:47:08.773Z"
   },
   {
    "duration": 138,
    "start_time": "2023-03-27T05:47:08.780Z"
   },
   {
    "duration": 170,
    "start_time": "2023-03-27T05:47:08.919Z"
   },
   {
    "duration": 785,
    "start_time": "2023-03-27T05:47:09.090Z"
   },
   {
    "duration": 1274,
    "start_time": "2023-03-27T05:47:09.879Z"
   },
   {
    "duration": 409,
    "start_time": "2023-03-27T05:47:11.155Z"
   },
   {
    "duration": 8,
    "start_time": "2023-03-27T05:56:49.921Z"
   },
   {
    "duration": 7,
    "start_time": "2023-03-27T05:56:50.722Z"
   },
   {
    "duration": 6,
    "start_time": "2023-03-27T05:57:05.949Z"
   },
   {
    "duration": 6,
    "start_time": "2023-03-27T05:57:06.660Z"
   },
   {
    "duration": 5,
    "start_time": "2023-03-27T05:57:13.593Z"
   },
   {
    "duration": 4,
    "start_time": "2023-03-27T05:57:14.613Z"
   },
   {
    "duration": 9,
    "start_time": "2023-03-27T05:58:06.880Z"
   },
   {
    "duration": 7,
    "start_time": "2023-03-27T05:58:52.775Z"
   },
   {
    "duration": 6,
    "start_time": "2023-03-27T05:58:54.385Z"
   },
   {
    "duration": 4,
    "start_time": "2023-03-27T05:58:57.496Z"
   },
   {
    "duration": 4,
    "start_time": "2023-03-27T05:58:58.369Z"
   },
   {
    "duration": 8,
    "start_time": "2023-03-27T05:59:10.400Z"
   },
   {
    "duration": 13,
    "start_time": "2023-03-27T05:59:21.532Z"
   },
   {
    "duration": 360,
    "start_time": "2023-03-27T05:59:22.368Z"
   },
   {
    "duration": 15,
    "start_time": "2023-03-27T06:01:40.663Z"
   },
   {
    "duration": 8,
    "start_time": "2023-03-27T06:02:46.166Z"
   },
   {
    "duration": 9,
    "start_time": "2023-03-27T06:03:02.667Z"
   },
   {
    "duration": 6,
    "start_time": "2023-03-27T06:03:17.641Z"
   },
   {
    "duration": 7,
    "start_time": "2023-03-27T06:03:18.372Z"
   },
   {
    "duration": 253,
    "start_time": "2023-03-27T06:37:20.376Z"
   },
   {
    "duration": 11,
    "start_time": "2023-03-27T06:41:11.750Z"
   },
   {
    "duration": 417,
    "start_time": "2023-03-27T06:41:12.412Z"
   },
   {
    "duration": 6,
    "start_time": "2023-03-27T06:45:51.386Z"
   },
   {
    "duration": 8,
    "start_time": "2023-03-27T06:46:08.797Z"
   },
   {
    "duration": 6,
    "start_time": "2023-03-27T06:46:43.949Z"
   },
   {
    "duration": 8,
    "start_time": "2023-03-27T06:46:46.334Z"
   },
   {
    "duration": 6,
    "start_time": "2023-03-27T06:47:37.898Z"
   },
   {
    "duration": 7,
    "start_time": "2023-03-27T06:48:08.785Z"
   },
   {
    "duration": 7,
    "start_time": "2023-03-27T06:48:10.260Z"
   },
   {
    "duration": 6,
    "start_time": "2023-03-27T06:48:15.635Z"
   },
   {
    "duration": 8,
    "start_time": "2023-03-27T06:48:16.882Z"
   },
   {
    "duration": 74,
    "start_time": "2023-03-27T06:48:39.340Z"
   },
   {
    "duration": 6,
    "start_time": "2023-03-27T06:50:10.607Z"
   },
   {
    "duration": 6,
    "start_time": "2023-03-27T06:50:11.380Z"
   },
   {
    "duration": 20,
    "start_time": "2023-03-27T06:50:19.361Z"
   },
   {
    "duration": 288,
    "start_time": "2023-03-27T06:50:20.020Z"
   },
   {
    "duration": 9,
    "start_time": "2023-03-27T06:50:22.493Z"
   },
   {
    "duration": 6,
    "start_time": "2023-03-27T06:53:43.217Z"
   },
   {
    "duration": 7,
    "start_time": "2023-03-27T06:53:43.981Z"
   },
   {
    "duration": 2,
    "start_time": "2023-03-27T06:54:21.539Z"
   },
   {
    "duration": 18,
    "start_time": "2023-03-27T06:54:45.783Z"
   },
   {
    "duration": 31,
    "start_time": "2023-03-27T06:55:23.051Z"
   },
   {
    "duration": 18,
    "start_time": "2023-03-27T06:55:30.443Z"
   },
   {
    "duration": 298,
    "start_time": "2023-03-27T06:55:33.608Z"
   },
   {
    "duration": 9,
    "start_time": "2023-03-27T06:57:35.384Z"
   },
   {
    "duration": 8,
    "start_time": "2023-03-27T06:58:29.590Z"
   },
   {
    "duration": 6,
    "start_time": "2023-03-27T06:58:32.132Z"
   },
   {
    "duration": 9,
    "start_time": "2023-03-27T06:58:33.082Z"
   },
   {
    "duration": 1282,
    "start_time": "2023-03-27T14:14:42.607Z"
   },
   {
    "duration": 4,
    "start_time": "2023-03-27T14:14:43.891Z"
   },
   {
    "duration": 2530,
    "start_time": "2023-03-27T14:14:43.896Z"
   },
   {
    "duration": 14,
    "start_time": "2023-03-27T14:14:46.428Z"
   },
   {
    "duration": 30,
    "start_time": "2023-03-27T14:14:46.444Z"
   },
   {
    "duration": 9,
    "start_time": "2023-03-27T14:14:46.480Z"
   },
   {
    "duration": 12,
    "start_time": "2023-03-27T14:14:46.491Z"
   },
   {
    "duration": 7,
    "start_time": "2023-03-27T14:14:46.505Z"
   },
   {
    "duration": 21,
    "start_time": "2023-03-27T14:14:46.513Z"
   },
   {
    "duration": 22,
    "start_time": "2023-03-27T14:14:46.536Z"
   },
   {
    "duration": 25,
    "start_time": "2023-03-27T14:14:46.560Z"
   },
   {
    "duration": 37,
    "start_time": "2023-03-27T14:14:46.586Z"
   },
   {
    "duration": 5,
    "start_time": "2023-03-27T14:14:46.625Z"
   },
   {
    "duration": 10,
    "start_time": "2023-03-27T14:14:46.632Z"
   },
   {
    "duration": 58,
    "start_time": "2023-03-27T14:14:46.643Z"
   },
   {
    "duration": 30,
    "start_time": "2023-03-27T14:14:46.702Z"
   },
   {
    "duration": 2611,
    "start_time": "2023-03-27T14:14:46.733Z"
   },
   {
    "duration": 39,
    "start_time": "2023-03-27T14:14:49.348Z"
   },
   {
    "duration": 19,
    "start_time": "2023-03-27T14:14:49.388Z"
   },
   {
    "duration": 9,
    "start_time": "2023-03-27T14:14:49.409Z"
   },
   {
    "duration": 202,
    "start_time": "2023-03-27T14:14:49.419Z"
   },
   {
    "duration": 5,
    "start_time": "2023-03-27T14:14:49.622Z"
   },
   {
    "duration": 6,
    "start_time": "2023-03-27T14:14:49.629Z"
   },
   {
    "duration": 17,
    "start_time": "2023-03-27T14:14:49.651Z"
   },
   {
    "duration": 16,
    "start_time": "2023-03-27T14:14:49.680Z"
   },
   {
    "duration": 3,
    "start_time": "2023-03-27T14:14:49.698Z"
   },
   {
    "duration": 8,
    "start_time": "2023-03-27T14:14:49.703Z"
   },
   {
    "duration": 12,
    "start_time": "2023-03-27T14:14:49.713Z"
   },
   {
    "duration": 22,
    "start_time": "2023-03-27T14:14:49.727Z"
   },
   {
    "duration": 78,
    "start_time": "2023-03-27T14:14:49.751Z"
   },
   {
    "duration": 9,
    "start_time": "2023-03-27T14:14:49.831Z"
   },
   {
    "duration": 9,
    "start_time": "2023-03-27T14:14:49.842Z"
   },
   {
    "duration": 44,
    "start_time": "2023-03-27T14:14:49.858Z"
   },
   {
    "duration": 63,
    "start_time": "2023-03-27T14:14:49.904Z"
   },
   {
    "duration": 2,
    "start_time": "2023-03-27T14:14:49.972Z"
   },
   {
    "duration": 84,
    "start_time": "2023-03-27T14:14:49.976Z"
   },
   {
    "duration": 88,
    "start_time": "2023-03-27T14:14:50.062Z"
   },
   {
    "duration": 44,
    "start_time": "2023-03-27T14:14:50.152Z"
   },
   {
    "duration": 131,
    "start_time": "2023-03-27T14:14:50.198Z"
   },
   {
    "duration": 356,
    "start_time": "2023-03-27T14:14:50.330Z"
   },
   {
    "duration": 353,
    "start_time": "2023-03-27T14:14:50.690Z"
   },
   {
    "duration": 291,
    "start_time": "2023-03-27T14:14:51.045Z"
   },
   {
    "duration": 4963,
    "start_time": "2023-03-27T14:14:51.337Z"
   },
   {
    "duration": 930,
    "start_time": "2023-03-27T14:14:56.302Z"
   },
   {
    "duration": 365,
    "start_time": "2023-03-27T14:14:57.234Z"
   },
   {
    "duration": 921,
    "start_time": "2023-03-27T14:14:57.601Z"
   },
   {
    "duration": 8,
    "start_time": "2023-03-27T14:14:58.524Z"
   },
   {
    "duration": 41,
    "start_time": "2023-03-27T14:14:58.533Z"
   },
   {
    "duration": 27,
    "start_time": "2023-03-27T14:14:58.576Z"
   },
   {
    "duration": 858,
    "start_time": "2023-03-27T14:14:58.604Z"
   },
   {
    "duration": 11,
    "start_time": "2023-03-27T14:14:59.464Z"
   },
   {
    "duration": 43,
    "start_time": "2023-03-27T14:14:59.477Z"
   },
   {
    "duration": 24,
    "start_time": "2023-03-27T14:14:59.521Z"
   },
   {
    "duration": 50,
    "start_time": "2023-03-27T14:14:59.546Z"
   },
   {
    "duration": 37,
    "start_time": "2023-03-27T14:14:59.597Z"
   },
   {
    "duration": 48,
    "start_time": "2023-03-27T14:14:59.636Z"
   },
   {
    "duration": 36,
    "start_time": "2023-03-27T14:14:59.685Z"
   },
   {
    "duration": 54,
    "start_time": "2023-03-27T14:14:59.722Z"
   },
   {
    "duration": 54,
    "start_time": "2023-03-27T14:14:59.779Z"
   },
   {
    "duration": 51,
    "start_time": "2023-03-27T14:14:59.834Z"
   },
   {
    "duration": 31,
    "start_time": "2023-03-27T14:14:59.887Z"
   },
   {
    "duration": 47,
    "start_time": "2023-03-27T14:14:59.920Z"
   },
   {
    "duration": 313,
    "start_time": "2023-03-27T14:14:59.973Z"
   },
   {
    "duration": 10,
    "start_time": "2023-03-27T14:15:00.288Z"
   },
   {
    "duration": 65,
    "start_time": "2023-03-27T14:15:00.299Z"
   },
   {
    "duration": 69,
    "start_time": "2023-03-27T14:15:00.365Z"
   },
   {
    "duration": 63,
    "start_time": "2023-03-27T14:15:00.436Z"
   },
   {
    "duration": 105,
    "start_time": "2023-03-27T14:15:00.501Z"
   },
   {
    "duration": 355,
    "start_time": "2023-03-27T14:15:00.607Z"
   },
   {
    "duration": 14,
    "start_time": "2023-03-27T14:15:00.964Z"
   },
   {
    "duration": 41,
    "start_time": "2023-03-27T14:15:00.984Z"
   },
   {
    "duration": 95,
    "start_time": "2023-03-27T14:15:01.027Z"
   },
   {
    "duration": 361,
    "start_time": "2023-03-27T14:15:01.123Z"
   },
   {
    "duration": 7,
    "start_time": "2023-03-27T14:15:01.485Z"
   },
   {
    "duration": 46,
    "start_time": "2023-03-27T14:15:01.493Z"
   },
   {
    "duration": 595,
    "start_time": "2023-03-27T14:15:01.541Z"
   }
  ],
  "kernelspec": {
   "display_name": "Python 3 (ipykernel)",
   "language": "python",
   "name": "python3"
  },
  "language_info": {
   "codemirror_mode": {
    "name": "ipython",
    "version": 3
   },
   "file_extension": ".py",
   "mimetype": "text/x-python",
   "name": "python",
   "nbconvert_exporter": "python",
   "pygments_lexer": "ipython3",
   "version": "3.9.13"
  },
  "toc": {
   "base_numbering": 1,
   "nav_menu": {},
   "number_sections": true,
   "sideBar": true,
   "skip_h1_title": true,
   "title_cell": "Table of Contents",
   "title_sidebar": "Contents",
   "toc_cell": false,
   "toc_position": {},
   "toc_section_display": true,
   "toc_window_display": false
  }
 },
 "nbformat": 4,
 "nbformat_minor": 5
}
